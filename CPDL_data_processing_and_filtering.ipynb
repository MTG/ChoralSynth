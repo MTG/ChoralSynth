{
 "cells": [
  {
   "cell_type": "code",
   "execution_count": 1,
   "id": "64369768",
   "metadata": {},
   "outputs": [
    {
     "name": "stderr",
     "output_type": "stream",
     "text": [
      "/Users/jyotinarang/essentia_env/lib/python3.9/site-packages/urllib3/__init__.py:34: NotOpenSSLWarning: urllib3 v2.0 only supports OpenSSL 1.1.1+, currently the 'ssl' module is compiled with 'LibreSSL 2.8.3'. See: https://github.com/urllib3/urllib3/issues/3020\n",
      "  warnings.warn(\n"
     ]
    }
   ],
   "source": [
    "import music21\n",
    "import os\n",
    "import glob\n",
    "import json\n",
    "import csv\n",
    "import pandas as pd"
   ]
  },
  {
   "cell_type": "code",
   "execution_count": 2,
   "id": "c372bb3a",
   "metadata": {},
   "outputs": [],
   "source": [
    "#Elaborate on all the filters, provide the results\n",
    "base_dir1 = 'CPDL NO REPEAT_1'\n",
    "base_dir2 = 'CPDL NO REPEAT_2'\n",
    "all_score_files_dir1 = os.listdir(base_dir1)\n",
    "all_score_files_dir2 = os.listdir(base_dir2)"
   ]
  },
  {
   "cell_type": "code",
   "execution_count": 3,
   "id": "4aba8443",
   "metadata": {},
   "outputs": [
    {
     "data": {
      "text/plain": [
       "(353, 536)"
      ]
     },
     "execution_count": 3,
     "metadata": {},
     "output_type": "execute_result"
    }
   ],
   "source": [
    "len(all_score_files_dir1), len(all_score_files_dir2)"
   ]
  },
  {
   "cell_type": "markdown",
   "id": "c3ff0fe5",
   "metadata": {},
   "source": [
    "## We find a total of 353 scores in directory1 and 536 scores in directory 2 i.e. a toal of 889 score files"
   ]
  },
  {
   "cell_type": "markdown",
   "id": "f7d993c9",
   "metadata": {},
   "source": [
    "### Score Filters Criteria"
   ]
  },
  {
   "cell_type": "markdown",
   "id": "5d74985e",
   "metadata": {},
   "source": [
    "### (1) Filter all scores that are not parsable i.e. cannot be read using xml reader using music21"
   ]
  },
  {
   "cell_type": "markdown",
   "id": "d3bfb6ed",
   "metadata": {},
   "source": [
    "### Parse for directory 1"
   ]
  },
  {
   "cell_type": "code",
   "execution_count": 5,
   "id": "3648e09e",
   "metadata": {},
   "outputs": [
    {
     "name": "stderr",
     "output_type": "stream",
     "text": [
      "/Users/jyotinarang/essentia_env/lib/python3.9/site-packages/music21/musicxml/xmlToM21.py:5128: MusicXMLWarning: Could not import wedge: Error in getting DynamicWedges\n",
      "  warnings.warn(f'Could not import {tag}: {excep}', MusicXMLWarning)\n"
     ]
    },
    {
     "name": "stdout",
     "output_type": "stream",
     "text": [
      "Could not parse ['CPDL NO REPEAT_1/EnquirerIngalls1805ax/score.musicxml']\n",
      "Could not parse ['CPDL NO REPEAT_1/134_de_ulenberg_cpdl/score.musicxml']\n",
      "Could not parse ['CPDL NO REPEAT_1/FirmamentRead1793bpr/score.musicxml']\n",
      "Could not parse ['CPDL NO REPEAT_1/FalmouthMaxim1802bpr/score.musicxml']\n",
      "Could not parse ['CPDL NO REPEAT_1/Goodnight_from_the_Rhine_Op/score.musicxml']\n"
     ]
    },
    {
     "name": "stderr",
     "output_type": "stream",
     "text": [
      "/Users/jyotinarang/essentia_env/lib/python3.9/site-packages/music21/musicxml/xmlToM21.py:1986: MusicXMLWarning: The following exception took place in m. 4 in part C..\n",
      "  warnings.warn(\n"
     ]
    },
    {
     "name": "stdout",
     "output_type": "stream",
     "text": [
      "Could not parse ['CPDL NO REPEAT_1/HeadOfTheChurchIngalls1805ax/score.musicxml']\n"
     ]
    },
    {
     "name": "stderr",
     "output_type": "stream",
     "text": [
      "/Users/jyotinarang/essentia_env/lib/python3.9/site-packages/music21/musicxml/xmlToM21.py:1986: MusicXMLWarning: The following exception took place in m. 12 in part C..\n",
      "  warnings.warn(\n"
     ]
    },
    {
     "name": "stdout",
     "output_type": "stream",
     "text": [
      "Could not parse ['CPDL NO REPEAT_1/HarmonyJenks1800bpr/score.musicxml']\n",
      "Could not parse ['CPDL NO REPEAT_1/120_de_ulenberg_cpdl/score.musicxml']\n",
      "Could not parse ['CPDL NO REPEAT_1/Hail_glorious_spirits_Tye/score.musicxml']\n",
      "Could not parse ['CPDL NO REPEAT_1/How_great_is_the_goodness/score.musicxml']\n",
      "Could not parse ['CPDL NO REPEAT_1/Evening_Hiles/score.musicxml']\n"
     ]
    },
    {
     "name": "stderr",
     "output_type": "stream",
     "text": [
      "/Users/jyotinarang/essentia_env/lib/python3.9/site-packages/music21/musicxml/xmlToM21.py:1986: MusicXMLWarning: The following exception took place in m. 2 in part Tr..\n",
      "  warnings.warn(\n"
     ]
    },
    {
     "name": "stdout",
     "output_type": "stream",
     "text": [
      "Could not parse ['CPDL NO REPEAT_1/FluvannaWoodruff1800a/score.musicxml']\n",
      "Could not parse ['CPDL NO REPEAT_1/I_will_arise_Wood/score.musicxml']\n",
      "Could not parse ['CPDL NO REPEAT_1/JudeaHowe1804a/score.musicxml']\n"
     ]
    },
    {
     "name": "stderr",
     "output_type": "stream",
     "text": [
      "/Users/jyotinarang/essentia_env/lib/python3.9/site-packages/music21/musicxml/xmlToM21.py:1986: MusicXMLWarning: The following exception took place in m. 1 in part Tr..\n",
      "  warnings.warn(\n"
     ]
    },
    {
     "name": "stdout",
     "output_type": "stream",
     "text": [
      "Could not parse ['CPDL NO REPEAT_1/Gray_BoS_1_From_Fairest_SABpn/score.musicxml']\n"
     ]
    },
    {
     "name": "stderr",
     "output_type": "stream",
     "text": [
      "/Users/jyotinarang/essentia_env/lib/python3.9/site-packages/music21/musicxml/xmlToM21.py:1986: MusicXMLWarning: The following exception took place in m. 4 in part B..\n",
      "  warnings.warn(\n"
     ]
    },
    {
     "name": "stdout",
     "output_type": "stream",
     "text": [
      "Could not parse ['CPDL NO REPEAT_1/ImpartialSongIngalls1805ax/score.musicxml']\n",
      "Could not parse ['CPDL NO REPEAT_1/Flowers_Zimmermann/score.musicxml']\n",
      "Could not parse ['CPDL NO REPEAT_1/Good_Friday/score.musicxml']\n",
      "Could not parse ['CPDL NO REPEAT_1/GuilfordPilsbury1799bpr/score.musicxml']\n",
      "Could not parse ['CPDL NO REPEAT_1/He_who_ponders/score.musicxml']\n",
      "Could not parse ['CPDL NO REPEAT_1/I_saw_lovely_Phillis_Pearsall/score.musicxml']\n",
      "Could not parse ['CPDL NO REPEAT_1/HatfieldGillet1794bpr/score.musicxml']\n",
      "Could not parse ['CPDL NO REPEAT_1/HollandSwan1801bpr/score.musicxml']\n",
      "Could not parse ['CPDL NO REPEAT_1/Humfrey-A_hymne_to_God_the_Father/score.musicxml']\n",
      "Could not parse ['CPDL NO REPEAT_1/HarmonyIngalls1805ax/score.musicxml']\n",
      "Could not parse ['CPDL NO REPEAT_1/Five_lesser_joys_with_accomp_Warlock/score.musicxml']\n",
      "Could not parse ['CPDL NO REPEAT_1/Gloria_in_F_Stainer/score.musicxml']\n",
      "Could not parse ['CPDL NO REPEAT_1/Haydn_6_psalms_69_o_let_me_in/score.musicxml']\n",
      "Could not parse ['CPDL NO REPEAT_1/136/score.musicxml']\n",
      "Could not parse ['CPDL NO REPEAT_1/Have_mercy_upon_me_MacFarren/score.musicxml']\n",
      "Could not parse ['CPDL NO REPEAT_1/HempCW-TheLordForEver/score.musicxml']\n",
      "Could not parse ['CPDL NO REPEAT_1/Hass-maris/score.musicxml']\n",
      "Could not parse ['CPDL NO REPEAT_1/Evening_song_Schumann/score.musicxml']\n",
      "Could not parse ['CPDL NO REPEAT_1/How_far_is_it_to_Bethlehem_Shaw/score.musicxml']\n"
     ]
    },
    {
     "name": "stderr",
     "output_type": "stream",
     "text": [
      "/Users/jyotinarang/essentia_env/lib/python3.9/site-packages/music21/musicxml/xmlToM21.py:1986: MusicXMLWarning: The following exception took place in m. 8 in part B..\n",
      "  warnings.warn(\n"
     ]
    },
    {
     "name": "stdout",
     "output_type": "stream",
     "text": [
      "Could not parse ['CPDL NO REPEAT_1/JubileeIngalls1805ax/score.musicxml']\n",
      "Could not parse ['CPDL NO REPEAT_1/Hymn_to_Cynthia_Smart/score.musicxml']\n",
      "Could not parse ['CPDL NO REPEAT_1/Evening_Service_in_G/score.musicxml']\n",
      "Could not parse ['CPDL NO REPEAT_1/GileadHolden1806a/score.musicxml']\n",
      "Could not parse ['CPDL NO REPEAT_1/11_descendid/score.musicxml']\n",
      "Could not parse ['CPDL NO REPEAT_1/How_sweet_the_answer_Parry/score.musicxml']\n",
      "Could not parse ['CPDL NO REPEAT_1/Home_that_I_love_Abt/score.musicxml']\n"
     ]
    },
    {
     "name": "stderr",
     "output_type": "stream",
     "text": [
      "/Users/jyotinarang/essentia_env/lib/python3.9/site-packages/music21/musicxml/xmlToM21.py:1986: MusicXMLWarning: The following exception took place in m. 16 in part T..\n",
      "  warnings.warn(\n"
     ]
    },
    {
     "name": "stdout",
     "output_type": "stream",
     "text": [
      "Could not parse ['CPDL NO REPEAT_1/HephzipbahHusband1790a/score.musicxml']\n",
      "Could not parse ['CPDL NO REPEAT_1/Haydn_6_psalms_41_maker_of_all/score.musicxml']\n",
      "Could not parse ['CPDL NO REPEAT_1/Gibbons_Short_Service_in_F_Cantus_and_KBoard_Redux/score.musicxml']\n",
      "Could not parse ['CPDL NO REPEAT_1/For_anyone_who_drinks_-alpha/score.musicxml']\n",
      "Could not parse ['CPDL NO REPEAT_1/HallelujahHymnIngalls1805ax/score.musicxml']\n"
     ]
    },
    {
     "name": "stderr",
     "output_type": "stream",
     "text": [
      "/Users/jyotinarang/essentia_env/lib/python3.9/site-packages/music21/musicxml/xmlToM21.py:1986: MusicXMLWarning: The following exception took place in m. 7 in part C..\n",
      "  warnings.warn(\n"
     ]
    },
    {
     "name": "stdout",
     "output_type": "stream",
     "text": [
      "Could not parse ['CPDL NO REPEAT_1/FellowshipIngalls1805ax/score.musicxml']\n",
      "Could not parse ['CPDL NO REPEAT_1/26_Angelus_Domini/score.musicxml']\n",
      "Could not parse ['CPDL NO REPEAT_1/I_am_the_true_vine/score.musicxml']\n",
      "Could not parse ['CPDL NO REPEAT_1/GreatPhysicianIngalls1805bpr/score.musicxml']\n",
      "Could not parse ['CPDL NO REPEAT_1/HopkintonHolden1796bpr/score.musicxml']\n",
      "Could not parse ['CPDL NO REPEAT_1/Feroci_Deficiente_Vino/score.musicxml']\n",
      "Could not parse ['CPDL NO REPEAT_1/18_Benedictus_es/score.musicxml']\n",
      "Could not parse ['CPDL NO REPEAT_1/Hunting_Song_Smart/score.musicxml']\n",
      "Could not parse ['CPDL NO REPEAT_1/13_delosalamos/score.musicxml']\n",
      "Could not parse ['CPDL NO REPEAT_1/GiffW-HowNumerous/score.musicxml']\n"
     ]
    }
   ],
   "source": [
    "#Script to check the files that can be opened sucessfully using music21!\n",
    "possible_file_type_extensions = ['*.xml', '*.musicxml']\n",
    "total_correct_files = 0\n",
    "correct_file_names = []\n",
    "for score_file in all_score_files_dir1:\n",
    "    if score_file=='.DS_Store':\n",
    "        continue\n",
    "    base_path = os.path.join(base_dir1, score_file)\n",
    "    \n",
    "    for file_extension in possible_file_type_extensions:\n",
    "        musicxml_file = sorted(glob.glob(os.path.join(base_path, file_extension)))\n",
    "        if len(musicxml_file)!= 0:\n",
    "            xml_file_path = musicxml_file[0] \n",
    "    try:\n",
    "        score = music21.converter.parse(xml_file_path)\n",
    "        correct_file_names.append(xml_file_path)\n",
    "    except:\n",
    "        print(\"Could not parse\", musicxml_file)"
   ]
  },
  {
   "cell_type": "markdown",
   "id": "50f1a498",
   "metadata": {},
   "source": [
    "### Parse for directory 2"
   ]
  },
  {
   "cell_type": "code",
   "execution_count": 6,
   "id": "e3a351ae",
   "metadata": {},
   "outputs": [
    {
     "name": "stdout",
     "output_type": "stream",
     "text": [
      "CPDL NO REPEAT_2/WainJ-OCome/score.musicxml\n",
      "CPDL NO REPEAT_2/Vater_unser%2C_SWV_411_Schutz/score.musicxml\n",
      "CPDL NO REPEAT_2/So_ell_encina_Anon/score.musicxml\n",
      "CPDL NO REPEAT_2/VeniCreatorTallis1567bpr/score.musicxml\n",
      "CPDL NO REPEAT_2/O_come%2C_let_us_sing_to_the_Lord_Tours/score.musicxml\n",
      "CPDL NO REPEAT_2/Luna_Barnby/score.musicxml\n",
      "CPDL NO REPEAT_2/MontvilleWoodruff1800bpr/score.musicxml\n",
      "CPDL NO REPEAT_2/Ws-trad-cua/score.musicxml\n",
      "CPDL NO REPEAT_2/MassJ-HeThatHasMade/score.musicxml\n",
      "CPDL NO REPEAT_2/Tard-cum/score.musicxml\n",
      "CPDL NO REPEAT_2/Nh_Schumann_Rotes_R%C3%B6sleint/score.musicxml\n",
      "CPDL NO REPEAT_2/Ws-pal-ave1/score.musicxml\n",
      "CPDL NO REPEAT_2/Lo%21_the_peaceful_shades_of_evening_Hatton/score.musicxml\n",
      "CPDL NO REPEAT_2/The_Lord_anointed/score.musicxml\n",
      "CPDL NO REPEAT_2/Vierne_-_Ave_Maria/score.musicxml\n",
      "CPDL NO REPEAT_2/Wann_unsre_Augen_schlafe_ein_Schutz/score.musicxml\n",
      "CPDL NO REPEAT_2/Veitch_I_heard_the_bells_on_Christmas_Day/score.musicxml\n",
      "CPDL NO REPEAT_2/Look_toward_the_Lord/score.musicxml\n",
      "CPDL NO REPEAT_2/Walmisley_Double_Chant_A_major/score.musicxml\n",
      "CPDL NO REPEAT_2/Ws-pero-av2/score.musicxml\n",
      "CPDL NO REPEAT_2/Ws-skra-mdl/score.musicxml\n",
      "CPDL NO REPEAT_2/StClair-BrightAndDeep/score.musicxml\n",
      "CPDL NO REPEAT_2/M_Jhan_Abeuntes/score.musicxml\n",
      "CPDL NO REPEAT_2/Lead_me%2C_Lord_Wesley_SS/score.musicxml\n",
      "CPDL NO REPEAT_2/O_Hilf_Christe/score.musicxml\n",
      "CPDL NO REPEAT_2/Now_cease_my_wand%27ring_eyes_Dowland/score.musicxml\n",
      "CPDL NO REPEAT_2/Nh_Eisenhofer_Lebensgenuss/score.musicxml\n",
      "CPDL NO REPEAT_2/O_God%2C_who_by_the_leading_of_a_star/score.musicxml\n",
      "CPDL NO REPEAT_2/O_Jerusalem%2C_glorify/score.musicxml\n",
      "CPDL NO REPEAT_2/Layolle-Agnus_Dei/score.musicxml\n",
      "CPDL NO REPEAT_2/The_eyes_of_all/score.musicxml\n",
      "CPDL NO REPEAT_2/The_earth_is_the_Lords_Monk_WH/score.musicxml\n",
      "CPDL NO REPEAT_2/Mh-HoeKWir-Kommt_wir_gehn/score.musicxml\n",
      "CPDL NO REPEAT_2/Terry_I_sing_of_a_Mayden/score.musicxml\n",
      "CPDL NO REPEAT_2/Von_Gott_will_ich_nicht_lassen%2C_SWV_366_Schutz/score.musicxml\n",
      "CPDL NO REPEAT_2/The_letter_Hatton/score.musicxml\n",
      "CPDL NO REPEAT_2/Lo%2C_country_sports/score.musicxml\n",
      "CPDL NO REPEAT_2/Nh_Abt_%C3%9Cber_den_Sternen_SATB/score.musicxml\n",
      "CPDL NO REPEAT_2/Ye_nations%2C_offer_to_the_Lord/score.musicxml\n",
      "CPDL NO REPEAT_2/Love_your_enemies_MacFarren/score.musicxml\n",
      "CPDL NO REPEAT_2/ShouJ-LordWhenICount/score.musicxml\n",
      "CPDL NO REPEAT_2/Not_unto_us%2C_O_Lord_MacFarren/score.musicxml\n",
      "CPDL NO REPEAT_2/Nh_Tauwitz_Zum_Erntekranze/score.musicxml\n",
      "CPDL NO REPEAT_2/Mendelssohn_75-1/score.musicxml\n",
      "CPDL NO REPEAT_2/Love_is_a_Sickness/score.musicxml\n",
      "CPDL NO REPEAT_2/O_can_ye_sow/score.musicxml\n",
      "CPDL NO REPEAT_2/The_moorland_witch_Hecht/score.musicxml\n",
      "CPDL NO REPEAT_2/UA_Schein_016_geborn_ist_uns_der_herre_christ/score.musicxml\n",
      "CPDL NO REPEAT_2/Viel_werden_kommen_von_Morgen_Schutz/score.musicxml\n",
      "CPDL NO REPEAT_2/Nh_Schubert_Der_Entfernten/score.musicxml\n",
      "CPDL NO REPEAT_2/Nh_Lechner_Allein_zu_dir/score.musicxml\n",
      "CPDL NO REPEAT_2/Mh-Wirsind-Wir_sind_nur_Gast/score.musicxml\n",
      "CPDL NO REPEAT_2/Tomkins_-_Deal_with_me_SAT/score.musicxml\n",
      "CPDL NO REPEAT_2/Verkaik-I%27ll_tell_me_ma/score.musicxml\n",
      "CPDL NO REPEAT_2/Trad.-By_and_by/score.musicxml\n",
      "CPDL NO REPEAT_2/Lassus-Diligam_te_3v/score.musicxml\n",
      "CPDL NO REPEAT_2/The_earth_is_replete/score.musicxml\n",
      "CPDL NO REPEAT_2/Nh_Franz_53_3_T%C3%A4nnlein/score.musicxml\n",
      "CPDL NO REPEAT_2/Nh_Silcher_Burschenlust/score.musicxml\n",
      "CPDL NO REPEAT_2/Men_of_Harlech/score.musicxml\n",
      "CPDL NO REPEAT_2/UA_Schein_005a_vom_himmel_hoch/score.musicxml\n",
      "CPDL NO REPEAT_2/MaroneckHolyoke1803a/score.musicxml\n",
      "CPDL NO REPEAT_2/Wuellner_Kindelein/score.musicxml\n",
      "CPDL NO REPEAT_2/Verleih_uns_Frieden_gen%C3%A4diglich_Schutz/score.musicxml\n",
      "CPDL NO REPEAT_2/The_Lord_reigneth_MacFarren/score.musicxml\n",
      "CPDL NO REPEAT_2/LibertyHallLChapin1810a/score.musicxml\n",
      "CPDL NO REPEAT_2/Ws-mend-483/score.musicxml\n",
      "CPDL NO REPEAT_2/Nh_Gregor_Gnade/score.musicxml\n",
      "CPDL NO REPEAT_2/Tallis-LikeAs/score.musicxml\n",
      "CPDL NO REPEAT_2/London_town_German/score.musicxml\n",
      "CPDL NO REPEAT_2/The_water-lily_Gade/score.musicxml\n",
      "CPDL NO REPEAT_2/Zeuner-Aus_tiefer_Not_schrei_ich_zu_dir/score.musicxml\n",
      "CPDL NO REPEAT_2/ZMaria-Jungfrau_rein/score.musicxml\n",
      "CPDL NO REPEAT_2/Love%27s_question_and_reply_Grant/score.musicxml\n",
      "CPDL NO REPEAT_2/My_song_is_love_unknown/score.musicxml\n",
      "CPDL NO REPEAT_2/Ninety-FifthBrownson1783a/score.musicxml\n",
      "CPDL NO REPEAT_2/LlamanATeresica/score.musicxml\n",
      "CPDL NO REPEAT_2/Laterne/score.musicxml\n",
      "CPDL NO REPEAT_2/Scheidt-Aus_tiefer_Not/score.musicxml\n",
      "CPDL NO REPEAT_2/ValeJ-ILiftMyHeart/score.musicxml\n",
      "CPDL NO REPEAT_2/MoreenSwan1801bpr/score.musicxml\n",
      "CPDL NO REPEAT_2/Wert-Cum_intrasset_Jesus/score.musicxml\n",
      "CPDL NO REPEAT_2/Nh_Hauptmann_Sommermorgen/score.musicxml\n",
      "CPDL NO REPEAT_2/Te_Deum_in_C_Nares/score.musicxml\n",
      "CPDL NO REPEAT_2/Walther_-_Joseph%2C_lieber_Joseph_mein_-_pf/score.musicxml\n",
      "CPDL NO REPEAT_2/Nh_Billeter_Maien/score.musicxml\n",
      "Could not parse ['CPDL NO REPEAT_2/LordWillProvideIngalls1805ax/score.musicxml']\n",
      "CPDL NO REPEAT_2/Nh_Bortniansky_Hark_the_vesper_hymn/score.musicxml\n"
     ]
    },
    {
     "name": "stderr",
     "output_type": "stream",
     "text": [
      "/Users/jyotinarang/essentia_env/lib/python3.9/site-packages/music21/musicxml/xmlToM21.py:1986: MusicXMLWarning: The following exception took place in m. 10 in part Tr..\n",
      "  warnings.warn(\n"
     ]
    },
    {
     "name": "stdout",
     "output_type": "stream",
     "text": [
      "CPDL NO REPEAT_2/MorganWSmith1803a/score.musicxml\n",
      "CPDL NO REPEAT_2/Upton-Bread/score.musicxml\n",
      "CPDL NO REPEAT_2/Nh_Gl%C3%A4ser_Lobet/score.musicxml\n",
      "CPDL NO REPEAT_2/Verrijt-Ave_dulcis_Iesu/score.musicxml\n",
      "CPDL NO REPEAT_2/WoO_74_Wanderers_Nachtlied-Rheinberger-A-Kl/score.musicxml\n",
      "CPDL NO REPEAT_2/Nh_Vulpius_Nun_komm/score.musicxml\n",
      "CPDL NO REPEAT_2/Love_not_me_for_comely_grace/score.musicxml\n",
      "CPDL NO REPEAT_2/Lord_it_belongs_not_to_my_care_Davies/score.musicxml\n",
      "CPDL NO REPEAT_2/O_Christ%2C_O_blessed_Lord_Wagner/score.musicxml\n",
      "CPDL NO REPEAT_2/Love_me_little_Wilson/score.musicxml\n",
      "CPDL NO REPEAT_2/Nh_Dorn_Fichtenbaum/score.musicxml\n",
      "CPDL NO REPEAT_2/So_weich_und_warm_Cornelius/score.musicxml\n",
      "CPDL NO REPEAT_2/The_Lord_is_my_light_Lawes/score.musicxml\n",
      "CPDL NO REPEAT_2/Nh_Staden_Gelobet/score.musicxml\n",
      "CPDL NO REPEAT_2/Moonlight_jf/score.musicxml\n",
      "CPDL NO REPEAT_2/Thiele_Double_Chant_A_minor/score.musicxml\n",
      "CPDL NO REPEAT_2/Now_fie_on_love_MacFarren/score.musicxml\n",
      "CPDL NO REPEAT_2/Nh_Abt_Verlass_mich_nicht/score.musicxml\n",
      "CPDL NO REPEAT_2/ShouJ-TheLordJehovahReigns/score.musicxml\n",
      "CPDL NO REPEAT_2/Nh_Stadler_gro%C3%9Fer_Gott/score.musicxml\n",
      "CPDL NO REPEAT_2/Zum_schluss%2C_op.65_no.15_Brahms/score.musicxml\n",
      "CPDL NO REPEAT_2/Nh_Longueval_Benedicat/score.musicxml\n",
      "CPDL NO REPEAT_2/The_fishing_boat_Hatton/score.musicxml\n",
      "CPDL NO REPEAT_2/O_God_whose_nature/score.musicxml\n",
      "CPDL NO REPEAT_2/Let_the_people_praise_Thee_O_God_Hastings/score.musicxml\n",
      "CPDL NO REPEAT_2/Mh-AchWann-Ach_wann_kommen/score.musicxml\n",
      "CPDL NO REPEAT_2/Nh_Jansen_Fr%C3%BChlingslied/score.musicxml\n",
      "CPDL NO REPEAT_2/Tollius-Accipite_et_manducate/score.musicxml\n",
      "CPDL NO REPEAT_2/MorningStarCarrell1821bpr/score.musicxml\n",
      "CPDL NO REPEAT_2/Nh_Gersbach_In_blauer_Luft/score.musicxml\n",
      "CPDL NO REPEAT_2/Now_is_come_salvation_Harris/score.musicxml\n",
      "CPDL NO REPEAT_2/The_last_night_of_the_year/score.musicxml\n",
      "CPDL NO REPEAT_2/Schicht%2C_Die_mit_Thr%C3%A4nen_s%C3%A4en_20/score.musicxml\n",
      "CPDL NO REPEAT_2/Of-man-and-wife-cpdl/score.musicxml\n",
      "CPDL NO REPEAT_2/Serveto_cf_2016/score.musicxml\n",
      "CPDL NO REPEAT_2/Lo_star-led_chiefs/score.musicxml\n",
      "CPDL NO REPEAT_2/Nh_Loewe_Im_Fr%C3%BChling/score.musicxml\n",
      "CPDL NO REPEAT_2/The_nightingale_Ferrabosco/score.musicxml\n",
      "CPDL NO REPEAT_2/Ws-mart-dex/score.musicxml\n",
      "CPDL NO REPEAT_2/The_day_of_love_Mackenzie/score.musicxml\n",
      "CPDL NO REPEAT_2/Zu_dir_von_herzensgrunde_Lasso/score.musicxml\n",
      "CPDL NO REPEAT_2/Lead%2C_kindly_light_Sullivan/score.musicxml\n",
      "CPDL NO REPEAT_2/Turle_Double_in_G_major_III/score.musicxml\n",
      "CPDL NO REPEAT_2/Kuhn-all2/score.musicxml\n",
      "CPDL NO REPEAT_2/Nh_ZumsteegE_Alplied/score.musicxml\n",
      "CPDL NO REPEAT_2/Schubert_-_hirtenchor/score.musicxml\n",
      "CPDL NO REPEAT_2/The_Lord_is_my_light_MacFarren/score.musicxml\n",
      "CPDL NO REPEAT_2/Nh_Haller_Confitebor/score.musicxml\n",
      "CPDL NO REPEAT_2/Love_%28III%29/score.musicxml\n",
      "CPDL NO REPEAT_2/NewingtonHolyoke1803bpr/score.musicxml\n",
      "CPDL NO REPEAT_2/Nh_Spohr_Praise_his_awful/score.musicxml\n",
      "CPDL NO REPEAT_2/Will-congratulamini/score.musicxml\n",
      "CPDL NO REPEAT_2/Nh_Speidel_Weiden/score.musicxml\n",
      "CPDL NO REPEAT_2/Let_us_not_be_weary_MacFarren/score.musicxml\n",
      "CPDL NO REPEAT_2/L%C3%BCbeck%2C_Vincent_Willkommen%2C_s%C3%BCsser_Br%C3%A4utigam_p%2Bst./score.musicxml\n",
      "CPDL NO REPEAT_2/LangdonMoors1809bpr/score.musicxml\n",
      "CPDL NO REPEAT_2/Was_betrubst_du_dich%2C_SWV_335_Schutz/score.musicxml\n",
      "CPDL NO REPEAT_2/Nh_Aiblinger_Maik%C3%B6nigin/score.musicxml\n",
      "CPDL NO REPEAT_2/Soledad_tengo_de_ti_Vasquez/score.musicxml\n",
      "CPDL NO REPEAT_2/Unser_keiner_lebet_sich_selber_Schutz/score.musicxml\n",
      "CPDL NO REPEAT_2/Weelkes-My_Phillis_bids_me_pack_away/score.musicxml\n",
      "CPDL NO REPEAT_2/LeghornSwan1801bpr/score.musicxml\n",
      "CPDL NO REPEAT_2/When_woods_are_glowing_Hensel/score.musicxml\n",
      "Could not parse ['CPDL NO REPEAT_2/NewEnglandGillet1781a/score.musicxml']\n"
     ]
    },
    {
     "name": "stderr",
     "output_type": "stream",
     "text": [
      "/Users/jyotinarang/essentia_env/lib/python3.9/site-packages/music21/musicxml/xmlToM21.py:1986: MusicXMLWarning: The following exception took place in m. 4 in part Tr..\n",
      "  warnings.warn(\n"
     ]
    },
    {
     "name": "stdout",
     "output_type": "stream",
     "text": [
      "CPDL NO REPEAT_2/Land-ho_Leslie/score.musicxml\n",
      "CPDL NO REPEAT_2/The_hemlock_tree_ATTB_Hatton/score.musicxml\n",
      "CPDL NO REPEAT_2/Lassus_Agimus_tibi_gratias/score.musicxml\n",
      "CPDL NO REPEAT_2/Victoria_asperges_me/score.musicxml\n",
      "CPDL NO REPEAT_2/Lord%2C_I_have_loved_the_habitation_Torrance/score.musicxml\n",
      "CPDL NO REPEAT_2/Ws-albe-tag/score.musicxml\n",
      "CPDL NO REPEAT_2/My_days_are_gone_like_a_shadow_Blow/score.musicxml\n",
      "CPDL NO REPEAT_2/Ws-stet-bea/score.musicxml\n",
      "CPDL NO REPEAT_2/Weelkes_-_Most_mighty_and_all-knowing_Lord/score.musicxml\n",
      "CPDL NO REPEAT_2/MentzHolyoke1797bpr/score.musicxml\n",
      "CPDL NO REPEAT_2/O_Fools%21_can_you_not_see_orig/score.musicxml\n",
      "CPDL NO REPEAT_2/Tollius-Audite%2C_stirps_Levitica/score.musicxml\n",
      "CPDL NO REPEAT_2/The_unknown_land_tr_Hensel/score.musicxml\n",
      "CPDL NO REPEAT_2/Tollius-Accipite_Spiritum_sanctum/score.musicxml\n",
      "CPDL NO REPEAT_2/WhitWJ-ISendTheJoys-nokeyb/score.musicxml\n",
      "CPDL NO REPEAT_2/NorwayShaw1815bpr/score.musicxml\n",
      "CPDL NO REPEAT_2/Kuhnau-JS-Bach-Der-gerechte_Choeur/score.musicxml\n",
      "CPDL NO REPEAT_2/Nh_Klein_Hoch_tut_euch_auf/score.musicxml\n",
      "CPDL NO REPEAT_2/Let_the_words_of_my_mouth_Barnby/score.musicxml\n",
      "CPDL NO REPEAT_2/Nh_Drese_Seelenbr%C3%A4utigam/score.musicxml\n",
      "CPDL NO REPEAT_2/Nh_Rinck_Selig_Erben_SATB/score.musicxml\n",
      "CPDL NO REPEAT_2/Lady%2C_rise%2C_sweet_morn%27s_awaking_Smart/score.musicxml\n",
      "CPDL NO REPEAT_2/Trad.-Lay_this_body_down/score.musicxml\n",
      "CPDL NO REPEAT_2/LondonSwan1801bpr/score.musicxml\n",
      "CPDL NO REPEAT_2/SmitJ-GreatIsTheLord/score.musicxml\n",
      "CPDL NO REPEAT_2/Key-InTrouble/score.musicxml\n",
      "CPDL NO REPEAT_2/MiddleburyHumphreys1820a/score.musicxml\n",
      "CPDL NO REPEAT_2/Looking_for_Spring_Lloyd/score.musicxml\n",
      "CPDL NO REPEAT_2/Mh-GroGott-Grosser_Gott/score.musicxml\n",
      "CPDL NO REPEAT_2/V.19_Adoramus_te%2C_Christe/score.musicxml\n",
      "CPDL NO REPEAT_2/The_disciples_recognized/score.musicxml\n",
      "CPDL NO REPEAT_2/Wolf_Grablied/score.musicxml\n",
      "CPDL NO REPEAT_2/Lovers%27_parting_Macfarren_WC/score.musicxml\n",
      "CPDL NO REPEAT_2/Ziel_adoramus/score.musicxml\n",
      "CPDL NO REPEAT_2/The_joys_of_Spring_Smart/score.musicxml\n",
      "CPDL NO REPEAT_2/Verkaik-Freedom/score.musicxml\n",
      "CPDL NO REPEAT_2/Nh_Schumann_Erstes_Gr%C3%BCn/score.musicxml\n",
      "CPDL NO REPEAT_2/Mein_Herz_ist_bereit%2C_SWV_341_Schutz/score.musicxml\n",
      "CPDL NO REPEAT_2/O_komm_emanuel_en/score.musicxml\n",
      "CPDL NO REPEAT_2/Let_us_now_go_Hopkins/score.musicxml\n",
      "CPDL NO REPEAT_2/Thiel_Elslein/score.musicxml\n",
      "CPDL NO REPEAT_2/O_God%2C_Thou_art_worthy_Sullivan/score.musicxml\n",
      "CPDL NO REPEAT_2/Wo_Gott_der_Herr%2C_SWV_467_Schutz/score.musicxml\n",
      "CPDL NO REPEAT_2/SchK-Kum/score.musicxml\n",
      "CPDL NO REPEAT_2/Nh_Ailblinger_Mutter_Gottes/score.musicxml\n",
      "CPDL NO REPEAT_2/Nh_Silcher_V%C3%B6glein_im_hohen/score.musicxml\n",
      "CPDL NO REPEAT_2/KeyJ-ISet/score.musicxml\n",
      "CPDL NO REPEAT_2/WindJ-HesBlestWhose-nokeyb/score.musicxml\n",
      "CPDL NO REPEAT_2/Nh_KotheW_B%C3%A4chlein/score.musicxml\n",
      "CPDL NO REPEAT_2/Let_all_men_praise_the_Lord/score.musicxml\n",
      "CPDL NO REPEAT_2/Talismane%2C_op.141_no.4_Schumann/score.musicxml\n",
      "CPDL NO REPEAT_2/Nh_Fesca_Blessed/score.musicxml\n",
      "CPDL NO REPEAT_2/Nh_Hiller_Gute_Nacht/score.musicxml\n",
      "CPDL NO REPEAT_2/Not_for_me_the_lark_is_singing_Hatton_tr/score.musicxml\n",
      "CPDL NO REPEAT_2/Vier-ach/score.musicxml\n",
      "CPDL NO REPEAT_2/Nh_Mendelssohn_Op19a%2C5/score.musicxml\n",
      "CPDL NO REPEAT_2/Nh_Gersbach_Mond_aufgegangen/score.musicxml\n",
      "CPDL NO REPEAT_2/Nh_D%C3%BCrrner_Fr%C3%BChlingslied/score.musicxml\n",
      "CPDL NO REPEAT_2/Tollius-Dixit_Dominus/score.musicxml\n",
      "CPDL NO REPEAT_2/Morning_Smart/score.musicxml\n",
      "CPDL NO REPEAT_2/Wilburn-Agnus_Dei/score.musicxml\n",
      "CPDL NO REPEAT_2/Now_the_bright_morning_star_Pierson/score.musicxml\n",
      "CPDL NO REPEAT_2/Now_unto_Him_-_Mason/score.musicxml\n",
      "CPDL NO REPEAT_2/Vulpius_Gelobt/score.musicxml\n",
      "CPDL NO REPEAT_2/Ws-via-cmag/score.musicxml\n",
      "CPDL NO REPEAT_2/Tollius-Beatus_vir%2C_qui_suffert/score.musicxml\n",
      "CPDL NO REPEAT_2/Thiele_Double_Chant_B_flat_major/score.musicxml\n",
      "CPDL NO REPEAT_2/Tollius-Dies_mei_transierunt/score.musicxml\n",
      "Could not parse ['CPDL NO REPEAT_2/MortalityBelknap1806ax/score.musicxml']\n",
      "CPDL NO REPEAT_2/Kyrie_Gott_Vater_in_Ewigkeit_Schutz_tr/score.musicxml\n",
      "CPDL NO REPEAT_2/Nh_Hegar_Waldlied/score.musicxml\n",
      "CPDL NO REPEAT_2/Wohl_dem%2C_der_nicht_wandelt%2C_SWV_290_Schutz/score.musicxml\n",
      "CPDL NO REPEAT_2/Vulpius_Uns_ist_ein_Kind_geboren/score.musicxml\n",
      "CPDL NO REPEAT_2/Tollius-Decantabat_populus_laudem_Deo/score.musicxml\n",
      "CPDL NO REPEAT_2/Let_not_your_heart_be_troubled_Foster/score.musicxml\n",
      "CPDL NO REPEAT_2/The_brook_Reissiger_tr/score.musicxml\n",
      "CPDL NO REPEAT_2/Let_your_face/score.musicxml\n",
      "CPDL NO REPEAT_2/Nh_Schwalm_Lenz_angekommen/score.musicxml\n",
      "CPDL NO REPEAT_2/O_gladsome_light/score.musicxml\n",
      "CPDL NO REPEAT_2/Nh_Z%C3%B6llnerA_Lied_Liebe/score.musicxml\n",
      "CPDL NO REPEAT_2/Mh-SchiDeu-Deutsche_Messe/score.musicxml\n",
      "CPDL NO REPEAT_2/Vulpius-Der_Engel_bringt_wahren_Bericht/score.musicxml\n",
      "CPDL NO REPEAT_2/Weelk-thegods/score.musicxml\n",
      "CPDL NO REPEAT_2/ZMaria-Blick/score.musicxml\n",
      "CPDL NO REPEAT_2/Make_me_a_clean_heart_ta/score.musicxml\n",
      "CPDL NO REPEAT_2/Ws-macc-all/score.musicxml\n",
      "CPDL NO REPEAT_2/Nanino-Audi%2C_benigne_Conditor/score.musicxml\n",
      "CPDL NO REPEAT_2/Nh_SchulzFA_St%C3%A4ndchen/score.musicxml\n",
      "CPDL NO REPEAT_2/NewtJ-ComeWeThatLove-Concord-nokeyb/score.musicxml\n",
      "CPDL NO REPEAT_2/Loveliest_of_Trees_Duke_SATB/score.musicxml\n",
      "CPDL NO REPEAT_2/Vierendeels-Cum_luce_prima/score.musicxml\n",
      "CPDL NO REPEAT_2/The_Haven_Barnby/score.musicxml\n",
      "CPDL NO REPEAT_2/Lasso-Mein_einiger_Trost/score.musicxml\n",
      "CPDL NO REPEAT_2/Weelkes_-_Short_service/score.musicxml\n",
      "CPDL NO REPEAT_2/MachiasMaxim1802bpr/score.musicxml\n",
      "CPDL NO REPEAT_2/MorningHymnWest1802a/score.musicxml\n",
      "CPDL NO REPEAT_2/Nh_Schildknecht_Domine_exaudi/score.musicxml\n",
      "CPDL NO REPEAT_2/Let_my_prayer_Blow/score.musicxml\n",
      "CPDL NO REPEAT_2/Verkaik-Ill_fares_the_land/score.musicxml\n",
      "CPDL NO REPEAT_2/Ws-han-m42c/score.musicxml\n",
      "CPDL NO REPEAT_2/MassachusettsFrench1789bpr/score.musicxml\n",
      "CPDL NO REPEAT_2/My_God%2C_look_upon_me/score.musicxml\n",
      "CPDL NO REPEAT_2/Listenius-Certa_fortiter/score.musicxml\n",
      "CPDL NO REPEAT_2/La_caricia_adormece/score.musicxml\n",
      "CPDL NO REPEAT_2/LinlO-AsPantsTheHart/score.musicxml\n",
      "CPDL NO REPEAT_2/The_lark_Hatton/score.musicxml\n",
      "CPDL NO REPEAT_2/Nh_Reichardt_Fr%C3%BChlingslied/score.musicxml\n",
      "CPDL NO REPEAT_2/O_how_amiable_MacFarren/score.musicxml\n",
      "CPDL NO REPEAT_2/The_Cruiskeen_lawn_Stewart/score.musicxml\n",
      "CPDL NO REPEAT_2/Santos_avemstel/score.musicxml\n",
      "CPDL NO REPEAT_2/Weelkes-My_tears_do_not_avail_me/score.musicxml\n",
      "CPDL NO REPEAT_2/The_eyes_of_all_wait_on_Thee_Elvey/score.musicxml\n",
      "CPDL NO REPEAT_2/Lassus-Domine_Deus_meus/score.musicxml\n",
      "CPDL NO REPEAT_2/O-tempora-o-verba-modern-edition/score.musicxml\n",
      "CPDL NO REPEAT_2/O_God_my_King/score.musicxml\n",
      "CPDL NO REPEAT_2/Music%2C_all_powerful_Walmisley_TF/score.musicxml\n",
      "CPDL NO REPEAT_2/The_Lord_is_my_rock/score.musicxml\n",
      "CPDL NO REPEAT_2/MassJ-ComeHither/score.musicxml\n",
      "CPDL NO REPEAT_2/Now_Berger/score.musicxml\n",
      "CPDL NO REPEAT_2/Valls-bea5/score.musicxml\n",
      "CPDL NO REPEAT_2/Ws-fuh-2966/score.musicxml\n",
      "CPDL NO REPEAT_2/Tomkins_-_Arise%2C_O_Lord%2C_and_have_mercy/score.musicxml\n",
      "CPDL NO REPEAT_2/Nh_Gl%C3%A4ser_Engel/score.musicxml\n",
      "CPDL NO REPEAT_2/Weelkes_-_O_care%2C_thou_wilt_despatch_me/score.musicxml\n",
      "CPDL NO REPEAT_2/Weelkes-Lady%2C_your_spotless_feature/score.musicxml\n",
      "CPDL NO REPEAT_2/The_Lord_is_my_shepherd_-_communion/score.musicxml\n",
      "CPDL NO REPEAT_2/Lamp_of_our_feet/score.musicxml\n",
      "CPDL NO REPEAT_2/Ninety-ThirdLChapin1812bpr/score.musicxml\n",
      "CPDL NO REPEAT_2/O_Lord_my_God_Wesley_SS/score.musicxml\n",
      "CPDL NO REPEAT_2/The_bishop_of_Mentz_Pearsall/score.musicxml\n",
      "CPDL NO REPEAT_2/Wert-Amen%2C_amen_dico_vobis/score.musicxml\n",
      "CPDL NO REPEAT_2/Ws-capi-auf/score.musicxml\n",
      "CPDL NO REPEAT_2/Nh_Witt_Tollite_portas/score.musicxml\n",
      "CPDL NO REPEAT_2/Virgen_bendita_Escobar/score.musicxml\n",
      "CPDL NO REPEAT_2/My_voice_shalt_thou_hear_-_Goss/score.musicxml\n",
      "CPDL NO REPEAT_2/MilburyHolyoke1791bpr/score.musicxml\n",
      "CPDL NO REPEAT_2/Matucci_Audi_Benigne/score.musicxml\n",
      "CPDL NO REPEAT_2/Nh_Weber_Schlummerlied/score.musicxml\n",
      "CPDL NO REPEAT_2/Tanzen_und_springen_Hassler/score.musicxml\n",
      "CPDL NO REPEAT_2/Ws-schb-dop/score.musicxml\n",
      "CPDL NO REPEAT_2/Love%27s_heigh_ho_Macfarren_WC/score.musicxml\n",
      "CPDL NO REPEAT_2/The_calm_of_the_sea_Hiles/score.musicxml\n",
      "CPDL NO REPEAT_2/Laugh_not%2C_Youth%2C_at_Age%21_Pearsall/score.musicxml\n"
     ]
    },
    {
     "name": "stdout",
     "output_type": "stream",
     "text": [
      "CPDL NO REPEAT_2/The_East_Indian_Gregory/score.musicxml\n",
      "CPDL NO REPEAT_2/Nh_Breitengraser_Sich_hat/score.musicxml\n",
      "CPDL NO REPEAT_2/Todos_los_bienes_Encina/score.musicxml\n",
      "CPDL NO REPEAT_2/LongS-HeThatHasGod/score.musicxml\n",
      "CPDL NO REPEAT_2/Night_song_Abt/score.musicxml\n",
      "CPDL NO REPEAT_2/Mh-Rot25-Partitur/score.musicxml\n",
      "CPDL NO REPEAT_2/Ser-ben/score.musicxml\n",
      "CPDL NO REPEAT_2/Ws-han-ch76/score.musicxml\n",
      "CPDL NO REPEAT_2/Mh-HoeEng-Der_Engel_des_Herrn/score.musicxml\n",
      "CPDL NO REPEAT_2/Lassus-Christus_resurgens_3v/score.musicxml\n",
      "CPDL NO REPEAT_2/Weelkes-If_thy_deceitful_looks/score.musicxml\n",
      "CPDL NO REPEAT_2/Tor-adm/score.musicxml\n",
      "CPDL NO REPEAT_2/Ws-jos-ave6/score.musicxml\n",
      "CPDL NO REPEAT_2/Tor-tie/score.musicxml\n",
      "CPDL NO REPEAT_2/The_lifeboat_Hatton/score.musicxml\n",
      "CPDL NO REPEAT_2/Nh_Feyhl_heilge/score.musicxml\n",
      "CPDL NO REPEAT_2/O_give_thanks_Purcell/score.musicxml\n",
      "CPDL NO REPEAT_2/Ojos_garcos_Vasquez/score.musicxml\n",
      "CPDL NO REPEAT_2/Nh_Reger_VI_13_12/score.musicxml\n",
      "CPDL NO REPEAT_2/Weelkes-A_country_pair/score.musicxml\n",
      "CPDL NO REPEAT_2/White_Ad_Te_Levavi_upatone/score.musicxml\n",
      "CPDL NO REPEAT_2/Nh_Lechner_Danket_freundlich/score.musicxml\n",
      "CPDL NO REPEAT_2/The_fauns_and_satyrs_Tomkins/score.musicxml\n",
      "CPDL NO REPEAT_2/Ws-vives-le/score.musicxml\n",
      "CPDL NO REPEAT_2/The_Lord_is_my_strength_Smart/score.musicxml\n",
      "CPDL NO REPEAT_2/NorthfieldBrown1804bpr/score.musicxml\n",
      "CPDL NO REPEAT_2/Tor-rel/score.musicxml\n",
      "CPDL NO REPEAT_2/Mh-JesusDir-Jesus_dir_leb_ich/score.musicxml\n",
      "CPDL NO REPEAT_2/Maria_und_Marta_%28Evangelienmotette%29/score.musicxml\n",
      "CPDL NO REPEAT_2/The_Indian_maid_Hatton/score.musicxml\n",
      "CPDL NO REPEAT_2/Schumann_altegutezeit/score.musicxml\n",
      "CPDL NO REPEAT_2/O_susser%2C_O_freundlicher_Schutz/score.musicxml\n",
      "CPDL NO REPEAT_2/Nh_Homilius_Gottes_Lamm/score.musicxml\n",
      "CPDL NO REPEAT_2/Topf%2C_Johann_-_F%C3%BCrchtet_euch_nicht%2C_ich_verk%C3%BCndige_euch/score.musicxml\n",
      "CPDL NO REPEAT_2/Wolff-Heintz-No-XLIII-Do-truncken-sie-die-liebe-lange-nacht/score.musicxml\n",
      "CPDL NO REPEAT_2/ThorJ-MyGodIAmThine/score.musicxml\n",
      "CPDL NO REPEAT_2/Mh-GouAveVT-Ave_verum_Tenorsolo/score.musicxml\n",
      "CPDL NO REPEAT_2/Nh_D%C3%BCrrner_Lied_vom_Wein/score.musicxml\n",
      "CPDL NO REPEAT_2/Nh_Reinecke_Fr%C3%BChlingsgru%C3%9F/score.musicxml\n",
      "CPDL NO REPEAT_2/KeyJ-AwakeYeDrowsy/score.musicxml\n",
      "CPDL NO REPEAT_2/My_true_love_hath_my_heart_tr_Smart/score.musicxml\n",
      "CPDL NO REPEAT_2/Vicelli_Agnus_Dei/score.musicxml\n",
      "CPDL NO REPEAT_2/Tollius-Confitebor_tibi%2C_Domine/score.musicxml\n",
      "CPDL NO REPEAT_2/Tollius-Deus_qui_manus_tuas_%28original%29/score.musicxml\n",
      "CPDL NO REPEAT_2/Night%2C_sable_goddess%21_Macfarren_WC/score.musicxml\n",
      "CPDL NO REPEAT_2/Let_thy_hand_be_strengthened_Blow/score.musicxml\n",
      "CPDL NO REPEAT_2/Musica_Jeep/score.musicxml\n",
      "CPDL NO REPEAT_2/Keep_time_Hatton/score.musicxml\n",
      "CPDL NO REPEAT_2/Love_is_meant/score.musicxml\n",
      "CPDL NO REPEAT_2/Nh_Gade_Im_Osten_SATB/score.musicxml\n",
      "CPDL NO REPEAT_2/Tor-ben/score.musicxml\n",
      "CPDL NO REPEAT_2/Let_maids_be_false_Martin_SATB/score.musicxml\n",
      "CPDL NO REPEAT_2/Vos_me_matastes_Vasquez/score.musicxml\n",
      "CPDL NO REPEAT_2/Nh_Gaebler_Wandern/score.musicxml\n",
      "CPDL NO REPEAT_2/O_Dayspring_Stainer/score.musicxml\n",
      "CPDL NO REPEAT_2/Olco-myw.mscz/score.musicxml\n",
      "CPDL NO REPEAT_2/Nh_Schulz_Lobgesang/score.musicxml\n",
      "CPDL NO REPEAT_2/Nh_Engel_Machet_die_Tore/score.musicxml\n",
      "CPDL NO REPEAT_2/Nh_FranckM_Nun_jauchz/score.musicxml\n",
      "CPDL NO REPEAT_2/No_man_is_an_island/score.musicxml\n",
      "CPDL NO REPEAT_2/Thiele_Double_Chant_C_major/score.musicxml\n",
      "CPDL NO REPEAT_2/Nh_Silcher_Morgen_verreisen/score.musicxml\n",
      "Could not parse ['CPDL NO REPEAT_2/MadridBillings1786bprb/score.musicxml']\n"
     ]
    },
    {
     "name": "stderr",
     "output_type": "stream",
     "text": [
      "/Users/jyotinarang/essentia_env/lib/python3.9/site-packages/music21/musicxml/xmlToM21.py:1986: MusicXMLWarning: The following exception took place in m. 1 in part C..\n",
      "  warnings.warn(\n"
     ]
    },
    {
     "name": "stdout",
     "output_type": "stream",
     "text": [
      "CPDL NO REPEAT_2/MassJ-AriseAndHail/score.musicxml\n",
      "CPDL NO REPEAT_2/NewOrleansBoyd1817bpr/score.musicxml\n",
      "CPDL NO REPEAT_2/Unser_Herr_Jesus_Christus_in_der_Nacht_Schutz/score.musicxml\n",
      "CPDL NO REPEAT_2/O_almighty_God/score.musicxml\n",
      "CPDL NO REPEAT_2/Mh-Wannkom-Wann_kommest/score.musicxml\n",
      "CPDL NO REPEAT_2/KnapiciusPsalm1/score.musicxml\n",
      "CPDL NO REPEAT_2/Nunc_dimittis_in_D_Minor_Stainer/score.musicxml\n",
      "CPDL NO REPEAT_2/Praetorius_-_Erhalt_uns_Herr/score.musicxml\n",
      "CPDL NO REPEAT_2/WhelZ-HoEveryone/score.musicxml\n",
      "CPDL NO REPEAT_2/Lassus-Ave_Regina_3v/score.musicxml\n",
      "CPDL NO REPEAT_2/Vivaldi-Dixit_Dominus-RV_595-1.Dixit_Dominus/score.musicxml\n",
      "CPDL NO REPEAT_2/WoO_82_Altdeutsches_Liebeslied-Rheinberger/score.musicxml\n",
      "CPDL NO REPEAT_2/MeditationWest1807ax/score.musicxml\n",
      "CPDL NO REPEAT_2/Make_me_a_clean_heart%2C_O_God_Barnby/score.musicxml\n",
      "CPDL NO REPEAT_2/Let_my_complaint_come_before_thee_Batten/score.musicxml\n",
      "CPDL NO REPEAT_2/Kings_and_Queens_Pinsuti/score.musicxml\n",
      "CPDL NO REPEAT_2/No11-Aus_Der_Tiefe_a_6/score.musicxml\n",
      "CPDL NO REPEAT_2/The_Angels_SSATB/score.musicxml\n",
      "CPDL NO REPEAT_2/Now_is_Christ_risen_Allen/score.musicxml\n",
      "CPDL NO REPEAT_2/Ws-horak-h1/score.musicxml\n",
      "CPDL NO REPEAT_2/Nh_Abt_Fr%C3%BChlingswanderung/score.musicxml\n",
      "CPDL NO REPEAT_2/Nh_St%C3%B6rl_O_Jerusalem/score.musicxml\n",
      "CPDL NO REPEAT_2/Schumann_145-5/score.musicxml\n",
      "CPDL NO REPEAT_2/Tugend_ist_der_beste_Freund_Schutz/score.musicxml\n",
      "CPDL NO REPEAT_2/Nh_Berner_Am_Grabe_SATB/score.musicxml\n",
      "CPDL NO REPEAT_2/The_lie_Hatton/score.musicxml\n",
      "CPDL NO REPEAT_2/Unser_Wandel_ist_im_Himmel_Schutz/score.musicxml\n",
      "CPDL NO REPEAT_2/Magnificat_in_F_Stainer/score.musicxml\n",
      "CPDL NO REPEAT_2/Nh_Engel_Maien/score.musicxml\n",
      "CPDL NO REPEAT_2/Love_and_mirth_Smart/score.musicxml\n",
      "CPDL NO REPEAT_2/Stalnaker_AveMaria3/score.musicxml\n",
      "CPDL NO REPEAT_2/MonticelloRead1804bprb/score.musicxml\n",
      "CPDL NO REPEAT_2/The_Lord_redeemeth_MacFarren/score.musicxml\n",
      "CPDL NO REPEAT_2/Vaet-antvenis/score.musicxml\n",
      "CPDL NO REPEAT_2/Tollius-Adiuro_vos_filiae_Ierusalem/score.musicxml\n",
      "CPDL NO REPEAT_2/Nh_Szadrowsky_Wem_Gott/score.musicxml\n",
      "CPDL NO REPEAT_2/Nh_D%C3%BCrrner_Sommers_F%C3%A4den/score.musicxml\n",
      "CPDL NO REPEAT_2/Sanktmartin/score.musicxml\n",
      "CPDL NO REPEAT_2/Thiele_Double_Chant_A_major/score.musicxml\n",
      "CPDL NO REPEAT_2/O_sunny_beam_Schumann/score.musicxml\n",
      "CPDL NO REPEAT_2/Nh_ErkL_Augustabend/score.musicxml\n",
      "CPDL NO REPEAT_2/Nh_Lechner_Wohl_kommt/score.musicxml\n",
      "CPDL NO REPEAT_2/Ws-luc-agnu/score.musicxml\n",
      "CPDL NO REPEAT_2/Nh_Abt_St%C3%A4ndchen/score.musicxml\n",
      "CPDL NO REPEAT_2/Lo_here_my_heart_I_leave/score.musicxml\n",
      "CPDL NO REPEAT_2/Si_no_os_uviera_Vasquez/score.musicxml\n",
      "CPDL NO REPEAT_2/Nh_Lechner_feins_brauns/score.musicxml\n",
      "CPDL NO REPEAT_2/Ws-cabe-vir/score.musicxml\n",
      "CPDL NO REPEAT_2/The_Crusaders_Pinsuti/score.musicxml\n",
      "CPDL NO REPEAT_2/Nh_Aiblinger_Nachtigallen/score.musicxml\n",
      "CPDL NO REPEAT_2/Veni_Creator_%28Song_44%29/score.musicxml\n",
      "CPDL NO REPEAT_2/More_life_Macfarren_WC/score.musicxml\n",
      "CPDL NO REPEAT_2/Thiel_Sommerlied/score.musicxml\n",
      "CPDL NO REPEAT_2/Little_Jack_Horner_Caldicott/score.musicxml\n",
      "CPDL NO REPEAT_2/Lift_up_your_heads%2C_O_ye_gates/score.musicxml\n",
      "CPDL NO REPEAT_2/Nh_Gl%C3%A4ser_Come_let_us/score.musicxml\n",
      "CPDL NO REPEAT_2/Mh-Emmobl-Emmerig_Offertorium/score.musicxml\n",
      "CPDL NO REPEAT_2/Nh_M%C3%BCller_Mailied/score.musicxml\n",
      "CPDL NO REPEAT_2/Nh_Zingarelli_Christus/score.musicxml\n",
      "CPDL NO REPEAT_2/Nh_Bortniansky_Heilig_SATB/score.musicxml\n",
      "CPDL NO REPEAT_2/Nh_Wilsing_Gl%C3%BCcklich_TTBB/score.musicxml\n",
      "CPDL NO REPEAT_2/WakeS-TheLordLookedDown/score.musicxml\n",
      "CPDL NO REPEAT_2/Walmisley-MusicAllPowerful/score.musicxml\n",
      "CPDL NO REPEAT_2/Wohlauf/score.musicxml\n",
      "CPDL NO REPEAT_2/Upton-God/score.musicxml\n",
      "CPDL NO REPEAT_2/The_happiest_land_Hatton/score.musicxml\n",
      "CPDL NO REPEAT_2/Wilburn-Danny_Boy/score.musicxml\n",
      "CPDL NO REPEAT_2/MathW-DidSweeterSounds/score.musicxml\n",
      "CPDL NO REPEAT_2/Weelkes_Now-evry-tree/score.musicxml\n",
      "CPDL NO REPEAT_2/O_Emmanuel_Stainer/score.musicxml\n",
      "CPDL NO REPEAT_2/Keep_innocency_MacFarren/score.musicxml\n",
      "CPDL NO REPEAT_2/Mh-FaurAve-Faure_Ave/score.musicxml\n",
      "CPDL NO REPEAT_2/Schein-aus_tiefer/score.musicxml\n",
      "CPDL NO REPEAT_2/The_Belfry_Tower_Hatton/score.musicxml\n",
      "CPDL NO REPEAT_2/Night%2C_lovely_night_Berger/score.musicxml\n",
      "CPDL NO REPEAT_2/Magnificat%2C_SWV_344_Schutz/score.musicxml\n",
      "CPDL NO REPEAT_2/Ley-Come_Thou_Holy_Spirit_Come/score.musicxml\n",
      "CPDL NO REPEAT_2/O_hilf%2C_Christe_Gottes_Sohn_Schutz/score.musicxml\n",
      "CPDL NO REPEAT_2/Seager-blessed/score.musicxml\n",
      "CPDL NO REPEAT_2/Nh_Reger_83_3/score.musicxml\n",
      "CPDL NO REPEAT_2/Like_the_deer/score.musicxml\n",
      "CPDL NO REPEAT_2/West_-_Hide_Me_Under_the_Shadow_of_Thy_Wings/score.musicxml\n",
      "CPDL NO REPEAT_2/Now_is_The_Time_of_Christymas_c_plus/score.musicxml\n",
      "CPDL NO REPEAT_2/Magnificat_trans/score.musicxml\n",
      "CPDL NO REPEAT_2/Nh_Rinck_Preis/score.musicxml\n",
      "CPDL NO REPEAT_2/Nh_Mendelssohn_Op75_3/score.musicxml\n",
      "CPDL NO REPEAT_2/O_dear_what/score.musicxml\n",
      "CPDL NO REPEAT_2/MiltonOlmsted1805bpr/score.musicxml\n",
      "CPDL NO REPEAT_2/Tomkins_-_O_Lord_God_of_hosts/score.musicxml\n",
      "CPDL NO REPEAT_2/The_Free_Software_Song%2C_Tenorlied/score.musicxml\n",
      "CPDL NO REPEAT_2/The_Good_Shepherd_-_Communion_antiphon/score.musicxml\n",
      "CPDL NO REPEAT_2/O_give_thanks_Wesley/score.musicxml\n",
      "CPDL NO REPEAT_2/SearH-BeginMyTongue/score.musicxml\n",
      "CPDL NO REPEAT_2/Now_May_is_here_Smart/score.musicxml\n",
      "CPDL NO REPEAT_2/Nh_Schumann_141_3/score.musicxml\n",
      "CPDL NO REPEAT_2/SmitJ-OAllYePeople/score.musicxml\n",
      "CPDL NO REPEAT_2/Wolf_Gottvertrauen/score.musicxml\n",
      "CPDL NO REPEAT_2/Now%2C_saith_the_Lord_MacFarren/score.musicxml\n",
      "CPDL NO REPEAT_2/O_come%2C_let_us_lift_up_our_voice/score.musicxml\n",
      "CPDL NO REPEAT_2/WoO_50_Gott_sei_mir_gn%C3%A4dig_dieser_Zeit-Rheinberger/score.musicxml\n",
      "CPDL NO REPEAT_2/Verkaik-Mingulay/score.musicxml\n",
      "CPDL NO REPEAT_2/Valls-ado2/score.musicxml\n",
      "CPDL NO REPEAT_2/Mh-SaintAvSS-Ave_SS/score.musicxml\n",
      "CPDL NO REPEAT_2/LynnForbush1803bpr/score.musicxml\n",
      "CPDL NO REPEAT_2/Weed_-_Sancta_Catharina_Kyrie/score.musicxml\n",
      "CPDL NO REPEAT_2/Lord_Bless_You_Lutkin/score.musicxml\n",
      "CPDL NO REPEAT_2/Nh_Taubert_V%C3%B6glein/score.musicxml\n",
      "CPDL NO REPEAT_2/Ws-per-avem/score.musicxml\n",
      "CPDL NO REPEAT_2/Was_hast_du_verwirket_Schutz/score.musicxml\n",
      "CPDL NO REPEAT_2/SchumannG%3B_Op_31_no_2/score.musicxml\n",
      "CPDL NO REPEAT_2/The_Lord_will_be_a_refuge_Webb/score.musicxml\n",
      "CPDL NO REPEAT_2/The_bait_Hatton/score.musicxml\n",
      "CPDL NO REPEAT_2/Upton-StaX/score.musicxml\n",
      "CPDL NO REPEAT_2/Lay_Dom/score.musicxml\n",
      "CPDL NO REPEAT_2/The_fairies_Macfarren_WC/score.musicxml\n",
      "CPDL NO REPEAT_2/Zelenka-Credidi_ZWV85-1/score.musicxml\n",
      "CPDL NO REPEAT_2/LymeSwan1801bpr/score.musicxml\n",
      "CPDL NO REPEAT_2/Magnificat_and_Nunc_Dimittis_Stanford/score.musicxml\n",
      "CPDL NO REPEAT_2/Yet_doth_the_Lord_see_it_not/score.musicxml\n",
      "CPDL NO REPEAT_2/Santos_cruxfid/score.musicxml\n",
      "CPDL NO REPEAT_2/KeyJ-Ascribe/score.musicxml\n",
      "CPDL NO REPEAT_2/Let_the_brother_MacFarren/score.musicxml\n",
      "CPDL NO REPEAT_2/Marco_Molinari-Ave_Regina_coelorum/score.musicxml\n",
      "CPDL NO REPEAT_2/V/score.musicxml\n",
      "CPDL NO REPEAT_2/WoolA-AriseAndSing/score.musicxml\n",
      "CPDL NO REPEAT_2/O_be_joyful_Clarke/score.musicxml\n",
      "CPDL NO REPEAT_2/Nh_Grell_Herr_gedenke_unser/score.musicxml\n",
      "CPDL NO REPEAT_2/This_is_the_day_Garrett/score.musicxml\n",
      "CPDL NO REPEAT_2/The_Lord_is_good/score.musicxml\n",
      "CPDL NO REPEAT_2/O_God_the_King_of_glory_Purcell/score.musicxml\n",
      "CPDL NO REPEAT_2/O_hush_thee%2C_my_babie_Sullivan/score.musicxml\n",
      "CPDL NO REPEAT_2/Ws-gom-avem/score.musicxml\n",
      "CPDL NO REPEAT_2/Mh-CharARe-Ave_Regina/score.musicxml\n",
      "CPDL NO REPEAT_2/Saphire-augen/score.musicxml\n",
      "CPDL NO REPEAT_2/Lead_kindly_light_Stainer/score.musicxml\n",
      "CPDL NO REPEAT_2/Nh_OttoJ_Gebet/score.musicxml\n",
      "CPDL NO REPEAT_2/Nh_Ett_Ave_Maria/score.musicxml\n",
      "CPDL NO REPEAT_2/LewisburghShumway1793a/score.musicxml\n",
      "CPDL NO REPEAT_2/MountCalvaryDavisson1813bpr/score.musicxml\n",
      "CPDL NO REPEAT_2/LincolnWood1793a/score.musicxml\n",
      "CPDL NO REPEAT_2/SilcherSehnsucht/score.musicxml\n",
      "CPDL NO REPEAT_2/SmitJ-JudgeAndDefend/score.musicxml\n",
      "CPDL NO REPEAT_2/KnapiciusMakeANoise/score.musicxml\n",
      "CPDL NO REPEAT_2/SmitJ-OComeLoudAnthems/score.musicxml\n",
      "CPDL NO REPEAT_2/MarysTearsShaw1817bpr/score.musicxml\n",
      "CPDL NO REPEAT_2/Wer_will_uns_scheiden_Schutz/score.musicxml\n",
      "CPDL NO REPEAT_2/Nh_Rohde_Gottgn%C3%A4dig/score.musicxml\n",
      "CPDL NO REPEAT_2/ValeJ-TheLordToThy/score.musicxml\n"
     ]
    },
    {
     "name": "stdout",
     "output_type": "stream",
     "text": [
      "CPDL NO REPEAT_2/WillAK-HowHappyIs-nokeyb/score.musicxml\n",
      "CPDL NO REPEAT_2/White_Deus_Misereatur_Nostri/score.musicxml\n",
      "CPDL NO REPEAT_2/Nh_Koschat_Verlassen/score.musicxml\n",
      "CPDL NO REPEAT_2/Mastioletti_-_Terribilis_est_locus/score.musicxml\n",
      "CPDL NO REPEAT_2/The_Lord_is_my_portion_Hopkins/score.musicxml\n",
      "CPDL NO REPEAT_2/The_Lord_is_full_of_compassion_Boyce/score.musicxml\n",
      "CPDL NO REPEAT_2/ThorW-TheLord-nokeyb/score.musicxml\n",
      "CPDL NO REPEAT_2/Nh_M%C3%B6hring_Herr_wir_danken/score.musicxml\n",
      "CPDL NO REPEAT_2/Nh_FescaEF_In_die_Ferne/score.musicxml\n",
      "CPDL NO REPEAT_2/Tollius-Domine_quinque_talenta/score.musicxml\n",
      "CPDL NO REPEAT_2/Nh_Klein_Der_Herr_ist_unsre_Zuversicht/score.musicxml\n",
      "CPDL NO REPEAT_2/Lend_your_ears_to_my_sorrow/score.musicxml\n",
      "CPDL NO REPEAT_2/O_Holy_Ghost%2C_into_our_minds_Macfarren_GA/score.musicxml\n",
      "CPDL NO REPEAT_2/Morning_greeting_Hensel/score.musicxml\n",
      "CPDL NO REPEAT_2/SmitJ-OAllYeNations/score.musicxml\n",
      "CPDL NO REPEAT_2/Lullaby_of_Life_hl/score.musicxml\n",
      "CPDL NO REPEAT_2/Tollius-Alleluia%2C_O_Patriarcha_pauperum/score.musicxml\n",
      "CPDL NO REPEAT_2/My_soul_to_God_Leslie/score.musicxml\n",
      "CPDL NO REPEAT_2/My_God_my_God_Blow/score.musicxml\n",
      "CPDL NO REPEAT_2/Wir_glauben_all_an_einen_Gott_Schutz/score.musicxml\n",
      "CPDL NO REPEAT_2/Nh_Silcher_Wie_heilig/score.musicxml\n",
      "CPDL NO REPEAT_2/Tye-Ilift_my_heart_to_thee/score.musicxml\n",
      "CPDL NO REPEAT_2/Nh_Kloss_Frieden_SATB/score.musicxml\n",
      "CPDL NO REPEAT_2/Nh_Silcher_J%C3%A4ger_wohlgemut/score.musicxml\n",
      "CPDL NO REPEAT_2/Weelkes-Make_haste_ye_lovers/score.musicxml\n",
      "CPDL NO REPEAT_2/Lobet_den_Herren_der_zu_Zion_wohnet_Schutz/score.musicxml\n",
      "CPDL NO REPEAT_2/Weelkes-If_beauty_be_a_treasure/score.musicxml\n",
      "CPDL NO REPEAT_2/Lechner-Nach_Gsund_und_Freud/score.musicxml\n",
      "CPDL NO REPEAT_2/Liebster%2C_sagt_in_sussem_Schmerzen_Schutz/score.musicxml\n"
     ]
    }
   ],
   "source": [
    "#PArse directory 2\n",
    "possible_file_type_extensions = ['*.xml', '*.musicxml']\n",
    "total_correct_files_dir2 = 0\n",
    "correct_file_names_dir2 = []\n",
    "for score_file in all_score_files_dir2:\n",
    "    if score_file=='.DS_Store':\n",
    "        continue\n",
    "    base_path = os.path.join(base_dir2, score_file)\n",
    "    for file_extension in possible_file_type_extensions:\n",
    "        musicxml_file = sorted(glob.glob(os.path.join(base_path, file_extension)))\n",
    "        if len(musicxml_file)!= 0:\n",
    "            xml_file_path = musicxml_file[0] \n",
    "    try:\n",
    "        score = music21.converter.parse(xml_file_path)\n",
    "        print(xml_file_path)\n",
    "        correct_file_names_dir2.append(xml_file_path)\n",
    "    except:\n",
    "        print(\"Could not parse\", musicxml_file)"
   ]
  },
  {
   "cell_type": "markdown",
   "id": "69b9b297",
   "metadata": {},
   "source": [
    "# Results\n",
    "### We obtain a total of 296 files from folder 1 and 531 files for folder 2 i.e. a total of 827 folders\n",
    "\n",
    "## Back to more filters ...\n",
    "### (2) Filter all scores for which the count of the number of streams in ‘voices’ folder is not the same as the number of streams in the xml file read using music21\n",
    "\n",
    "## Parse for directory 1"
   ]
  },
  {
   "cell_type": "code",
   "execution_count": 9,
   "id": "96c3a345",
   "metadata": {},
   "outputs": [],
   "source": [
    "#Of correct file names, get the number of scores that have the same count of files in the voices folder\n",
    "correct_files_with_all_voices_dir1 = []\n",
    "for music_xml_file in correct_file_names:\n",
    "    score = music21.converter.parse(music_xml_file)\n",
    "    # Get the number of streams in the parsed score\n",
    "    num_streams = len(score.getElementsByClass(music21.stream.Stream))\n",
    "    #print(\"Number of streams in the parsed score:\", num_streams)\n",
    "    #Test if the number of streams is the same as the number of voices in the voices folder\n",
    "    voices_folder_path = os.path.join(os.path.dirname(music_xml_file), 'voices')\n",
    "    all_voices = os.listdir(voices_folder_path)\n",
    "    if len(all_voices)==num_streams:\n",
    "        correct_files_with_all_voices_dir1.append(music_xml_file)"
   ]
  },
  {
   "cell_type": "code",
   "execution_count": 15,
   "id": "0af92534",
   "metadata": {},
   "outputs": [
    {
     "data": {
      "text/plain": [
       "147"
      ]
     },
     "execution_count": 15,
     "metadata": {},
     "output_type": "execute_result"
    }
   ],
   "source": [
    "len(correct_files_with_all_voices_dir1)"
   ]
  },
  {
   "cell_type": "markdown",
   "id": "68be18e7",
   "metadata": {},
   "source": [
    "## Parse for directory 2"
   ]
  },
  {
   "cell_type": "code",
   "execution_count": 12,
   "id": "70db1dce",
   "metadata": {},
   "outputs": [],
   "source": [
    "#Script to extract streams of information with only 4 streams of all correct file names, group the scores by \n",
    "#count of streams\n",
    "#Of correct file names, get the number of scores that have the same count of files in the voices folder\n",
    "correct_files_with_all_voices_dir2 = []\n",
    "for music_xml_file in correct_file_names_dir2:\n",
    "    score = music21.converter.parse(music_xml_file)\n",
    "    # Get the number of streams in the parsed score\n",
    "    num_streams = len(score.getElementsByClass(music21.stream.Stream))\n",
    "    #print(\"Number of streams in the parsed score:\", num_streams)\n",
    "    #Test if the number of streams is the same as the number of voices in the voices folder\n",
    "    voices_folder_path = os.path.join(os.path.dirname(music_xml_file), 'voices')\n",
    "    all_voices = os.listdir(voices_folder_path)\n",
    "    if len(all_voices)==num_streams:\n",
    "        correct_files_with_all_voices_dir2.append(music_xml_file)"
   ]
  },
  {
   "cell_type": "code",
   "execution_count": 14,
   "id": "0b827e26",
   "metadata": {},
   "outputs": [
    {
     "data": {
      "text/plain": [
       "311"
      ]
     },
     "execution_count": 14,
     "metadata": {},
     "output_type": "execute_result"
    }
   ],
   "source": [
    "len(correct_files_with_all_voices_dir2)"
   ]
  },
  {
   "cell_type": "markdown",
   "id": "2e3960b8",
   "metadata": {},
   "source": [
    "# Results\n",
    "###  We obtain a total of len 147 files for directory 1 and 311 files from directory 2 i.e. a total of 458 files\n",
    "\n",
    "## Back to more filters ...\n",
    "\n",
    "## We now apply some musical criteria that was found by listening to several  songs from both the folders by a musician "
   ]
  },
  {
   "cell_type": "markdown",
   "id": "47ec72f9",
   "metadata": {},
   "source": [
    "## (3) Filter out all files with 'Tr..mp3' in the voices folder - this criteria is specific to the dataset\n",
    "#### Automatically discard all the folders that name the first voice (often named as Soprano or Cantus or Voice or Voice 1) “Treble” or “Tr”; they correspond to audio files “treble.mp3”, “tr..mp3”, “Tr.mp3” and for this DATASET they are instrumental generated instead of voice generated, even though they should be voice generated because they carry the leading voice\n"
   ]
  },
  {
   "cell_type": "markdown",
   "id": "7ee3840f",
   "metadata": {},
   "source": [
    "## Parse directory 1"
   ]
  },
  {
   "cell_type": "code",
   "execution_count": 26,
   "id": "69b84ed0",
   "metadata": {},
   "outputs": [],
   "source": [
    "#select the voices folder again and check for all files with Tr..mp3\n",
    "correct_files_with_all_voices_dir1_filter_treble = []\n",
    "for music_xml_file_path in correct_files_with_all_voices_dir1:\n",
    "    score = music21.converter.parse(music_xml_file_path)\n",
    "    # Get the number of streams in the parsed score\n",
    "    num_streams = len(score.getElementsByClass(music21.stream.Stream))\n",
    "    #print(\"Number of streams in the parsed score:\", num_streams)\n",
    "    #Test if the number of streams is the same as the number of voices in the voices folder\n",
    "    voices_folder_path = os.path.join(os.path.dirname(music_xml_file_path), 'voices')\n",
    "    all_voices = os.listdir(voices_folder_path)\n",
    "    if 'Tr..mp3' in all_voices:\n",
    "        continue\n",
    "    else:\n",
    "        correct_files_with_all_voices_dir1_filter_treble.append(music_xml_file_path)"
   ]
  },
  {
   "cell_type": "code",
   "execution_count": 27,
   "id": "be83c537",
   "metadata": {},
   "outputs": [
    {
     "data": {
      "text/plain": [
       "120"
      ]
     },
     "execution_count": 27,
     "metadata": {},
     "output_type": "execute_result"
    }
   ],
   "source": [
    "len(correct_files_with_all_voices_dir1_filter_treble)"
   ]
  },
  {
   "cell_type": "markdown",
   "id": "e608e1ea",
   "metadata": {},
   "source": [
    "## Parse directory 2"
   ]
  },
  {
   "cell_type": "code",
   "execution_count": 28,
   "id": "8f8fcf56",
   "metadata": {},
   "outputs": [],
   "source": [
    "#select the voices folder again and check for all files with Tr..mp3\n",
    "correct_files_with_all_voices_dir2_filter_treble = []\n",
    "for music_xml_file_path in correct_files_with_all_voices_dir2:\n",
    "    score = music21.converter.parse(music_xml_file_path)\n",
    "    # Get the number of streams in the parsed score\n",
    "    num_streams = len(score.getElementsByClass(music21.stream.Stream))\n",
    "    #print(\"Number of streams in the parsed score:\", num_streams)\n",
    "    #Test if the number of streams is the same as the number of voices in the voices folder\n",
    "    voices_folder_path = os.path.join(os.path.dirname(music_xml_file_path), 'voices')\n",
    "    all_voices = os.listdir(voices_folder_path)\n",
    "    if 'Tr..mp3' in all_voices:\n",
    "        continue\n",
    "    else:\n",
    "        correct_files_with_all_voices_dir2_filter_treble.append(music_xml_file_path)"
   ]
  },
  {
   "cell_type": "code",
   "execution_count": 30,
   "id": "1f2159f7",
   "metadata": {},
   "outputs": [
    {
     "data": {
      "text/plain": [
       "283"
      ]
     },
     "execution_count": 30,
     "metadata": {},
     "output_type": "execute_result"
    }
   ],
   "source": [
    "len(correct_files_with_all_voices_dir2_filter_treble)"
   ]
  },
  {
   "cell_type": "markdown",
   "id": "6c9766f7",
   "metadata": {},
   "source": [
    "# Results\n",
    "### We obtain a total of 120 files from folder 1 and 283 files for folder 2 i.e. a total of 403 folders\n",
    "## Back to more filters ...\n",
    "\n",
    "## We now apply some more musical criteria for both the folders by the musician\n",
    "\n",
    "#### (4) Automatically discard all the folders for which, one or more voices in the score, have not at all lyrics, when should have (some editors avoid to repeat the same lyric for all voices, assuming that the musicians will relate to the first voice to read the corresponding verse). For these cases, the audio files are instrumental generated instead of voice generated. So, it is possible to automatically discard these folders by detecting in one or more than one audio files, this instrumental generation when the file name indicate a voice channel (‘soprano’, ‘alto’, ‘tenor’ ‘bass’, ‘cantus’, ‘quintus’, ‘altus’, ‘bassus’, ‘voice#’)\n"
   ]
  },
  {
   "cell_type": "markdown",
   "id": "73bce74f",
   "metadata": {},
   "source": [
    "## Parse directory 1"
   ]
  },
  {
   "cell_type": "code",
   "execution_count": 31,
   "id": "c80cabc5",
   "metadata": {},
   "outputs": [],
   "source": [
    "def preprocess_string(s):\n",
    "    # Remove hyphens and blank spaces\n",
    "    return s.replace('-', '').replace(' ', '')"
   ]
  },
  {
   "cell_type": "code",
   "execution_count": 32,
   "id": "53339336",
   "metadata": {},
   "outputs": [
    {
     "name": "stdout",
     "output_type": "stream",
     "text": [
      "CPDL NO REPEAT_1/Grell_Nun_sich_der_Tag/score.musicxml\n",
      "CPDL NO REPEAT_1/EG344Trio/score.musicxml\n",
      "CPDL NO REPEAT_1/Erk_Sonntagmorgen/score.musicxml\n",
      "CPDL NO REPEAT_1/Ich_danke_dem_Herrn_Schutz/score.musicxml\n",
      "CPDL NO REPEAT_1/Hane-hei/score.musicxml\n",
      "CPDL NO REPEAT_1/JarvS-MySoulWith/score.musicxml\n",
      "CPDL NO REPEAT_1/JarvS-BlessedBe/score.musicxml\n",
      "CPDL NO REPEAT_1/For_we_are_so_preciously_loved/score.musicxml\n",
      "CPDL NO REPEAT_1/Jesus_holy_undefiled/score.musicxml\n",
      "CPDL NO REPEAT_1/GoodPhysicianHolden1806a/score.musicxml\n",
      "CPDL NO REPEAT_1/Ich_glaube_an_einen_einigen_Gott_Schutz/score.musicxml\n",
      "CPDL NO REPEAT_1/I_sing_of_a_maiden/score.musicxml\n",
      "CPDL NO REPEAT_1/JarvS-LordHear/score.musicxml\n",
      "CPDL NO REPEAT_1/HealingMercyHolden1806/score.musicxml\n",
      "CPDL NO REPEAT_1/JarvS-Christ/score.musicxml\n"
     ]
    }
   ],
   "source": [
    "#Get the same number of files with score directory 1\n",
    "possible_candidates_with_wrong_lyrics_dir1 = []\n",
    "for music_xml_file_path in correct_files_with_all_voices_dir1_filter_treble:\n",
    "    missing_lyrics = False\n",
    "    #music_xml_file_path = music_xml_file['Parsable Files']\n",
    "    score = music21.converter.parse(music_xml_file_path)\n",
    "    all_lyrics = []\n",
    "    for part in score.parts:\n",
    "        lyrics_for_part = ''\n",
    "        for note in part.recurse().getElementsByClass('Note'):            \n",
    "            if note.lyric:\n",
    "                lyrics_for_part += note.lyric\n",
    "        processed_string = preprocess_string(lyrics_for_part)\n",
    "        all_lyrics.append(str(processed_string))\n",
    "    #print(all_lyrics)\n",
    "    missing_lyrics = [s=='' for s in all_lyrics]\n",
    "    if any(missing_lyrics):            \n",
    "        print(music_xml_file_path)\n",
    "        possible_candidates_with_wrong_lyrics_dir1.append(music_xml_file_path)"
   ]
  },
  {
   "cell_type": "code",
   "execution_count": 33,
   "id": "a06f8c61",
   "metadata": {},
   "outputs": [
    {
     "data": {
      "text/plain": [
       "15"
      ]
     },
     "execution_count": 33,
     "metadata": {},
     "output_type": "execute_result"
    }
   ],
   "source": [
    "len(possible_candidates_with_wrong_lyrics_dir1)"
   ]
  },
  {
   "cell_type": "code",
   "execution_count": 35,
   "id": "1e150f5e",
   "metadata": {},
   "outputs": [],
   "source": [
    "#Remove the identified songs from the final list\n",
    "for item in correct_files_with_all_voices_dir1_filter_treble:\n",
    "    if item in possible_candidates_with_wrong_lyrics_dir1:\n",
    "        correct_files_with_all_voices_dir1_filter_treble.remove(item)"
   ]
  },
  {
   "cell_type": "code",
   "execution_count": 36,
   "id": "a288ae84",
   "metadata": {},
   "outputs": [
    {
     "data": {
      "text/plain": [
       "107"
      ]
     },
     "execution_count": 36,
     "metadata": {},
     "output_type": "execute_result"
    }
   ],
   "source": [
    "len(correct_files_with_all_voices_dir1_filter_treble)"
   ]
  },
  {
   "cell_type": "markdown",
   "id": "7bdcb622",
   "metadata": {},
   "source": [
    "## Parse directory 2"
   ]
  },
  {
   "cell_type": "code",
   "execution_count": 37,
   "id": "02b771ec",
   "metadata": {},
   "outputs": [
    {
     "name": "stdout",
     "output_type": "stream",
     "text": [
      "CPDL NO REPEAT_2/VeniCreatorTallis1567bpr/score.musicxml\n",
      "CPDL NO REPEAT_2/Nh_Schumann_Rotes_R%C3%B6sleint/score.musicxml\n",
      "CPDL NO REPEAT_2/Ws-pero-av2/score.musicxml\n",
      "CPDL NO REPEAT_2/Nh_Eisenhofer_Lebensgenuss/score.musicxml\n",
      "CPDL NO REPEAT_2/Nh_Abt_%C3%9Cber_den_Sternen_SATB/score.musicxml\n",
      "CPDL NO REPEAT_2/Nh_Gregor_Gnade/score.musicxml\n",
      "CPDL NO REPEAT_2/My_song_is_love_unknown/score.musicxml\n",
      "CPDL NO REPEAT_2/ValeJ-ILiftMyHeart/score.musicxml\n",
      "CPDL NO REPEAT_2/WoO_74_Wanderers_Nachtlied-Rheinberger-A-Kl/score.musicxml\n",
      "CPDL NO REPEAT_2/Nh_Vulpius_Nun_komm/score.musicxml\n",
      "CPDL NO REPEAT_2/Nh_Staden_Gelobet/score.musicxml\n",
      "CPDL NO REPEAT_2/Nh_Abt_Verlass_mich_nicht/score.musicxml\n",
      "CPDL NO REPEAT_2/Of-man-and-wife-cpdl/score.musicxml\n",
      "CPDL NO REPEAT_2/Nh_Loewe_Im_Fr%C3%BChling/score.musicxml\n",
      "CPDL NO REPEAT_2/Nh_Drese_Seelenbr%C3%A4utigam/score.musicxml\n",
      "CPDL NO REPEAT_2/Thiel_Elslein/score.musicxml\n",
      "CPDL NO REPEAT_2/Nh_Fesca_Blessed/score.musicxml\n",
      "CPDL NO REPEAT_2/Nh_Mendelssohn_Op19a%2C5/score.musicxml\n",
      "CPDL NO REPEAT_2/Wilburn-Agnus_Dei/score.musicxml\n",
      "CPDL NO REPEAT_2/Vulpius_Gelobt/score.musicxml\n",
      "CPDL NO REPEAT_2/Kyrie_Gott_Vater_in_Ewigkeit_Schutz_tr/score.musicxml\n",
      "CPDL NO REPEAT_2/Nh_Reichardt_Fr%C3%BChlingslied/score.musicxml\n",
      "CPDL NO REPEAT_2/O-tempora-o-verba-modern-edition/score.musicxml\n",
      "CPDL NO REPEAT_2/Valls-bea5/score.musicxml\n",
      "CPDL NO REPEAT_2/Nh_Gl%C3%A4ser_Engel/score.musicxml\n",
      "CPDL NO REPEAT_2/Nh_Weber_Schlummerlied/score.musicxml\n",
      "CPDL NO REPEAT_2/Tor-rel/score.musicxml\n",
      "CPDL NO REPEAT_2/Nh_Homilius_Gottes_Lamm/score.musicxml\n",
      "CPDL NO REPEAT_2/KeyJ-AwakeYeDrowsy/score.musicxml\n",
      "CPDL NO REPEAT_2/Nh_FranckM_Nun_jauchz/score.musicxml\n",
      "CPDL NO REPEAT_2/Unser_Herr_Jesus_Christus_in_der_Nacht_Schutz/score.musicxml\n",
      "CPDL NO REPEAT_2/Tugend_ist_der_beste_Freund_Schutz/score.musicxml\n",
      "CPDL NO REPEAT_2/Nh_Berner_Am_Grabe_SATB/score.musicxml\n",
      "CPDL NO REPEAT_2/Nh_Szadrowsky_Wem_Gott/score.musicxml\n",
      "CPDL NO REPEAT_2/Nh_ErkL_Augustabend/score.musicxml\n",
      "CPDL NO REPEAT_2/Thiel_Sommerlied/score.musicxml\n",
      "CPDL NO REPEAT_2/Nh_Gl%C3%A4ser_Come_let_us/score.musicxml\n",
      "CPDL NO REPEAT_2/Mh-Emmobl-Emmerig_Offertorium/score.musicxml\n",
      "CPDL NO REPEAT_2/Nh_Zingarelli_Christus/score.musicxml\n",
      "CPDL NO REPEAT_2/Nh_Bortniansky_Heilig_SATB/score.musicxml\n",
      "CPDL NO REPEAT_2/Nh_Wilsing_Gl%C3%BCcklich_TTBB/score.musicxml\n",
      "CPDL NO REPEAT_2/The_Free_Software_Song%2C_Tenorlied/score.musicxml\n",
      "CPDL NO REPEAT_2/Valls-ado2/score.musicxml\n",
      "CPDL NO REPEAT_2/Ws-per-avem/score.musicxml\n",
      "CPDL NO REPEAT_2/Zelenka-Credidi_ZWV85-1/score.musicxml\n",
      "CPDL NO REPEAT_2/Nh_Grell_Herr_gedenke_unser/score.musicxml\n",
      "CPDL NO REPEAT_2/Saphire-augen/score.musicxml\n",
      "CPDL NO REPEAT_2/ValeJ-TheLordToThy/score.musicxml\n",
      "CPDL NO REPEAT_2/Mastioletti_-_Terribilis_est_locus/score.musicxml\n",
      "CPDL NO REPEAT_2/Nh_FescaEF_In_die_Ferne/score.musicxml\n",
      "CPDL NO REPEAT_2/Nh_Kloss_Frieden_SATB/score.musicxml\n"
     ]
    }
   ],
   "source": [
    "#Get the same number of files with score directory 1\n",
    "possible_candidates_with_wrong_lyrics_dir2 = []\n",
    "for music_xml_file_path in correct_files_with_all_voices_dir2_filter_treble:\n",
    "    missing_lyrics = False\n",
    "    #music_xml_file_path = music_xml_file['Parsable Files']\n",
    "    score = music21.converter.parse(music_xml_file_path)\n",
    "    all_lyrics = []\n",
    "    for part in score.parts:\n",
    "        lyrics_for_part = ''\n",
    "        for note in part.recurse().getElementsByClass('Note'):            \n",
    "            if note.lyric:\n",
    "                lyrics_for_part += note.lyric\n",
    "        processed_string = preprocess_string(lyrics_for_part)\n",
    "        all_lyrics.append(str(processed_string))\n",
    "    #print(all_lyrics)\n",
    "    missing_lyrics = [s=='' for s in all_lyrics]\n",
    "    if any(missing_lyrics):            \n",
    "        print(music_xml_file_path)\n",
    "        possible_candidates_with_wrong_lyrics_dir2.append(music_xml_file_path)"
   ]
  },
  {
   "cell_type": "code",
   "execution_count": 38,
   "id": "f3e46ba3",
   "metadata": {},
   "outputs": [
    {
     "data": {
      "text/plain": [
       "51"
      ]
     },
     "execution_count": 38,
     "metadata": {},
     "output_type": "execute_result"
    }
   ],
   "source": [
    "len(possible_candidates_with_wrong_lyrics_dir2)"
   ]
  },
  {
   "cell_type": "code",
   "execution_count": 39,
   "id": "4138b3f2",
   "metadata": {},
   "outputs": [],
   "source": [
    "#Remove the identified songs from the final list\n",
    "for item in correct_files_with_all_voices_dir2_filter_treble:\n",
    "    if item in possible_candidates_with_wrong_lyrics_dir2:\n",
    "        correct_files_with_all_voices_dir2_filter_treble.remove(item)"
   ]
  },
  {
   "cell_type": "code",
   "execution_count": 40,
   "id": "e39625d0",
   "metadata": {},
   "outputs": [
    {
     "data": {
      "text/plain": [
       "239"
      ]
     },
     "execution_count": 40,
     "metadata": {},
     "output_type": "execute_result"
    }
   ],
   "source": [
    "len(correct_files_with_all_voices_dir2_filter_treble)"
   ]
  },
  {
   "cell_type": "code",
   "execution_count": 42,
   "id": "0907e17b",
   "metadata": {},
   "outputs": [
    {
     "name": "stdout",
     "output_type": "stream",
     "text": [
      "All data saved successfully!\n",
      "All data saved successfully!\n"
     ]
    }
   ],
   "source": [
    "# Save the files in csv \n",
    "#Save the filtered data based on lyrics in a csv\n",
    "file_path_CPDL1 = 'correct_file_names_removed_treble_scores_cpdl_repeat1.csv'\n",
    "file_path_CPDL2 = 'correct_file_names_removed_treble_scores_cpdl_repeat2.csv'\n",
    "# Open the file in write mode\n",
    "with open(file_path_CPDL1, 'w', newline='') as file:\n",
    "    writer = csv.writer(file)\n",
    "    writer.writerow(['Parsable Files'])\n",
    "    for file_name in correct_files_with_all_voices_dir1_filter_treble:\n",
    "        writer.writerow([file_name])\n",
    "\n",
    "# Confirm that the list has been saved\n",
    "print(\"All data saved successfully!\")\n",
    "\n",
    "# Open the file in write mode\n",
    "with open(file_path_CPDL2, 'w', newline='') as file:\n",
    "    writer = csv.writer(file)\n",
    "    writer.writerow(['Parsable Files'])\n",
    "    for file_name in correct_files_with_all_voices_dir2_filter_treble:\n",
    "        writer.writerow([file_name])\n",
    "\n",
    "# Confirm that the list has been saved\n",
    "print(\"All data saved successfully!\")\n"
   ]
  },
  {
   "cell_type": "markdown",
   "id": "aecdae8b",
   "metadata": {},
   "source": [
    "# Results\n",
    "### We obtain a total of 105 files from folder 1 and 239 files for folder 2 i.e. a total of 344 folders from which we chose 20 songs and mark them as accepted"
   ]
  },
  {
   "cell_type": "markdown",
   "id": "d3809515",
   "metadata": {},
   "source": [
    "# Future Work\n",
    "\n",
    "We can add more musically informed criteria to filter out more renditions, however, since the data is not very consistent, it is hard to implement the identified criteria. The other musical criteria for consideration includes:\n",
    "\n",
    "(5) Automatically discard all the folders that, corresponding to strophic chorale songs, have no indication of repetition (repetition bars, da capo or da segno). This could be addressed by simple math calculation knowing the pulse, the time signature, the number of measures and the number of stanzas\n",
    "\n",
    "Comments: Its not easy to identify how many parts are meant for Repeat and so on, and how many times the score is to be repeated\n",
    "\n",
    "(6) Automatically discard all the folders that, instead of relating each note with its corresponding syllable of the verse, put the whole verse continuously in just the first note. As a consequence of this, the voice generation consists on the melody sung by a continuous sound “ah” for all the channels. So, it is possible to automatically discard these folders by detecting in one or more than one audio files, this onomatopoeic generation \n",
    "\n",
    "Comments: This criteria has been implemented by using lyrics information. If the lyrics are absent in any of the score parts, we filter out that score. \n",
    "\n",
    "In the analysis of musicxml scores, it was found that the lyrics information is sometimes included in place of TextExpression at the beginning of the score. The lyrics were not tied to notes in that case, or the first note. We tried implementing a way to filter out using the length of TextExpression, assuming that if the lyrics are indeed included as part of it, the length of TextExpression would be more than say a specific threshold (maybe 30), however, many times the TextExpression consists of some details of the score like the composer etc. Hence, a basic thresholding based criteria does not provide sufficient information to filter based on TextExpression. We decided to go for the lyrics approach thereafter.\n",
    " "
   ]
  },
  {
   "cell_type": "code",
   "execution_count": null,
   "id": "299d6578",
   "metadata": {},
   "outputs": [],
   "source": []
  }
 ],
 "metadata": {
  "kernelspec": {
   "display_name": "Python 3 (ipykernel)",
   "language": "python",
   "name": "python3"
  },
  "language_info": {
   "codemirror_mode": {
    "name": "ipython",
    "version": 3
   },
   "file_extension": ".py",
   "mimetype": "text/x-python",
   "name": "python",
   "nbconvert_exporter": "python",
   "pygments_lexer": "ipython3",
   "version": "3.9.6"
  }
 },
 "nbformat": 4,
 "nbformat_minor": 5
}
