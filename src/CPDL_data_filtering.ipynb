{
 "cells": [
  {
   "cell_type": "code",
   "execution_count": 2,
   "id": "7988f109",
   "metadata": {},
   "outputs": [
    {
     "name": "stderr",
     "output_type": "stream",
     "text": [
      "/Users/jyotinarang/essentia_env/lib/python3.9/site-packages/urllib3/__init__.py:34: NotOpenSSLWarning: urllib3 v2.0 only supports OpenSSL 1.1.1+, currently the 'ssl' module is compiled with 'LibreSSL 2.8.3'. See: https://github.com/urllib3/urllib3/issues/3020\n",
      "  warnings.warn(\n"
     ]
    }
   ],
   "source": [
    "import music21\n",
    "import os\n",
    "import glob\n",
    "import json\n",
    "import csv\n",
    "import pandas as pd"
   ]
  },
  {
   "cell_type": "code",
   "execution_count": 3,
   "id": "166e1527",
   "metadata": {},
   "outputs": [],
   "source": [
    "#Elaborate on all the filters, provide the results\n",
    "base_dir1 = '../CPDL NO REPEAT_1'\n",
    "base_dir2 = '../CPDL NO REPEAT_2'\n",
    "all_score_files_dir1 = os.listdir(base_dir1)\n",
    "all_score_files_dir2 = os.listdir(base_dir2)"
   ]
  },
  {
   "cell_type": "code",
   "execution_count": 4,
   "id": "f87daf28",
   "metadata": {},
   "outputs": [
    {
     "data": {
      "text/plain": [
       "(353, 536)"
      ]
     },
     "execution_count": 4,
     "metadata": {},
     "output_type": "execute_result"
    }
   ],
   "source": [
    "len(all_score_files_dir1), len(all_score_files_dir2)"
   ]
  },
  {
   "cell_type": "markdown",
   "id": "bcd055b2",
   "metadata": {},
   "source": [
    "## We find a total of 353 scores in directory1 and 536 scores in directory 2 i.e. a toal of 889 score files"
   ]
  },
  {
   "cell_type": "markdown",
   "id": "12f05f8e",
   "metadata": {},
   "source": [
    "### Score Filters Criteria"
   ]
  },
  {
   "cell_type": "markdown",
   "id": "f7777ad9",
   "metadata": {},
   "source": [
    "### (1) Filter all scores that are not parsable i.e. cannot be read using xml reader using music21"
   ]
  },
  {
   "cell_type": "markdown",
   "id": "a48190e5",
   "metadata": {},
   "source": [
    "### Parse for directory 1"
   ]
  },
  {
   "cell_type": "code",
   "execution_count": 5,
   "id": "4dd819ac",
   "metadata": {},
   "outputs": [],
   "source": [
    "import warnings\n",
    "warnings.filterwarnings(\"ignore\")"
   ]
  },
  {
   "cell_type": "code",
   "execution_count": 6,
   "id": "94880b7b",
   "metadata": {},
   "outputs": [],
   "source": [
    "#Script to check the files that can be opened sucessfully using music21!\n",
    "possible_file_type_extensions = ['*.xml', '*.musicxml']\n",
    "total_correct_files = 0\n",
    "correct_file_names = []\n",
    "for score_file in all_score_files_dir1:\n",
    "    if score_file=='.DS_Store':\n",
    "        continue\n",
    "    base_path = os.path.join(base_dir1, score_file)\n",
    "    \n",
    "    for file_extension in possible_file_type_extensions:\n",
    "        musicxml_file = sorted(glob.glob(os.path.join(base_path, file_extension)))\n",
    "        if len(musicxml_file)!= 0:\n",
    "            xml_file_path = musicxml_file[0] \n",
    "    try:\n",
    "        score = music21.converter.parse(xml_file_path)\n",
    "        correct_file_names.append(xml_file_path)\n",
    "    except:\n",
    "        pass\n",
    "        #print(\"Could not parse\", musicxml_file)"
   ]
  },
  {
   "cell_type": "code",
   "execution_count": 7,
   "id": "e6806349",
   "metadata": {},
   "outputs": [
    {
     "data": {
      "text/plain": [
       "296"
      ]
     },
     "execution_count": 7,
     "metadata": {},
     "output_type": "execute_result"
    }
   ],
   "source": [
    "len(correct_file_names)"
   ]
  },
  {
   "cell_type": "markdown",
   "id": "de0f7fd8",
   "metadata": {},
   "source": [
    "### Parse for directory 2"
   ]
  },
  {
   "cell_type": "code",
   "execution_count": 8,
   "id": "7fbb1c6e",
   "metadata": {},
   "outputs": [],
   "source": [
    "#PArse directory 2\n",
    "possible_file_type_extensions = ['*.xml', '*.musicxml']\n",
    "total_correct_files_dir2 = 0\n",
    "correct_file_names_dir2 = []\n",
    "for score_file in all_score_files_dir2:\n",
    "    if score_file=='.DS_Store':\n",
    "        continue\n",
    "    base_path = os.path.join(base_dir2, score_file)\n",
    "    for file_extension in possible_file_type_extensions:\n",
    "        musicxml_file = sorted(glob.glob(os.path.join(base_path, file_extension)))\n",
    "        if len(musicxml_file)!= 0:\n",
    "            xml_file_path = musicxml_file[0] \n",
    "    try:\n",
    "        score = music21.converter.parse(xml_file_path)\n",
    "        correct_file_names_dir2.append(xml_file_path)\n",
    "    except:\n",
    "        pass\n",
    "        #print(\"Could not parse\", musicxml_file)"
   ]
  },
  {
   "cell_type": "code",
   "execution_count": 9,
   "id": "6bc6fe14",
   "metadata": {},
   "outputs": [
    {
     "data": {
      "text/plain": [
       "531"
      ]
     },
     "execution_count": 9,
     "metadata": {},
     "output_type": "execute_result"
    }
   ],
   "source": [
    "len(correct_file_names_dir2)"
   ]
  },
  {
   "cell_type": "markdown",
   "id": "be1793e4",
   "metadata": {},
   "source": [
    "# Results\n",
    "### We obtain a total of 296 files from folder 1 and 531 files for folder 2 i.e. a total of 827 folders\n",
    "\n",
    "## Back to more filters ...\n",
    "### (2) Filter all scores for which the count of the number of streams in ‘voices’ folder is not the same as the number of streams in the xml file read using music21\n",
    "\n",
    "## Parse for directory 1"
   ]
  },
  {
   "cell_type": "code",
   "execution_count": 10,
   "id": "5fcca6dc",
   "metadata": {},
   "outputs": [],
   "source": [
    "#Of correct file names, get the number of scores that have the same count of files in the voices folder\n",
    "#We observe that sometimes the streams for accompaniment are counted as separate streams in music21, \n",
    "#but they are synthesized as one accompaniment in the voices folder. To account for that, we convert the stream \n",
    "#information to a set and compare using the set length\n",
    "correct_files_with_all_voices_dir1 = []\n",
    "for music_xml_file in correct_file_names:\n",
    "    score = music21.converter.parse(music_xml_file)\n",
    "    parts_list = []\n",
    "    for part in score.parts:\n",
    "        parts_list.append(part.partName)\n",
    "    num_unique_streams = set(parts_list)    \n",
    "    # Get the number of streams in the parsed score\n",
    "    #num_streams = len(score.getElementsByClass(music21.stream.Stream))\n",
    "    #print(\"Number of streams in the parsed score:\", num_streams)\n",
    "    #Test if the number of streams is the same as the number of voices in the voices folder\n",
    "    voices_folder_path = os.path.join(os.path.dirname(music_xml_file), 'voices')\n",
    "    all_voices = os.listdir(voices_folder_path)\n",
    "    if len(all_voices) == len(num_unique_streams):\n",
    "        correct_files_with_all_voices_dir1.append(music_xml_file)"
   ]
  },
  {
   "cell_type": "code",
   "execution_count": 11,
   "id": "498666c3",
   "metadata": {},
   "outputs": [
    {
     "data": {
      "text/plain": [
       "250"
      ]
     },
     "execution_count": 11,
     "metadata": {},
     "output_type": "execute_result"
    }
   ],
   "source": [
    "len(correct_files_with_all_voices_dir1)"
   ]
  },
  {
   "cell_type": "markdown",
   "id": "fee03a04",
   "metadata": {},
   "source": [
    "## Parse for directory 2"
   ]
  },
  {
   "cell_type": "code",
   "execution_count": 12,
   "id": "a2e0fb87",
   "metadata": {},
   "outputs": [],
   "source": [
    "#Of correct file names, get the number of scores that have the same count of files in the voices folder\n",
    "#We observe that sometimes the streams for accompaniment are counted as separate streams in music21, \n",
    "#but they are synthesized as one accompaniment in the voices folder. To account for that, we convert the stream \n",
    "#information to a set and compare using the set length\n",
    "\n",
    "correct_files_with_all_voices_dir2 = []\n",
    "for music_xml_file in correct_file_names_dir2:\n",
    "    score = music21.converter.parse(music_xml_file)\n",
    "    parts_list = []\n",
    "    for part in score.parts:\n",
    "        parts_list.append(part.partName)\n",
    "    num_unique_streams = set(parts_list)   \n",
    "    #print(\"Number of streams in the parsed score:\", num_streams)\n",
    "    #Test if the number of streams is the same as the number of voices in the voices folder\n",
    "    voices_folder_path = os.path.join(os.path.dirname(music_xml_file), 'voices')\n",
    "    all_voices = os.listdir(voices_folder_path)\n",
    "    if len(all_voices) == len(num_unique_streams):\n",
    "        correct_files_with_all_voices_dir2.append(music_xml_file)"
   ]
  },
  {
   "cell_type": "code",
   "execution_count": 16,
   "id": "5efe22ec",
   "metadata": {},
   "outputs": [
    {
     "data": {
      "text/plain": [
       "451"
      ]
     },
     "execution_count": 16,
     "metadata": {},
     "output_type": "execute_result"
    }
   ],
   "source": [
    "len(correct_files_with_all_voices_dir2)"
   ]
  },
  {
   "cell_type": "markdown",
   "id": "50da2f52",
   "metadata": {},
   "source": [
    "# Results\n",
    "###  We obtain a total of len 250 files for directory 1 and 451 files from directory 2 i.e. a total of 701 files\n",
    "\n",
    "## Back to more filters ...\n",
    "\n",
    "## We now apply some musical criteria that was found by listening to several  songs (greater than 300 from the list) from both the folders by a musician "
   ]
  },
  {
   "cell_type": "markdown",
   "id": "1ff41d08",
   "metadata": {},
   "source": [
    "## (3) Filter out all files with 'Tr..mp3' in the voices folder - this criteria is specific to the dataset\n",
    "#### Automatically discard all the folders that name the first voice (often named as Soprano or Cantus or Voice or Voice 1) “Treble” or “Tr”; they correspond to audio files “treble.mp3”, “tr..mp3”, “Tr.mp3” and for this DATASET they are instrumental generated instead of voice generated, even though they should be voice generated because they carry the leading voice\n"
   ]
  },
  {
   "cell_type": "markdown",
   "id": "601565bf",
   "metadata": {},
   "source": [
    "## Parse directory 1"
   ]
  },
  {
   "cell_type": "code",
   "execution_count": 13,
   "id": "7fd4179a",
   "metadata": {},
   "outputs": [],
   "source": [
    "#select the voices folder again and check for all files with Tr..mp3\n",
    "correct_files_with_all_voices_dir1_filter_treble = []\n",
    "for music_xml_file_path in correct_files_with_all_voices_dir1:\n",
    "    score = music21.converter.parse(music_xml_file_path)\n",
    "    # Get the number of streams in the parsed score\n",
    "    num_streams = len(score.getElementsByClass(music21.stream.Stream))\n",
    "    #print(\"Number of streams in the parsed score:\", num_streams)\n",
    "    #Test if the number of streams is the same as the number of voices in the voices folder\n",
    "    voices_folder_path = os.path.join(os.path.dirname(music_xml_file_path), 'voices')\n",
    "    all_voices = os.listdir(voices_folder_path)\n",
    "    if 'Tr..mp3' in all_voices:\n",
    "        continue\n",
    "    else:\n",
    "        correct_files_with_all_voices_dir1_filter_treble.append(music_xml_file_path)"
   ]
  },
  {
   "cell_type": "code",
   "execution_count": 14,
   "id": "3d4cbf32",
   "metadata": {},
   "outputs": [
    {
     "data": {
      "text/plain": [
       "223"
      ]
     },
     "execution_count": 14,
     "metadata": {},
     "output_type": "execute_result"
    }
   ],
   "source": [
    "len(correct_files_with_all_voices_dir1_filter_treble)"
   ]
  },
  {
   "cell_type": "markdown",
   "id": "fe1b8913",
   "metadata": {},
   "source": [
    "## Parse directory 2"
   ]
  },
  {
   "cell_type": "code",
   "execution_count": 15,
   "id": "4f11d3ec",
   "metadata": {},
   "outputs": [],
   "source": [
    "#select the voices folder again and check for all files with Tr..mp3\n",
    "correct_files_with_all_voices_dir2_filter_treble = []\n",
    "for music_xml_file_path in correct_files_with_all_voices_dir2:\n",
    "    score = music21.converter.parse(music_xml_file_path)\n",
    "    # Get the number of streams in the parsed score\n",
    "    #num_streams = len(score.getElementsByClass(music21.stream.Stream))\n",
    "    #print(\"Number of streams in the parsed score:\", num_streams)\n",
    "    #Test if the number of streams is the same as the number of voices in the voices folder\n",
    "    voices_folder_path = os.path.join(os.path.dirname(music_xml_file_path), 'voices')\n",
    "    all_voices = os.listdir(voices_folder_path)\n",
    "    if 'Tr..mp3' in all_voices:\n",
    "        continue\n",
    "    else:\n",
    "        correct_files_with_all_voices_dir2_filter_treble.append(music_xml_file_path)"
   ]
  },
  {
   "cell_type": "code",
   "execution_count": 16,
   "id": "4641ba7e",
   "metadata": {},
   "outputs": [
    {
     "data": {
      "text/plain": [
       "423"
      ]
     },
     "execution_count": 16,
     "metadata": {},
     "output_type": "execute_result"
    }
   ],
   "source": [
    "len(correct_files_with_all_voices_dir2_filter_treble)"
   ]
  },
  {
   "cell_type": "markdown",
   "id": "c8ddfa84",
   "metadata": {},
   "source": [
    "# Results\n",
    "### We obtain a total of 223 files from folder 1 and 423 files for folder 2 i.e. a total of 646 folders\n",
    "## Back to more filters ...\n",
    "\n",
    "## We now apply some more musical criteria for both the folders by the musician\n",
    "\n",
    "#### (4) Automatically discard all the folders for which, one or more voices in the score, have not at all lyrics, when should have (some editors avoid to repeat the same lyric for all voices, assuming that the musicians will relate to the first voice to read the corresponding verse). For these cases, the audio files are instrumental generated instead of voice generated. So, it is possible to automatically discard these folders by detecting in one or more than one audio files, this instrumental generation when the file name indicate a voice channel (‘soprano’, ‘alto’, ‘tenor’ ‘bass’, ‘cantus’, ‘quintus’, ‘altus’, ‘bassus’, ‘voice#’)\n"
   ]
  },
  {
   "cell_type": "markdown",
   "id": "7333c26c",
   "metadata": {},
   "source": [
    "## Parse directory 1"
   ]
  },
  {
   "cell_type": "code",
   "execution_count": 17,
   "id": "5f7fa9e9",
   "metadata": {},
   "outputs": [],
   "source": [
    "def preprocess_string(s):\n",
    "    # Remove hyphens and blank spaces\n",
    "    return s.replace('-', '').replace(' ', '')"
   ]
  },
  {
   "cell_type": "code",
   "execution_count": 18,
   "id": "bf98eef2",
   "metadata": {},
   "outputs": [],
   "source": [
    "#Get the same number of files with score directory 1, the name of accompaniment can be different \n",
    "#in different scores. We filter out data using the file \"info.json\"\n",
    "possible_candidates_with_wrong_lyrics_dir1 = []\n",
    "for music_xml_file_path in correct_files_with_all_voices_dir1_filter_treble:\n",
    "    missing_lyrics = False\n",
    "    #music_xml_file_path = music_xml_file['Parsable Files']\n",
    "    score = music21.converter.parse(music_xml_file_path)\n",
    "    all_lyrics = []\n",
    "    #Get if the file has accompaniment, if yes, then fetch the name from json file and remove it from lyrics list\n",
    "    json_path = os.path.join(os.path.dirname(music_xml_file_path), 'info.json')\n",
    "    with open(json_path, \"r\") as json_file:\n",
    "    # Load the JSON data from the file\n",
    "        data = json.load(json_file)\n",
    "    #default accompaniment name\n",
    "    accompaniment_name = 'Piano'\n",
    "    if data['parts'][-1]['type'] == 'accompaniment':\n",
    "        accompaniment_name = data['parts'][-1]['name']    \n",
    "    \n",
    "    for part in score.parts:\n",
    "        if part.partName == accompaniment_name:\n",
    "            continue\n",
    "        \n",
    "        lyrics_for_part = ''\n",
    "        for note in part.recurse().getElementsByClass('Note'):            \n",
    "            if note.lyric:\n",
    "                lyrics_for_part += note.lyric\n",
    "        processed_string = preprocess_string(lyrics_for_part)\n",
    "        all_lyrics.append(str(processed_string))\n",
    "    #print(all_lyrics)\n",
    "    missing_lyrics = [s=='' for s in all_lyrics]\n",
    "    if any(missing_lyrics):            \n",
    "        possible_candidates_with_wrong_lyrics_dir1.append(music_xml_file_path)"
   ]
  },
  {
   "cell_type": "code",
   "execution_count": 19,
   "id": "2df167c8",
   "metadata": {},
   "outputs": [
    {
     "data": {
      "text/plain": [
       "10"
      ]
     },
     "execution_count": 19,
     "metadata": {},
     "output_type": "execute_result"
    }
   ],
   "source": [
    "len(possible_candidates_with_wrong_lyrics_dir1)"
   ]
  },
  {
   "cell_type": "code",
   "execution_count": 20,
   "id": "54dc06d5",
   "metadata": {},
   "outputs": [],
   "source": [
    "#Remove the identified songs from the final list\n",
    "for item in correct_files_with_all_voices_dir1_filter_treble:\n",
    "    if item in possible_candidates_with_wrong_lyrics_dir1:\n",
    "        correct_files_with_all_voices_dir1_filter_treble.remove(item)"
   ]
  },
  {
   "cell_type": "code",
   "execution_count": 22,
   "id": "27b055ea",
   "metadata": {},
   "outputs": [
    {
     "data": {
      "text/plain": [
       "213"
      ]
     },
     "execution_count": 22,
     "metadata": {},
     "output_type": "execute_result"
    }
   ],
   "source": [
    "len(correct_files_with_all_voices_dir1_filter_treble)"
   ]
  },
  {
   "cell_type": "markdown",
   "id": "ebcc752b",
   "metadata": {},
   "source": [
    "## Parse directory 2"
   ]
  },
  {
   "cell_type": "code",
   "execution_count": 23,
   "id": "7790e629",
   "metadata": {},
   "outputs": [],
   "source": [
    "#Get the same number of files with score directory 1, the name of accompaniment can be different \n",
    "#in different scores. We filter out data using the file \"info.json\"\n",
    "possible_candidates_with_wrong_lyrics_dir2 = []\n",
    "for music_xml_file_path in correct_files_with_all_voices_dir2_filter_treble:\n",
    "    missing_lyrics = False\n",
    "    #music_xml_file_path = music_xml_file['Parsable Files']\n",
    "    score = music21.converter.parse(music_xml_file_path)\n",
    "    all_lyrics = []\n",
    "    #Get if the file has accompaniment, if yes, then fetch the name from json file and remove it from lyrics list\n",
    "    json_path = os.path.join(os.path.dirname(music_xml_file_path), 'info.json')\n",
    "    with open(json_path, \"r\") as json_file:\n",
    "    # Load the JSON data from the file\n",
    "        data = json.load(json_file)\n",
    "    if data['parts'][-1]['type'] == 'accompaniment':\n",
    "        accompaniment_name = data['parts'][-1]['name']    \n",
    "    \n",
    "    for part in score.parts:\n",
    "        if part.partName == accompaniment_name:\n",
    "            continue\n",
    "        \n",
    "        lyrics_for_part = ''\n",
    "        for note in part.recurse().getElementsByClass('Note'):            \n",
    "            if note.lyric:\n",
    "                lyrics_for_part += note.lyric\n",
    "        processed_string = preprocess_string(lyrics_for_part)\n",
    "        all_lyrics.append(str(processed_string))\n",
    "    #print(all_lyrics)\n",
    "    missing_lyrics = [s=='' for s in all_lyrics]\n",
    "    if any(missing_lyrics):            \n",
    "        possible_candidates_with_wrong_lyrics_dir2.append(music_xml_file_path)"
   ]
  },
  {
   "cell_type": "code",
   "execution_count": 31,
   "id": "45f4b6e3",
   "metadata": {},
   "outputs": [
    {
     "data": {
      "text/plain": [
       "51"
      ]
     },
     "execution_count": 31,
     "metadata": {},
     "output_type": "execute_result"
    }
   ],
   "source": [
    "len(possible_candidates_with_wrong_lyrics_dir2)"
   ]
  },
  {
   "cell_type": "code",
   "execution_count": 33,
   "id": "c2f26330",
   "metadata": {},
   "outputs": [],
   "source": [
    "#Remove the identified songs from the final list\n",
    "for item in correct_files_with_all_voices_dir2_filter_treble:\n",
    "    if item in possible_candidates_with_wrong_lyrics_dir2:\n",
    "        correct_files_with_all_voices_dir2_filter_treble.remove(item)"
   ]
  },
  {
   "cell_type": "code",
   "execution_count": 34,
   "id": "9d8a2bc5",
   "metadata": {},
   "outputs": [
    {
     "data": {
      "text/plain": [
       "373"
      ]
     },
     "execution_count": 34,
     "metadata": {},
     "output_type": "execute_result"
    }
   ],
   "source": [
    "len(correct_files_with_all_voices_dir2_filter_treble)"
   ]
  },
  {
   "cell_type": "code",
   "execution_count": 24,
   "id": "89b2a45c",
   "metadata": {},
   "outputs": [
    {
     "name": "stdout",
     "output_type": "stream",
     "text": [
      "All data saved successfully!\n",
      "All data saved successfully!\n"
     ]
    }
   ],
   "source": [
    "# Save the files in csv \n",
    "#Save the filtered data based on lyrics in a csv\n",
    "file_path_CPDL1 = 'correct_file_names_removed_treble_wrong_lyrics_cpdl_repeat1.csv'\n",
    "file_path_CPDL2 = 'correct_file_names_removed_treble_wrong_lyrics_cpdl_repeat2.csv'\n",
    "# Open the file in write mode\n",
    "with open(file_path_CPDL1, 'w', newline='') as file:\n",
    "    writer = csv.writer(file)\n",
    "    writer.writerow(['Parsable Files'])\n",
    "    for file_name in correct_files_with_all_voices_dir1_filter_treble:\n",
    "        writer.writerow([file_name])\n",
    "\n",
    "# Confirm that the list has been saved\n",
    "print(\"All data saved successfully!\")\n",
    "\n",
    "# Open the file in write mode\n",
    "with open(file_path_CPDL2, 'w', newline='') as file:\n",
    "    writer = csv.writer(file)\n",
    "    writer.writerow(['Parsable Files'])\n",
    "    for file_name in correct_files_with_all_voices_dir2_filter_treble:\n",
    "        writer.writerow([file_name])\n",
    "\n",
    "# Confirm that the list has been saved\n",
    "print(\"All data saved successfully!\")\n"
   ]
  },
  {
   "cell_type": "markdown",
   "id": "1ac1eebc",
   "metadata": {},
   "source": [
    "# Results\n",
    "### We obtain a total of 213 files from folder 1 and 373 files for folder 2 i.e. a total of 586 folders from which we chose 20 songs and mark them as accepted based on manually listening to the accepted files. It is to be noted that a large number of files are rejected in the manual listening experiment "
   ]
  },
  {
   "cell_type": "markdown",
   "id": "a580054f",
   "metadata": {},
   "source": [
    "# Future Work\n",
    "\n",
    "We can add more musically informed criteria to filter out more renditions, however, since the data is not very consistent, it is hard to implement the identified criteria. The other musical criteria for consideration includes:\n",
    "\n",
    "(5) Automatically discard all the folders that, corresponding to strophic chorale songs, have no indication of repetition (repetition bars, da capo or da segno). This could be addressed by simple math calculation knowing the pulse, the time signature, the number of measures and the number of stanzas\n",
    "\n",
    "Comments: Its not easy to identify how many parts are meant for Repeat and so on, and how many times the score is to be repeated\n",
    "\n",
    "(6) Automatically discard all the folders that, instead of relating each note with its corresponding syllable of the verse, put the whole verse continuously in just the first note. As a consequence of this, the voice generation consists on the melody sung by a continuous sound “ah” for all the channels. So, it is possible to automatically discard these folders by detecting in one or more than one audio files, this onomatopoeic generation \n",
    "\n",
    "Comments: This criteria has been implemented by using lyrics information. If the lyrics are absent in any of the score parts, we filter out that score. \n",
    "\n",
    "In the analysis of musicxml scores, it was found that the lyrics information is sometimes included in place of TextExpression at the beginning of the score. The lyrics were not tied to notes in that case, or the first note. We tried implementing a way to filter out using the length of TextExpression, assuming that if the lyrics are indeed included as part of it, the length of TextExpression would be more than say a specific threshold (maybe 30), however, many times the TextExpression consists of some details of the score like the composer etc. Hence, a basic thresholding based criteria does not provide sufficient information to filter based on TextExpression. We decided to go for the lyrics approach thereafter.\n",
    " "
   ]
  },
  {
   "cell_type": "code",
   "execution_count": null,
   "id": "217cefe5",
   "metadata": {},
   "outputs": [],
   "source": []
  }
 ],
 "metadata": {
  "kernelspec": {
   "display_name": "Python 3 (ipykernel)",
   "language": "python",
   "name": "python3"
  },
  "language_info": {
   "codemirror_mode": {
    "name": "ipython",
    "version": 3
   },
   "file_extension": ".py",
   "mimetype": "text/x-python",
   "name": "python",
   "nbconvert_exporter": "python",
   "pygments_lexer": "ipython3",
   "version": "3.9.6"
  }
 },
 "nbformat": 4,
 "nbformat_minor": 5
}
