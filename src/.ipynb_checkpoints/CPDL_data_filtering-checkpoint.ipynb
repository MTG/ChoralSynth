{
 "cells": [
  {
   "cell_type": "code",
   "execution_count": 1,
   "id": "7988f109",
   "metadata": {},
   "outputs": [
    {
     "name": "stderr",
     "output_type": "stream",
     "text": [
      "/Users/jyotinarang/essentia_env/lib/python3.9/site-packages/urllib3/__init__.py:34: NotOpenSSLWarning: urllib3 v2.0 only supports OpenSSL 1.1.1+, currently the 'ssl' module is compiled with 'LibreSSL 2.8.3'. See: https://github.com/urllib3/urllib3/issues/3020\n",
      "  warnings.warn(\n"
     ]
    }
   ],
   "source": [
    "import music21\n",
    "import os\n",
    "import glob\n",
    "import json\n",
    "import csv\n",
    "import pandas as pd"
   ]
  },
  {
   "cell_type": "code",
   "execution_count": 2,
   "id": "166e1527",
   "metadata": {},
   "outputs": [
    {
     "ename": "FileNotFoundError",
     "evalue": "[Errno 2] No such file or directory: 'CPDL NO REPEAT_1'",
     "output_type": "error",
     "traceback": [
      "\u001b[0;31m---------------------------------------------------------------------------\u001b[0m",
      "\u001b[0;31mFileNotFoundError\u001b[0m                         Traceback (most recent call last)",
      "Cell \u001b[0;32mIn[2], line 4\u001b[0m\n\u001b[1;32m      2\u001b[0m base_dir1 \u001b[38;5;241m=\u001b[39m \u001b[38;5;124m'\u001b[39m\u001b[38;5;124mCPDL NO REPEAT_1\u001b[39m\u001b[38;5;124m'\u001b[39m\n\u001b[1;32m      3\u001b[0m base_dir2 \u001b[38;5;241m=\u001b[39m \u001b[38;5;124m'\u001b[39m\u001b[38;5;124mCPDL NO REPEAT_2\u001b[39m\u001b[38;5;124m'\u001b[39m\n\u001b[0;32m----> 4\u001b[0m all_score_files_dir1 \u001b[38;5;241m=\u001b[39m \u001b[43mos\u001b[49m\u001b[38;5;241;43m.\u001b[39;49m\u001b[43mlistdir\u001b[49m\u001b[43m(\u001b[49m\u001b[43mbase_dir1\u001b[49m\u001b[43m)\u001b[49m\n\u001b[1;32m      5\u001b[0m all_score_files_dir2 \u001b[38;5;241m=\u001b[39m os\u001b[38;5;241m.\u001b[39mlistdir(base_dir2)\n",
      "\u001b[0;31mFileNotFoundError\u001b[0m: [Errno 2] No such file or directory: 'CPDL NO REPEAT_1'"
     ]
    }
   ],
   "source": [
    "#Elaborate on all the filters, provide the results\n",
    "base_dir1 = 'CPDL NO REPEAT_1'\n",
    "base_dir2 = 'CPDL NO REPEAT_2'\n",
    "all_score_files_dir1 = os.listdir(base_dir1)\n",
    "all_score_files_dir2 = os.listdir(base_dir2)"
   ]
  },
  {
   "cell_type": "code",
   "execution_count": 3,
   "id": "f87daf28",
   "metadata": {},
   "outputs": [
    {
     "data": {
      "text/plain": [
       "(353, 536)"
      ]
     },
     "execution_count": 3,
     "metadata": {},
     "output_type": "execute_result"
    }
   ],
   "source": [
    "len(all_score_files_dir1), len(all_score_files_dir2)"
   ]
  },
  {
   "cell_type": "markdown",
   "id": "bcd055b2",
   "metadata": {},
   "source": [
    "## We find a total of 353 scores in directory1 and 536 scores in directory 2 i.e. a toal of 889 score files"
   ]
  },
  {
   "cell_type": "markdown",
   "id": "12f05f8e",
   "metadata": {},
   "source": [
    "### Score Filters Criteria"
   ]
  },
  {
   "cell_type": "markdown",
   "id": "f7777ad9",
   "metadata": {},
   "source": [
    "### (1) Filter all scores that are not parsable i.e. cannot be read using xml reader using music21"
   ]
  },
  {
   "cell_type": "markdown",
   "id": "a48190e5",
   "metadata": {},
   "source": [
    "### Parse for directory 1"
   ]
  },
  {
   "cell_type": "code",
   "execution_count": 5,
   "id": "94880b7b",
   "metadata": {},
   "outputs": [
    {
     "name": "stderr",
     "output_type": "stream",
     "text": [
      "/Users/jyotinarang/essentia_env/lib/python3.9/site-packages/music21/musicxml/xmlToM21.py:1986: MusicXMLWarning: The following exception took place in m. 4 in part C..\n",
      "  warnings.warn(\n",
      "/Users/jyotinarang/essentia_env/lib/python3.9/site-packages/music21/musicxml/xmlToM21.py:1986: MusicXMLWarning: The following exception took place in m. 12 in part C..\n",
      "  warnings.warn(\n",
      "/Users/jyotinarang/essentia_env/lib/python3.9/site-packages/music21/musicxml/xmlToM21.py:1986: MusicXMLWarning: The following exception took place in m. 2 in part Tr..\n",
      "  warnings.warn(\n",
      "/Users/jyotinarang/essentia_env/lib/python3.9/site-packages/music21/musicxml/xmlToM21.py:1986: MusicXMLWarning: The following exception took place in m. 1 in part Tr..\n",
      "  warnings.warn(\n",
      "/Users/jyotinarang/essentia_env/lib/python3.9/site-packages/music21/musicxml/xmlToM21.py:1986: MusicXMLWarning: The following exception took place in m. 4 in part B..\n",
      "  warnings.warn(\n",
      "/Users/jyotinarang/essentia_env/lib/python3.9/site-packages/music21/musicxml/xmlToM21.py:1986: MusicXMLWarning: The following exception took place in m. 8 in part B..\n",
      "  warnings.warn(\n",
      "/Users/jyotinarang/essentia_env/lib/python3.9/site-packages/music21/musicxml/xmlToM21.py:1986: MusicXMLWarning: The following exception took place in m. 16 in part T..\n",
      "  warnings.warn(\n",
      "/Users/jyotinarang/essentia_env/lib/python3.9/site-packages/music21/musicxml/xmlToM21.py:1986: MusicXMLWarning: The following exception took place in m. 7 in part C..\n",
      "  warnings.warn(\n"
     ]
    }
   ],
   "source": [
    "#Script to check the files that can be opened sucessfully using music21!\n",
    "possible_file_type_extensions = ['*.xml', '*.musicxml']\n",
    "total_correct_files = 0\n",
    "correct_file_names = []\n",
    "for score_file in all_score_files_dir1:\n",
    "    if score_file=='.DS_Store':\n",
    "        continue\n",
    "    base_path = os.path.join(base_dir1, score_file)\n",
    "    \n",
    "    for file_extension in possible_file_type_extensions:\n",
    "        musicxml_file = sorted(glob.glob(os.path.join(base_path, file_extension)))\n",
    "        if len(musicxml_file)!= 0:\n",
    "            xml_file_path = musicxml_file[0] \n",
    "    try:\n",
    "        score = music21.converter.parse(xml_file_path)\n",
    "        correct_file_names.append(xml_file_path)\n",
    "    except:\n",
    "        pass\n",
    "        #print(\"Could not parse\", musicxml_file)"
   ]
  },
  {
   "cell_type": "code",
   "execution_count": 7,
   "id": "e6806349",
   "metadata": {},
   "outputs": [
    {
     "data": {
      "text/plain": [
       "296"
      ]
     },
     "execution_count": 7,
     "metadata": {},
     "output_type": "execute_result"
    }
   ],
   "source": [
    "len(correct_file_names)"
   ]
  },
  {
   "cell_type": "markdown",
   "id": "de0f7fd8",
   "metadata": {},
   "source": [
    "### Parse for directory 2"
   ]
  },
  {
   "cell_type": "code",
   "execution_count": 9,
   "id": "7fbb1c6e",
   "metadata": {},
   "outputs": [],
   "source": [
    "#PArse directory 2\n",
    "possible_file_type_extensions = ['*.xml', '*.musicxml']\n",
    "total_correct_files_dir2 = 0\n",
    "correct_file_names_dir2 = []\n",
    "for score_file in all_score_files_dir2:\n",
    "    if score_file=='.DS_Store':\n",
    "        continue\n",
    "    base_path = os.path.join(base_dir2, score_file)\n",
    "    for file_extension in possible_file_type_extensions:\n",
    "        musicxml_file = sorted(glob.glob(os.path.join(base_path, file_extension)))\n",
    "        if len(musicxml_file)!= 0:\n",
    "            xml_file_path = musicxml_file[0] \n",
    "    try:\n",
    "        score = music21.converter.parse(xml_file_path)\n",
    "        correct_file_names_dir2.append(xml_file_path)\n",
    "    except:\n",
    "        pass\n",
    "        #print(\"Could not parse\", musicxml_file)"
   ]
  },
  {
   "cell_type": "code",
   "execution_count": 10,
   "id": "6bc6fe14",
   "metadata": {},
   "outputs": [
    {
     "data": {
      "text/plain": [
       "531"
      ]
     },
     "execution_count": 10,
     "metadata": {},
     "output_type": "execute_result"
    }
   ],
   "source": [
    "len(correct_file_names_dir2)"
   ]
  },
  {
   "cell_type": "markdown",
   "id": "be1793e4",
   "metadata": {},
   "source": [
    "# Results\n",
    "### We obtain a total of 296 files from folder 1 and 531 files for folder 2 i.e. a total of 827 folders\n",
    "\n",
    "## Back to more filters ...\n",
    "### (2) Filter all scores for which the count of the number of streams in ‘voices’ folder is not the same as the number of streams in the xml file read using music21\n",
    "\n",
    "## Parse for directory 1"
   ]
  },
  {
   "cell_type": "code",
   "execution_count": 13,
   "id": "5fcca6dc",
   "metadata": {},
   "outputs": [],
   "source": [
    "#Of correct file names, get the number of scores that have the same count of files in the voices folder\n",
    "#We observe that sometimes the streams for accompaniment are counted as separate streams in music21, \n",
    "#but they are synthesized as one accompaniment in the voices folder. To account for that, we convert the stream \n",
    "#information to a set and compare using the set length\n",
    "correct_files_with_all_voices_dir1 = []\n",
    "for music_xml_file in correct_file_names:\n",
    "    score = music21.converter.parse(music_xml_file)\n",
    "    parts_list = []\n",
    "    for part in score.parts:\n",
    "        parts_list.append(part.partName)\n",
    "    num_unique_streams = set(parts_list)    \n",
    "    # Get the number of streams in the parsed score\n",
    "    #num_streams = len(score.getElementsByClass(music21.stream.Stream))\n",
    "    #print(\"Number of streams in the parsed score:\", num_streams)\n",
    "    #Test if the number of streams is the same as the number of voices in the voices folder\n",
    "    voices_folder_path = os.path.join(os.path.dirname(music_xml_file), 'voices')\n",
    "    all_voices = os.listdir(voices_folder_path)\n",
    "    if len(all_voices) == len(num_unique_streams):\n",
    "        correct_files_with_all_voices_dir1.append(music_xml_file)"
   ]
  },
  {
   "cell_type": "code",
   "execution_count": 37,
   "id": "498666c3",
   "metadata": {},
   "outputs": [
    {
     "data": {
      "text/plain": [
       "['CPDL NO REPEAT_1/Jerusalem%2C_arise/score.musicxml',\n",
       " 'CPDL NO REPEAT_1/HappyRetributionIngalls1805bprx/score.musicxml',\n",
       " 'CPDL NO REPEAT_1/Holst_-_Love_is_enough/score.musicxml',\n",
       " 'CPDL NO REPEAT_1/I_will_lay_me_down_Sullivan/score.musicxml',\n",
       " 'CPDL NO REPEAT_1/He_that_hath_a_pleasant_face_Hatton/score.musicxml',\n",
       " 'CPDL NO REPEAT_1/Havergal_Deus_Misereatur/score.musicxml',\n",
       " 'CPDL NO REPEAT_1/FayettevilleHolyoke1791a/score.musicxml',\n",
       " 'CPDL NO REPEAT_1/Grell_Nun_sich_der_Tag/score.musicxml',\n",
       " 'CPDL NO REPEAT_1/God_the_All-Fatherly_ah_/score.musicxml',\n",
       " 'CPDL NO REPEAT_1/I_know_that_my_Redeemer_Tomkins/score.musicxml',\n",
       " 'CPDL NO REPEAT_1/Isaac-Die_br%C3%BCnlein_die_da_fliessen/score.musicxml',\n",
       " 'CPDL NO REPEAT_1/EG344Trio/score.musicxml',\n",
       " 'CPDL NO REPEAT_1/Eventide_Abt/score.musicxml',\n",
       " 'CPDL NO REPEAT_1/Erk_Sonntagmorgen/score.musicxml',\n",
       " 'CPDL NO REPEAT_1/Ferr_ILang/score.musicxml',\n",
       " 'CPDL NO REPEAT_1/India-Domine_prevenisti_eum/score.musicxml',\n",
       " 'CPDL NO REPEAT_1/HempCW-IStrive/score.musicxml',\n",
       " 'CPDL NO REPEAT_1/Ivo-de-Vento-No-2-OICh-ruff-zu-dir-Herr-Jesu-Christ/score.musicxml',\n",
       " 'CPDL NO REPEAT_1/In_dich_hab_ich_gehoffet%2C_Herr_Schutz_/score.musicxml',\n",
       " 'CPDL NO REPEAT_1/In_Jewry_is_God_known_Clarke-Whitfeld/score.musicxml',\n",
       " 'CPDL NO REPEAT_1/How_dear_are_Thy_counsels_Crotch/score.musicxml',\n",
       " 'CPDL NO REPEAT_1/JarmT-HappyTheSouls/score.musicxml',\n",
       " 'CPDL NO REPEAT_1/I_will_recount/score.musicxml',\n",
       " 'CPDL NO REPEAT_1/JarvS-TheLordHimself/score.musicxml',\n",
       " 'CPDL NO REPEAT_1/Hor_an_mein_Klag_Isaac/score.musicxml',\n",
       " 'CPDL NO REPEAT_1/JarvS-HowBlest/score.musicxml',\n",
       " 'CPDL NO REPEAT_1/Elgar_ave_maria/score.musicxml',\n",
       " 'CPDL NO REPEAT_1/27_Deus%2C_Deus_meus/score.musicxml',\n",
       " 'CPDL NO REPEAT_1/HonorToTheHillsIngalls1805bpr/score.musicxml',\n",
       " 'CPDL NO REPEAT_1/Go%2C_eat_rich_meat/score.musicxml',\n",
       " 'CPDL NO REPEAT_1/JarmT-EreISleepFor/score.musicxml',\n",
       " 'CPDL NO REPEAT_1/Ihr_unsre_neuen_Leiter/score.musicxml',\n",
       " 'CPDL NO REPEAT_1/JarmT-JesusShallReign/score.musicxml',\n",
       " 'CPDL NO REPEAT_1/It_was_a_lover_and_his_lass_MacFarren/score.musicxml',\n",
       " 'CPDL NO REPEAT_1/140._Leoni%2C_L._Audivi_vocem_Angelorum_a_8/score.musicxml',\n",
       " 'CPDL NO REPEAT_1/18-wolauff_gut_gsell_von_hinnen---0-score/score.musicxml',\n",
       " 'CPDL NO REPEAT_1/HagueHolyoke1791ax/score.musicxml',\n",
       " 'CPDL NO REPEAT_1/How_bright_in_the_Maytime_Pearsall/score.musicxml',\n",
       " 'CPDL NO REPEAT_1/Jesu%2C_the_very_thought_of_thee_Bairstow/score.musicxml',\n",
       " 'CPDL NO REPEAT_1/I_saw_my_lady_weep_Dowland/score.musicxml',\n",
       " 'CPDL NO REPEAT_1/JarmT-GreatGodAttend/score.musicxml',\n",
       " 'CPDL NO REPEAT_1/I_was_glad/score.musicxml',\n",
       " 'CPDL NO REPEAT_1/Father%2C_if_this_chalice/score.musicxml',\n",
       " 'CPDL NO REPEAT_1/Haydn_6_psalms_61_long_life_shall/score.musicxml',\n",
       " 'CPDL NO REPEAT_1/Joy_to_the_victors_Sullivan/score.musicxml',\n",
       " 'CPDL NO REPEAT_1/Hunting_song_Macfarren_WC/score.musicxml',\n",
       " 'CPDL NO REPEAT_1/HermonCarrell1821bpr/score.musicxml',\n",
       " 'CPDL NO REPEAT_1/HaweisThird1791bpr/score.musicxml',\n",
       " 'CPDL NO REPEAT_1/Giffen-Ave_Maria/score.musicxml',\n",
       " 'CPDL NO REPEAT_1/ExtollationJanes1803apr/score.musicxml',\n",
       " 'CPDL NO REPEAT_1/GiffW-OComeLoud/score.musicxml',\n",
       " 'CPDL NO REPEAT_1/Father_reigning_in_thy_glory_Weber/score.musicxml',\n",
       " 'CPDL NO REPEAT_1/Inno_alla_croce/score.musicxml',\n",
       " 'CPDL NO REPEAT_1/If_we_believe_that_Jesus_died/score.musicxml',\n",
       " 'CPDL NO REPEAT_1/Hassler_-_Domine_Deus_meus/score.musicxml',\n",
       " 'CPDL NO REPEAT_1/I_sing_the_birth/score.musicxml',\n",
       " 'CPDL NO REPEAT_1/GospelTrumpetCarrell1821bpr/score.musicxml',\n",
       " 'CPDL NO REPEAT_1/Hope_and_fear_Otto/score.musicxml',\n",
       " 'CPDL NO REPEAT_1/John_Peel_jw/score.musicxml',\n",
       " 'CPDL NO REPEAT_1/Ivo-de-Vento-No-9-Vor-etlich-wenig-tagen/score.musicxml',\n",
       " 'CPDL NO REPEAT_1/I_was_exalted_MacFarren/score.musicxml',\n",
       " 'CPDL NO REPEAT_1/Fairy_song_Zimmermann/score.musicxml',\n",
       " 'CPDL NO REPEAT_1/FarewellHymnIngalls1805bpr/score.musicxml',\n",
       " 'CPDL NO REPEAT_1/If_ye_love_me_-_Gauntlett/score.musicxml',\n",
       " 'CPDL NO REPEAT_1/Introit_for_Easter_Day/score.musicxml',\n",
       " 'CPDL NO REPEAT_1/Ich_danke_dem_Herrn_Schutz/score.musicxml',\n",
       " 'CPDL NO REPEAT_1/Haydnmesse_4stimmig/score.musicxml',\n",
       " 'CPDL NO REPEAT_1/JusticeGoff1805bpr/score.musicxml',\n",
       " 'CPDL NO REPEAT_1/Hane-hei/score.musicxml',\n",
       " 'CPDL NO REPEAT_1/JarvS-MySoulWith/score.musicxml',\n",
       " 'CPDL NO REPEAT_1/Expectans_expectavi_Wood/score.musicxml',\n",
       " 'CPDL NO REPEAT_1/Hamm-Fre/score.musicxml',\n",
       " 'CPDL NO REPEAT_1/ElonIngalls1805bprx/score.musicxml',\n",
       " 'CPDL NO REPEAT_1/JarvS-DefendMe/score.musicxml',\n",
       " 'CPDL NO REPEAT_1/ExperienceIngalls1805bprx/score.musicxml',\n",
       " 'CPDL NO REPEAT_1/Escurece_las_montanas_Machado/score.musicxml',\n",
       " 'CPDL NO REPEAT_1/Holst_-_Dream_Tryst/score.musicxml',\n",
       " 'CPDL NO REPEAT_1/In_April_time_Pinsuti/score.musicxml',\n",
       " 'CPDL NO REPEAT_1/JarmT-GreatGodWhose/score.musicxml',\n",
       " 'CPDL NO REPEAT_1/Home_they_brought_her_warrior_dead_Stanford/score.musicxml',\n",
       " 'CPDL NO REPEAT_1/FawcJ-EternalDepth-nokeyb/score.musicxml',\n",
       " 'CPDL NO REPEAT_1/God_omnipotent_reigneth_Wood/score.musicxml',\n",
       " 'CPDL NO REPEAT_1/If_thou_art_sleeping_Hatton/score.musicxml',\n",
       " 'CPDL NO REPEAT_1/I_will_sing_of_thy_power/score.musicxml',\n",
       " 'CPDL NO REPEAT_1/India-Assumpta_est_Maria/score.musicxml',\n",
       " 'CPDL NO REPEAT_1/Judas_the_transgressor/score.musicxml',\n",
       " 'CPDL NO REPEAT_1/JarmT-MyGodTheSpring/score.musicxml',\n",
       " 'CPDL NO REPEAT_1/Good_King_Wenceslas_G_Shaw/score.musicxml',\n",
       " 'CPDL NO REPEAT_1/Fly_not_so_swift_my_dear/score.musicxml',\n",
       " 'CPDL NO REPEAT_1/JarmT-ComeLetUsWho/score.musicxml',\n",
       " 'CPDL NO REPEAT_1/En_la_fuente_Vasquez/score.musicxml',\n",
       " 'CPDL NO REPEAT_1/Farmer-chessire/score.musicxml',\n",
       " 'CPDL NO REPEAT_1/08_Anima_nostra/score.musicxml',\n",
       " 'CPDL NO REPEAT_1/Guilmant-Ave_verum/score.musicxml',\n",
       " 'CPDL NO REPEAT_1/Invocation_to_Sleep_Benedict/score.musicxml',\n",
       " 'CPDL NO REPEAT_1/I_sing_the_birth_Sullivan/score.musicxml',\n",
       " 'CPDL NO REPEAT_1/Jesus_said_unto_the_people_Stainer/score.musicxml',\n",
       " 'CPDL NO REPEAT_1/JarvS-HesBlest/score.musicxml',\n",
       " 'CPDL NO REPEAT_1/How_long_wilt_thou_forget_me_Clarke/score.musicxml',\n",
       " 'CPDL NO REPEAT_1/Feasting_I_watch_Elgar/score.musicxml',\n",
       " 'CPDL NO REPEAT_1/HamburghPilsbury1799bprx/score.musicxml',\n",
       " 'CPDL NO REPEAT_1/Farmer-Nunc_dimittis/score.musicxml',\n",
       " 'CPDL NO REPEAT_1/15_Dextera_Domini/score.musicxml',\n",
       " 'CPDL NO REPEAT_1/GuildfordBrownson1783bpr/score.musicxml',\n",
       " 'CPDL NO REPEAT_1/Elgar_-_Ave_Verum_Corpus/score.musicxml',\n",
       " 'CPDL NO REPEAT_1/JarmT-MySoulLiesCleaving/score.musicxml',\n",
       " 'CPDL NO REPEAT_1/I_sing_the_birth_Gibb/score.musicxml',\n",
       " 'CPDL NO REPEAT_1/Farmer-The_Lords_Prayer/score.musicxml',\n",
       " 'CPDL NO REPEAT_1/It_is_not/score.musicxml',\n",
       " 'CPDL NO REPEAT_1/It_is_high_time_Barnby/score.musicxml',\n",
       " 'CPDL NO REPEAT_1/Everyone_who_lives/score.musicxml',\n",
       " 'CPDL NO REPEAT_1/JarvS-BlessedBe/score.musicxml',\n",
       " 'CPDL NO REPEAT_1/If_thou_shalt_confess_Stanford/score.musicxml',\n",
       " 'CPDL NO REPEAT_1/India-Ad_te_Domine_levavi/score.musicxml',\n",
       " 'CPDL NO REPEAT_1/How_sweet_the_moonlight_Leslie/score.musicxml',\n",
       " 'CPDL NO REPEAT_1/29_Benedicite_gentes/score.musicxml',\n",
       " 'CPDL NO REPEAT_1/Haydn_6_psalms_31_blest_be_the_name/score.musicxml',\n",
       " 'CPDL NO REPEAT_1/Gibb_Magnificat_in_F_minor/score.musicxml',\n",
       " 'CPDL NO REPEAT_1/Isaac-cum/score.musicxml',\n",
       " 'CPDL NO REPEAT_1/For_all_the_wonder_Bridge/score.musicxml',\n",
       " 'CPDL NO REPEAT_1/Howa-iwon.mscz/score.musicxml',\n",
       " 'CPDL NO REPEAT_1/Hallelujah_-_Mount_of_Olives/score.musicxml',\n",
       " 'CPDL NO REPEAT_1/16_Bonum_est_confiteri/score.musicxml',\n",
       " 'CPDL NO REPEAT_1/FairfordKimball1793bpr/score.musicxml',\n",
       " 'CPDL NO REPEAT_1/How_precious/score.musicxml',\n",
       " 'CPDL NO REPEAT_1/In_deep_distress/score.musicxml',\n",
       " 'CPDL NO REPEAT_1/Ivo-de-Vento-No-10-Es-was-einmal-ein-stolzer-Knab/score.musicxml',\n",
       " 'CPDL NO REPEAT_1/Good_Wine_em/score.musicxml',\n",
       " 'CPDL NO REPEAT_1/Haydn_6_psalms_50_the_lord_th_almighty_monarch/score.musicxml',\n",
       " 'CPDL NO REPEAT_1/11_Animuccia%2C_P._Ave_sanctissima/score.musicxml',\n",
       " 'CPDL NO REPEAT_1/HeavenlyCourtierIngalls1805bpr/score.musicxml',\n",
       " 'CPDL NO REPEAT_1/Fear_no_more_MacFarren/score.musicxml',\n",
       " 'CPDL NO REPEAT_1/I_will_lay_me_down_ace/score.musicxml',\n",
       " 'CPDL NO REPEAT_1/Highland_war_song_Macfarren_WC/score.musicxml',\n",
       " 'CPDL NO REPEAT_1/Jesu_the_very_thought_Wood/score.musicxml',\n",
       " 'CPDL NO REPEAT_1/JarmT-EternalSource/score.musicxml',\n",
       " 'CPDL NO REPEAT_1/Grieve_not_the_Holy_Spirit_of_God_Stainer/score.musicxml',\n",
       " 'CPDL NO REPEAT_1/For_we_are_so_preciously_loved/score.musicxml',\n",
       " 'CPDL NO REPEAT_1/Haydn_6_psalms_26_how_oft_instinct/score.musicxml',\n",
       " 'CPDL NO REPEAT_1/JarvS-IWaited/score.musicxml',\n",
       " 'CPDL NO REPEAT_1/Ivo-de-Vento-No-1-O-Jesu-Christ-dein-leiden/score.musicxml',\n",
       " 'CPDL NO REPEAT_1/If_you_love_me/score.musicxml',\n",
       " 'CPDL NO REPEAT_1/JarvS-MySoulInspired/score.musicxml',\n",
       " 'CPDL NO REPEAT_1/JarmT-GiveMeTheWings/score.musicxml',\n",
       " 'CPDL NO REPEAT_1/FostJ-MyShepherd/score.musicxml',\n",
       " 'CPDL NO REPEAT_1/I_will_feed_my_flock_Bridge/score.musicxml',\n",
       " 'CPDL NO REPEAT_1/Good_morrow_Zimmermann/score.musicxml',\n",
       " 'CPDL NO REPEAT_1/136._Benedict_Regius_Cantabant_Sancti_canticum_a_8/score.musicxml',\n",
       " 'CPDL NO REPEAT_1/Heraclitus_Stanford/score.musicxml',\n",
       " 'CPDL NO REPEAT_1/England_Hatton/score.musicxml',\n",
       " 'CPDL NO REPEAT_1/If_I_had_but_two_little_wings_Parry/score.musicxml',\n",
       " 'CPDL NO REPEAT_1/Hosanna_to_the_Son_of_David_MacFarren/score.musicxml',\n",
       " 'CPDL NO REPEAT_1/JarmT-NowBeginTheHeavenly-Triumph/score.musicxml',\n",
       " 'CPDL NO REPEAT_1/Jesus_holy_undefiled/score.musicxml',\n",
       " 'CPDL NO REPEAT_1/I_met_her_Hatton/score.musicxml',\n",
       " 'CPDL NO REPEAT_1/Ich_weiss_mir_Lasso/score.musicxml',\n",
       " 'CPDL NO REPEAT_1/GoodPhysicianHolden1806a/score.musicxml',\n",
       " 'CPDL NO REPEAT_1/Goodnight_Zimmermann/score.musicxml',\n",
       " 'CPDL NO REPEAT_1/HolstInTheBleakMid-Winter/score.musicxml',\n",
       " 'CPDL NO REPEAT_1/Elgar-Love/score.musicxml',\n",
       " 'CPDL NO REPEAT_1/I_am_the_resurrection_Tomkins/score.musicxml',\n",
       " 'CPDL NO REPEAT_1/10_Deus_enim_firmavit/score.musicxml',\n",
       " 'CPDL NO REPEAT_1/India-Circumdederunt_me/score.musicxml',\n",
       " 'CPDL NO REPEAT_1/Gibbons_-_Glorious_and_Powerful_God_%28viols%29/score.musicxml',\n",
       " 'CPDL NO REPEAT_1/ItalyFrench1789bpr/score.musicxml',\n",
       " 'CPDL NO REPEAT_1/Holy_Innocents/score.musicxml',\n",
       " 'CPDL NO REPEAT_1/HeavenlyOdeIngalls1805bpr/score.musicxml',\n",
       " 'CPDL NO REPEAT_1/Ich_glaube_an_einen_einigen_Gott_Schutz/score.musicxml',\n",
       " 'CPDL NO REPEAT_1/Ivo-de-Vento-No-11-11b-Es-het-ein-Schwab-Es-Wolt-nur/score.musicxml',\n",
       " 'CPDL NO REPEAT_1/Es_ist_ein_Schnee_gefallen_Othmayr/score.musicxml',\n",
       " 'CPDL NO REPEAT_1/HuntingtonMorgan1790bpr/score.musicxml',\n",
       " 'CPDL NO REPEAT_1/Ivo-de-Vento-No-18-Vil-ha%C3%9F-und-neid/score.musicxml',\n",
       " 'CPDL NO REPEAT_1/Goodnight_from_the_Rhine_Op.198_no.10_Raff/score.musicxml',\n",
       " 'CPDL NO REPEAT_1/Honour_and_majesty_are_before_him/score.musicxml',\n",
       " 'CPDL NO REPEAT_1/He_humbled_himself_Palestrina/score.musicxml',\n",
       " 'CPDL NO REPEAT_1/El_Rossinyol/score.musicxml',\n",
       " 'CPDL NO REPEAT_1/I_prithee_send_me_back_my_heart_Smart/score.musicxml',\n",
       " 'CPDL NO REPEAT_1/HallowellMcKyes1832a/score.musicxml',\n",
       " 'CPDL NO REPEAT_1/Heiligste_nacht_Haydn_M/score.musicxml',\n",
       " 'CPDL NO REPEAT_1/I_heard_a_voice_from_heaven_Goss/score.musicxml',\n",
       " 'CPDL NO REPEAT_1/Great_and_marvellous_are_Thy_works_Smart/score.musicxml',\n",
       " 'CPDL NO REPEAT_1/I_languish_to_complain_me_Bennet/score.musicxml',\n",
       " 'CPDL NO REPEAT_1/15-osiander--nun_bitten_wir_den_heiligen_geist----0-score/score.musicxml',\n",
       " 'CPDL NO REPEAT_1/JudgmentCarrell1821bpr/score.musicxml',\n",
       " 'CPDL NO REPEAT_1/FawcJ-BranchOfJessesStem-nokeyb/score.musicxml',\n",
       " 'CPDL NO REPEAT_1/I_am_the_Gate./score.musicxml',\n",
       " 'CPDL NO REPEAT_1/Hetl-and-you/score.musicxml',\n",
       " 'CPDL NO REPEAT_1/If_Ye_Be_Risen_Again_Tye_shortest/score.musicxml',\n",
       " 'CPDL NO REPEAT_1/FawcJ-LoHeComes/score.musicxml',\n",
       " 'CPDL NO REPEAT_1/08-praetorius--nun_bitten_wir_den_heiligen_geist----0-score/score.musicxml',\n",
       " 'CPDL NO REPEAT_1/In_Five_Four/score.musicxml',\n",
       " 'CPDL NO REPEAT_1/If_we_believe_that_Jesus_died_MacFarren/score.musicxml',\n",
       " 'CPDL NO REPEAT_1/JarmT-HeReignsTheLord/score.musicxml',\n",
       " 'CPDL NO REPEAT_1/I_will_not_leave_you_comfortless_Steane/score.musicxml',\n",
       " 'CPDL NO REPEAT_1/Holst_-_Her_eyes_the_glow-worm_lend_thee/score.musicxml',\n",
       " 'CPDL NO REPEAT_1/GovernmentSwan1801bpr/score.musicxml',\n",
       " 'CPDL NO REPEAT_1/JamaicaBillings1779bpr/score.musicxml',\n",
       " 'CPDL NO REPEAT_1/JB45-1_Selig_sind_die_da_Leid/score.musicxml',\n",
       " 'CPDL NO REPEAT_1/Good_wishes_Hatton/score.musicxml',\n",
       " 'CPDL NO REPEAT_1/Going_a_maying_Hatton/score.musicxml',\n",
       " 'CPDL NO REPEAT_1/HempCW-JustJudge/score.musicxml',\n",
       " 'CPDL NO REPEAT_1/JarvS-LordHear/score.musicxml',\n",
       " 'CPDL NO REPEAT_1/Jubilate_in_C_Kent/score.musicxml',\n",
       " 'CPDL NO REPEAT_1/How_sweet_is_summer_morning_Smart/score.musicxml',\n",
       " 'CPDL NO REPEAT_1/In_the_departure_of_the_Lord/score.musicxml',\n",
       " 'CPDL NO REPEAT_1/Hear_my_prayer%2C_O_Lord_Mundy/score.musicxml',\n",
       " 'CPDL NO REPEAT_1/In_Sherwood_lived_stout_Robin_Hood_Lloyd/score.musicxml',\n",
       " 'CPDL NO REPEAT_1/Jubilate_in_F_-_S_S_Wesley/score.musicxml',\n",
       " 'CPDL NO REPEAT_1/Glory_Be_To_God_the_Father/score.musicxml',\n",
       " 'CPDL NO REPEAT_1/Hassler_Maien/score.musicxml',\n",
       " 'CPDL NO REPEAT_1/Josq-AveM/score.musicxml',\n",
       " 'CPDL NO REPEAT_1/I_was_Hungry_op_113/score.musicxml',\n",
       " 'CPDL NO REPEAT_1/Graun_Surely_He_Hath_Borne_LOWER/score.musicxml',\n",
       " 'CPDL NO REPEAT_1/India-Angelus_Domini_descendit/score.musicxml',\n",
       " 'CPDL NO REPEAT_1/JarmT-TheLordOfGlory/score.musicxml',\n",
       " 'CPDL NO REPEAT_1/HealingMercyHolden1806/score.musicxml',\n",
       " 'CPDL NO REPEAT_1/Holst_-_Come_to_me/score.musicxml',\n",
       " 'CPDL NO REPEAT_1/I_love_my_love_Allen/score.musicxml',\n",
       " 'CPDL NO REPEAT_1/Jero-just.mscz/score.musicxml',\n",
       " 'CPDL NO REPEAT_1/JarvS-Christ/score.musicxml',\n",
       " 'CPDL NO REPEAT_1/EmbdenMoors1809bpr/score.musicxml',\n",
       " 'CPDL NO REPEAT_1/Home_they_brought_Barnby/score.musicxml',\n",
       " 'CPDL NO REPEAT_1/Evening_song_Hill/score.musicxml',\n",
       " 'CPDL NO REPEAT_1/If_ye_then_be_risen_with_Christ_Foster/score.musicxml',\n",
       " 'CPDL NO REPEAT_1/India-Domine_Deus_vite_meae/score.musicxml',\n",
       " 'CPDL NO REPEAT_1/If_ye_then_be_risen_with_Christ_Naylor/score.musicxml',\n",
       " 'CPDL NO REPEAT_1/Hear_The_Voice_Hopkins/score.musicxml',\n",
       " 'CPDL NO REPEAT_1/Ivo-de-Vento-No-13-Ein-alter-mann-thet-bulen-gahn/score.musicxml',\n",
       " 'CPDL NO REPEAT_1/In_Silence_-_Klimek/score.musicxml',\n",
       " 'CPDL NO REPEAT_1/Hymn_to_Cynthia_Tours/score.musicxml',\n",
       " 'CPDL NO REPEAT_1/I_know_whom_I_have_believed_-_MacFarren/score.musicxml',\n",
       " 'CPDL NO REPEAT_1/How_beauteous_are_their_feet_Stanford/score.musicxml',\n",
       " 'CPDL NO REPEAT_1/FalmouthIngalls1805bpr/score.musicxml',\n",
       " 'CPDL NO REPEAT_1/Hail_to_the_Chief_Leslie/score.musicxml',\n",
       " 'CPDL NO REPEAT_1/God_be_merciful_ssw/score.musicxml',\n",
       " 'CPDL NO REPEAT_1/HamptonHolyoke1803bpr/score.musicxml',\n",
       " 'CPDL NO REPEAT_1/22-senfl--ich_stund_an_einem_morgen----0-score/score.musicxml',\n",
       " 'CPDL NO REPEAT_1/Jubilate_in_B_flat_Stanford/score.musicxml',\n",
       " 'CPDL NO REPEAT_1/Goodnight_beloved_Pinsuti/score.musicxml',\n",
       " 'CPDL NO REPEAT_1/I_am_the_bread/score.musicxml',\n",
       " 'CPDL NO REPEAT_1/In_the_moonlight_Op.198_no.6_Raff/score.musicxml',\n",
       " 'CPDL NO REPEAT_1/JenkA-NowToTheLord-nokeyb/score.musicxml',\n",
       " 'CPDL NO REPEAT_1/Enter_not_into_judgement_Goss/score.musicxml',\n",
       " 'CPDL NO REPEAT_1/ExeterBillings1774bpr/score.musicxml',\n",
       " 'CPDL NO REPEAT_1/Gone_for_ever_Zimmermann/score.musicxml',\n",
       " 'CPDL NO REPEAT_1/Jesus_Christ_is_the_same/score.musicxml',\n",
       " 'CPDL NO REPEAT_1/Holst_-_Now_is_the_month_of_Maying/score.musicxml',\n",
       " 'CPDL NO REPEAT_1/India-Beati_immaculati_in_via/score.musicxml',\n",
       " 'CPDL NO REPEAT_1/Have_mercy_upon_me_Barnby/score.musicxml',\n",
       " 'CPDL NO REPEAT_1/Evening_Sullivan/score.musicxml']"
      ]
     },
     "execution_count": 37,
     "metadata": {},
     "output_type": "execute_result"
    }
   ],
   "source": [
    "correct_files_with_all_voices_dir1"
   ]
  },
  {
   "cell_type": "markdown",
   "id": "fee03a04",
   "metadata": {},
   "source": [
    "## Parse for directory 2"
   ]
  },
  {
   "cell_type": "code",
   "execution_count": 15,
   "id": "a2e0fb87",
   "metadata": {},
   "outputs": [],
   "source": [
    "#Of correct file names, get the number of scores that have the same count of files in the voices folder\n",
    "#We observe that sometimes the streams for accompaniment are counted as separate streams in music21, \n",
    "#but they are synthesized as one accompaniment in the voices folder. To account for that, we convert the stream \n",
    "#information to a set and compare using the set length\n",
    "\n",
    "correct_files_with_all_voices_dir2 = []\n",
    "for music_xml_file in correct_file_names_dir2:\n",
    "    score = music21.converter.parse(music_xml_file)\n",
    "    parts_list = []\n",
    "    for part in score.parts:\n",
    "        parts_list.append(part.partName)\n",
    "    num_unique_streams = set(parts_list)   \n",
    "    #print(\"Number of streams in the parsed score:\", num_streams)\n",
    "    #Test if the number of streams is the same as the number of voices in the voices folder\n",
    "    voices_folder_path = os.path.join(os.path.dirname(music_xml_file), 'voices')\n",
    "    all_voices = os.listdir(voices_folder_path)\n",
    "    if len(all_voices) == len(num_unique_streams):\n",
    "        correct_files_with_all_voices_dir2.append(music_xml_file)"
   ]
  },
  {
   "cell_type": "code",
   "execution_count": 16,
   "id": "5efe22ec",
   "metadata": {},
   "outputs": [
    {
     "data": {
      "text/plain": [
       "451"
      ]
     },
     "execution_count": 16,
     "metadata": {},
     "output_type": "execute_result"
    }
   ],
   "source": [
    "len(correct_files_with_all_voices_dir2)"
   ]
  },
  {
   "cell_type": "markdown",
   "id": "50da2f52",
   "metadata": {},
   "source": [
    "# Results\n",
    "###  We obtain a total of len 250 files for directory 1 and 451 files from directory 2 i.e. a total of 701 files\n",
    "\n",
    "## Back to more filters ...\n",
    "\n",
    "## We now apply some musical criteria that was found by listening to several  songs from both the folders by a musician "
   ]
  },
  {
   "cell_type": "markdown",
   "id": "1ff41d08",
   "metadata": {},
   "source": [
    "## (3) Filter out all files with 'Tr..mp3' in the voices folder - this criteria is specific to the dataset\n",
    "#### Automatically discard all the folders that name the first voice (often named as Soprano or Cantus or Voice or Voice 1) “Treble” or “Tr”; they correspond to audio files “treble.mp3”, “tr..mp3”, “Tr.mp3” and for this DATASET they are instrumental generated instead of voice generated, even though they should be voice generated because they carry the leading voice\n"
   ]
  },
  {
   "cell_type": "markdown",
   "id": "601565bf",
   "metadata": {},
   "source": [
    "## Parse directory 1"
   ]
  },
  {
   "cell_type": "code",
   "execution_count": 17,
   "id": "7fd4179a",
   "metadata": {},
   "outputs": [],
   "source": [
    "#select the voices folder again and check for all files with Tr..mp3\n",
    "correct_files_with_all_voices_dir1_filter_treble = []\n",
    "for music_xml_file_path in correct_files_with_all_voices_dir1:\n",
    "    score = music21.converter.parse(music_xml_file_path)\n",
    "    # Get the number of streams in the parsed score\n",
    "    num_streams = len(score.getElementsByClass(music21.stream.Stream))\n",
    "    #print(\"Number of streams in the parsed score:\", num_streams)\n",
    "    #Test if the number of streams is the same as the number of voices in the voices folder\n",
    "    voices_folder_path = os.path.join(os.path.dirname(music_xml_file_path), 'voices')\n",
    "    all_voices = os.listdir(voices_folder_path)\n",
    "    if 'Tr..mp3' in all_voices:\n",
    "        continue\n",
    "    else:\n",
    "        correct_files_with_all_voices_dir1_filter_treble.append(music_xml_file_path)"
   ]
  },
  {
   "cell_type": "code",
   "execution_count": 18,
   "id": "3d4cbf32",
   "metadata": {},
   "outputs": [
    {
     "data": {
      "text/plain": [
       "223"
      ]
     },
     "execution_count": 18,
     "metadata": {},
     "output_type": "execute_result"
    }
   ],
   "source": [
    "len(correct_files_with_all_voices_dir1_filter_treble)"
   ]
  },
  {
   "cell_type": "markdown",
   "id": "fe1b8913",
   "metadata": {},
   "source": [
    "## Parse directory 2"
   ]
  },
  {
   "cell_type": "code",
   "execution_count": 19,
   "id": "4f11d3ec",
   "metadata": {},
   "outputs": [],
   "source": [
    "#select the voices folder again and check for all files with Tr..mp3\n",
    "correct_files_with_all_voices_dir2_filter_treble = []\n",
    "for music_xml_file_path in correct_files_with_all_voices_dir2:\n",
    "    score = music21.converter.parse(music_xml_file_path)\n",
    "    # Get the number of streams in the parsed score\n",
    "    #num_streams = len(score.getElementsByClass(music21.stream.Stream))\n",
    "    #print(\"Number of streams in the parsed score:\", num_streams)\n",
    "    #Test if the number of streams is the same as the number of voices in the voices folder\n",
    "    voices_folder_path = os.path.join(os.path.dirname(music_xml_file_path), 'voices')\n",
    "    all_voices = os.listdir(voices_folder_path)\n",
    "    if 'Tr..mp3' in all_voices:\n",
    "        continue\n",
    "    else:\n",
    "        correct_files_with_all_voices_dir2_filter_treble.append(music_xml_file_path)"
   ]
  },
  {
   "cell_type": "code",
   "execution_count": 20,
   "id": "4641ba7e",
   "metadata": {},
   "outputs": [
    {
     "data": {
      "text/plain": [
       "423"
      ]
     },
     "execution_count": 20,
     "metadata": {},
     "output_type": "execute_result"
    }
   ],
   "source": [
    "len(correct_files_with_all_voices_dir2_filter_treble)"
   ]
  },
  {
   "cell_type": "markdown",
   "id": "c8ddfa84",
   "metadata": {},
   "source": [
    "# Results\n",
    "### We obtain a total of 223 files from folder 1 and 423 files for folder 2 i.e. a total of 646 folders\n",
    "## Back to more filters ...\n",
    "\n",
    "## We now apply some more musical criteria for both the folders by the musician\n",
    "\n",
    "#### (4) Automatically discard all the folders for which, one or more voices in the score, have not at all lyrics, when should have (some editors avoid to repeat the same lyric for all voices, assuming that the musicians will relate to the first voice to read the corresponding verse). For these cases, the audio files are instrumental generated instead of voice generated. So, it is possible to automatically discard these folders by detecting in one or more than one audio files, this instrumental generation when the file name indicate a voice channel (‘soprano’, ‘alto’, ‘tenor’ ‘bass’, ‘cantus’, ‘quintus’, ‘altus’, ‘bassus’, ‘voice#’)\n"
   ]
  },
  {
   "cell_type": "markdown",
   "id": "7333c26c",
   "metadata": {},
   "source": [
    "## Parse directory 1"
   ]
  },
  {
   "cell_type": "code",
   "execution_count": 23,
   "id": "5f7fa9e9",
   "metadata": {},
   "outputs": [],
   "source": [
    "def preprocess_string(s):\n",
    "    # Remove hyphens and blank spaces\n",
    "    return s.replace('-', '').replace(' ', '')"
   ]
  },
  {
   "cell_type": "code",
   "execution_count": 25,
   "id": "bf98eef2",
   "metadata": {},
   "outputs": [
    {
     "name": "stdout",
     "output_type": "stream",
     "text": [
      "CPDL NO REPEAT_1/Grell_Nun_sich_der_Tag/score.musicxml\n",
      "CPDL NO REPEAT_1/EG344Trio/score.musicxml\n",
      "CPDL NO REPEAT_1/Erk_Sonntagmorgen/score.musicxml\n",
      "CPDL NO REPEAT_1/Hane-hei/score.musicxml\n",
      "CPDL NO REPEAT_1/Hamm-Fre/score.musicxml\n",
      "CPDL NO REPEAT_1/FostJ-MyShepherd/score.musicxml\n",
      "CPDL NO REPEAT_1/GoodPhysicianHolden1806a/score.musicxml\n",
      "CPDL NO REPEAT_1/JB45-1_Selig_sind_die_da_Leid/score.musicxml\n",
      "CPDL NO REPEAT_1/HealingMercyHolden1806/score.musicxml\n",
      "CPDL NO REPEAT_1/Hymn_to_Cynthia_Tours/score.musicxml\n"
     ]
    }
   ],
   "source": [
    "#Get the same number of files with score directory 1, the name of accompaniment can be different \n",
    "#in different scores. We filter out data using the file \"info.json\"\n",
    "possible_candidates_with_wrong_lyrics_dir1 = []\n",
    "for music_xml_file_path in correct_files_with_all_voices_dir1_filter_treble:\n",
    "    missing_lyrics = False\n",
    "    #music_xml_file_path = music_xml_file['Parsable Files']\n",
    "    score = music21.converter.parse(music_xml_file_path)\n",
    "    all_lyrics = []\n",
    "    #Get if the file has accompaniment, if yes, then fetch the name from json file and remove it from lyrics list\n",
    "    json_path = os.path.join(os.path.dirname(music_xml_file_path), 'info.json')\n",
    "    with open(json_path, \"r\") as json_file:\n",
    "    # Load the JSON data from the file\n",
    "        data = json.load(json_file)\n",
    "    #default accompaniment name\n",
    "    accompaniment_name = 'Piano'\n",
    "    if data['parts'][-1]['type'] == 'accompaniment':\n",
    "        accompaniment_name = data['parts'][-1]['name']    \n",
    "    \n",
    "    for part in score.parts:\n",
    "        if part.partName == accompaniment_name:\n",
    "            continue\n",
    "        \n",
    "        lyrics_for_part = ''\n",
    "        for note in part.recurse().getElementsByClass('Note'):            \n",
    "            if note.lyric:\n",
    "                lyrics_for_part += note.lyric\n",
    "        processed_string = preprocess_string(lyrics_for_part)\n",
    "        all_lyrics.append(str(processed_string))\n",
    "    #print(all_lyrics)\n",
    "    missing_lyrics = [s=='' for s in all_lyrics]\n",
    "    if any(missing_lyrics):            \n",
    "        print(music_xml_file_path)\n",
    "        possible_candidates_with_wrong_lyrics_dir1.append(music_xml_file_path)"
   ]
  },
  {
   "cell_type": "code",
   "execution_count": 42,
   "id": "2df167c8",
   "metadata": {},
   "outputs": [
    {
     "data": {
      "text/plain": [
       "10"
      ]
     },
     "execution_count": 42,
     "metadata": {},
     "output_type": "execute_result"
    }
   ],
   "source": [
    "len(possible_candidates_with_wrong_lyrics_dir1)"
   ]
  },
  {
   "cell_type": "code",
   "execution_count": 27,
   "id": "54dc06d5",
   "metadata": {},
   "outputs": [],
   "source": [
    "#Remove the identified songs from the final list\n",
    "for item in correct_files_with_all_voices_dir1_filter_treble:\n",
    "    if item in possible_candidates_with_wrong_lyrics_dir1:\n",
    "        correct_files_with_all_voices_dir1_filter_treble.remove(item)"
   ]
  },
  {
   "cell_type": "code",
   "execution_count": 43,
   "id": "27b055ea",
   "metadata": {},
   "outputs": [
    {
     "data": {
      "text/plain": [
       "['CPDL NO REPEAT_1/Jerusalem%2C_arise/score.musicxml',\n",
       " 'CPDL NO REPEAT_1/Holst_-_Love_is_enough/score.musicxml',\n",
       " 'CPDL NO REPEAT_1/I_will_lay_me_down_Sullivan/score.musicxml',\n",
       " 'CPDL NO REPEAT_1/He_that_hath_a_pleasant_face_Hatton/score.musicxml',\n",
       " 'CPDL NO REPEAT_1/Havergal_Deus_Misereatur/score.musicxml',\n",
       " 'CPDL NO REPEAT_1/God_the_All-Fatherly_ah_/score.musicxml',\n",
       " 'CPDL NO REPEAT_1/I_know_that_my_Redeemer_Tomkins/score.musicxml',\n",
       " 'CPDL NO REPEAT_1/Isaac-Die_br%C3%BCnlein_die_da_fliessen/score.musicxml',\n",
       " 'CPDL NO REPEAT_1/Eventide_Abt/score.musicxml',\n",
       " 'CPDL NO REPEAT_1/Ferr_ILang/score.musicxml',\n",
       " 'CPDL NO REPEAT_1/India-Domine_prevenisti_eum/score.musicxml',\n",
       " 'CPDL NO REPEAT_1/HempCW-IStrive/score.musicxml',\n",
       " 'CPDL NO REPEAT_1/Ivo-de-Vento-No-2-OICh-ruff-zu-dir-Herr-Jesu-Christ/score.musicxml',\n",
       " 'CPDL NO REPEAT_1/In_dich_hab_ich_gehoffet%2C_Herr_Schutz_/score.musicxml',\n",
       " 'CPDL NO REPEAT_1/In_Jewry_is_God_known_Clarke-Whitfeld/score.musicxml',\n",
       " 'CPDL NO REPEAT_1/How_dear_are_Thy_counsels_Crotch/score.musicxml',\n",
       " 'CPDL NO REPEAT_1/JarmT-HappyTheSouls/score.musicxml',\n",
       " 'CPDL NO REPEAT_1/I_will_recount/score.musicxml',\n",
       " 'CPDL NO REPEAT_1/JarvS-TheLordHimself/score.musicxml',\n",
       " 'CPDL NO REPEAT_1/Hor_an_mein_Klag_Isaac/score.musicxml',\n",
       " 'CPDL NO REPEAT_1/JarvS-HowBlest/score.musicxml',\n",
       " 'CPDL NO REPEAT_1/Elgar_ave_maria/score.musicxml',\n",
       " 'CPDL NO REPEAT_1/27_Deus%2C_Deus_meus/score.musicxml',\n",
       " 'CPDL NO REPEAT_1/Go%2C_eat_rich_meat/score.musicxml',\n",
       " 'CPDL NO REPEAT_1/JarmT-EreISleepFor/score.musicxml',\n",
       " 'CPDL NO REPEAT_1/Ihr_unsre_neuen_Leiter/score.musicxml',\n",
       " 'CPDL NO REPEAT_1/JarmT-JesusShallReign/score.musicxml',\n",
       " 'CPDL NO REPEAT_1/It_was_a_lover_and_his_lass_MacFarren/score.musicxml',\n",
       " 'CPDL NO REPEAT_1/140._Leoni%2C_L._Audivi_vocem_Angelorum_a_8/score.musicxml',\n",
       " 'CPDL NO REPEAT_1/18-wolauff_gut_gsell_von_hinnen---0-score/score.musicxml',\n",
       " 'CPDL NO REPEAT_1/How_bright_in_the_Maytime_Pearsall/score.musicxml',\n",
       " 'CPDL NO REPEAT_1/Jesu%2C_the_very_thought_of_thee_Bairstow/score.musicxml',\n",
       " 'CPDL NO REPEAT_1/I_saw_my_lady_weep_Dowland/score.musicxml',\n",
       " 'CPDL NO REPEAT_1/JarmT-GreatGodAttend/score.musicxml',\n",
       " 'CPDL NO REPEAT_1/I_was_glad/score.musicxml',\n",
       " 'CPDL NO REPEAT_1/Father%2C_if_this_chalice/score.musicxml',\n",
       " 'CPDL NO REPEAT_1/Haydn_6_psalms_61_long_life_shall/score.musicxml',\n",
       " 'CPDL NO REPEAT_1/Joy_to_the_victors_Sullivan/score.musicxml',\n",
       " 'CPDL NO REPEAT_1/Hunting_song_Macfarren_WC/score.musicxml',\n",
       " 'CPDL NO REPEAT_1/Giffen-Ave_Maria/score.musicxml',\n",
       " 'CPDL NO REPEAT_1/GiffW-OComeLoud/score.musicxml',\n",
       " 'CPDL NO REPEAT_1/Father_reigning_in_thy_glory_Weber/score.musicxml',\n",
       " 'CPDL NO REPEAT_1/Inno_alla_croce/score.musicxml',\n",
       " 'CPDL NO REPEAT_1/If_we_believe_that_Jesus_died/score.musicxml',\n",
       " 'CPDL NO REPEAT_1/Hassler_-_Domine_Deus_meus/score.musicxml',\n",
       " 'CPDL NO REPEAT_1/I_sing_the_birth/score.musicxml',\n",
       " 'CPDL NO REPEAT_1/Hope_and_fear_Otto/score.musicxml',\n",
       " 'CPDL NO REPEAT_1/John_Peel_jw/score.musicxml',\n",
       " 'CPDL NO REPEAT_1/Ivo-de-Vento-No-9-Vor-etlich-wenig-tagen/score.musicxml',\n",
       " 'CPDL NO REPEAT_1/I_was_exalted_MacFarren/score.musicxml',\n",
       " 'CPDL NO REPEAT_1/Fairy_song_Zimmermann/score.musicxml',\n",
       " 'CPDL NO REPEAT_1/If_ye_love_me_-_Gauntlett/score.musicxml',\n",
       " 'CPDL NO REPEAT_1/Introit_for_Easter_Day/score.musicxml',\n",
       " 'CPDL NO REPEAT_1/Ich_danke_dem_Herrn_Schutz/score.musicxml',\n",
       " 'CPDL NO REPEAT_1/Haydnmesse_4stimmig/score.musicxml',\n",
       " 'CPDL NO REPEAT_1/JarvS-MySoulWith/score.musicxml',\n",
       " 'CPDL NO REPEAT_1/Expectans_expectavi_Wood/score.musicxml',\n",
       " 'CPDL NO REPEAT_1/JarvS-DefendMe/score.musicxml',\n",
       " 'CPDL NO REPEAT_1/Escurece_las_montanas_Machado/score.musicxml',\n",
       " 'CPDL NO REPEAT_1/Holst_-_Dream_Tryst/score.musicxml',\n",
       " 'CPDL NO REPEAT_1/In_April_time_Pinsuti/score.musicxml',\n",
       " 'CPDL NO REPEAT_1/JarmT-GreatGodWhose/score.musicxml',\n",
       " 'CPDL NO REPEAT_1/Home_they_brought_her_warrior_dead_Stanford/score.musicxml',\n",
       " 'CPDL NO REPEAT_1/FawcJ-EternalDepth-nokeyb/score.musicxml',\n",
       " 'CPDL NO REPEAT_1/God_omnipotent_reigneth_Wood/score.musicxml',\n",
       " 'CPDL NO REPEAT_1/If_thou_art_sleeping_Hatton/score.musicxml',\n",
       " 'CPDL NO REPEAT_1/I_will_sing_of_thy_power/score.musicxml',\n",
       " 'CPDL NO REPEAT_1/India-Assumpta_est_Maria/score.musicxml',\n",
       " 'CPDL NO REPEAT_1/Judas_the_transgressor/score.musicxml',\n",
       " 'CPDL NO REPEAT_1/JarmT-MyGodTheSpring/score.musicxml',\n",
       " 'CPDL NO REPEAT_1/Good_King_Wenceslas_G_Shaw/score.musicxml',\n",
       " 'CPDL NO REPEAT_1/Fly_not_so_swift_my_dear/score.musicxml',\n",
       " 'CPDL NO REPEAT_1/JarmT-ComeLetUsWho/score.musicxml',\n",
       " 'CPDL NO REPEAT_1/En_la_fuente_Vasquez/score.musicxml',\n",
       " 'CPDL NO REPEAT_1/Farmer-chessire/score.musicxml',\n",
       " 'CPDL NO REPEAT_1/08_Anima_nostra/score.musicxml',\n",
       " 'CPDL NO REPEAT_1/Guilmant-Ave_verum/score.musicxml',\n",
       " 'CPDL NO REPEAT_1/Invocation_to_Sleep_Benedict/score.musicxml',\n",
       " 'CPDL NO REPEAT_1/I_sing_the_birth_Sullivan/score.musicxml',\n",
       " 'CPDL NO REPEAT_1/Jesus_said_unto_the_people_Stainer/score.musicxml',\n",
       " 'CPDL NO REPEAT_1/JarvS-HesBlest/score.musicxml',\n",
       " 'CPDL NO REPEAT_1/How_long_wilt_thou_forget_me_Clarke/score.musicxml',\n",
       " 'CPDL NO REPEAT_1/Feasting_I_watch_Elgar/score.musicxml',\n",
       " 'CPDL NO REPEAT_1/Farmer-Nunc_dimittis/score.musicxml',\n",
       " 'CPDL NO REPEAT_1/15_Dextera_Domini/score.musicxml',\n",
       " 'CPDL NO REPEAT_1/Elgar_-_Ave_Verum_Corpus/score.musicxml',\n",
       " 'CPDL NO REPEAT_1/JarmT-MySoulLiesCleaving/score.musicxml',\n",
       " 'CPDL NO REPEAT_1/I_sing_the_birth_Gibb/score.musicxml',\n",
       " 'CPDL NO REPEAT_1/Farmer-The_Lords_Prayer/score.musicxml',\n",
       " 'CPDL NO REPEAT_1/It_is_not/score.musicxml',\n",
       " 'CPDL NO REPEAT_1/It_is_high_time_Barnby/score.musicxml',\n",
       " 'CPDL NO REPEAT_1/Everyone_who_lives/score.musicxml',\n",
       " 'CPDL NO REPEAT_1/JarvS-BlessedBe/score.musicxml',\n",
       " 'CPDL NO REPEAT_1/If_thou_shalt_confess_Stanford/score.musicxml',\n",
       " 'CPDL NO REPEAT_1/India-Ad_te_Domine_levavi/score.musicxml',\n",
       " 'CPDL NO REPEAT_1/How_sweet_the_moonlight_Leslie/score.musicxml',\n",
       " 'CPDL NO REPEAT_1/29_Benedicite_gentes/score.musicxml',\n",
       " 'CPDL NO REPEAT_1/Haydn_6_psalms_31_blest_be_the_name/score.musicxml',\n",
       " 'CPDL NO REPEAT_1/Gibb_Magnificat_in_F_minor/score.musicxml',\n",
       " 'CPDL NO REPEAT_1/Isaac-cum/score.musicxml',\n",
       " 'CPDL NO REPEAT_1/For_all_the_wonder_Bridge/score.musicxml',\n",
       " 'CPDL NO REPEAT_1/Howa-iwon.mscz/score.musicxml',\n",
       " 'CPDL NO REPEAT_1/Hallelujah_-_Mount_of_Olives/score.musicxml',\n",
       " 'CPDL NO REPEAT_1/16_Bonum_est_confiteri/score.musicxml',\n",
       " 'CPDL NO REPEAT_1/How_precious/score.musicxml',\n",
       " 'CPDL NO REPEAT_1/In_deep_distress/score.musicxml',\n",
       " 'CPDL NO REPEAT_1/Ivo-de-Vento-No-10-Es-was-einmal-ein-stolzer-Knab/score.musicxml',\n",
       " 'CPDL NO REPEAT_1/Good_Wine_em/score.musicxml',\n",
       " 'CPDL NO REPEAT_1/Haydn_6_psalms_50_the_lord_th_almighty_monarch/score.musicxml',\n",
       " 'CPDL NO REPEAT_1/11_Animuccia%2C_P._Ave_sanctissima/score.musicxml',\n",
       " 'CPDL NO REPEAT_1/Fear_no_more_MacFarren/score.musicxml',\n",
       " 'CPDL NO REPEAT_1/I_will_lay_me_down_ace/score.musicxml',\n",
       " 'CPDL NO REPEAT_1/Highland_war_song_Macfarren_WC/score.musicxml',\n",
       " 'CPDL NO REPEAT_1/Jesu_the_very_thought_Wood/score.musicxml',\n",
       " 'CPDL NO REPEAT_1/JarmT-EternalSource/score.musicxml',\n",
       " 'CPDL NO REPEAT_1/Grieve_not_the_Holy_Spirit_of_God_Stainer/score.musicxml',\n",
       " 'CPDL NO REPEAT_1/For_we_are_so_preciously_loved/score.musicxml',\n",
       " 'CPDL NO REPEAT_1/Haydn_6_psalms_26_how_oft_instinct/score.musicxml',\n",
       " 'CPDL NO REPEAT_1/JarvS-IWaited/score.musicxml',\n",
       " 'CPDL NO REPEAT_1/Ivo-de-Vento-No-1-O-Jesu-Christ-dein-leiden/score.musicxml',\n",
       " 'CPDL NO REPEAT_1/If_you_love_me/score.musicxml',\n",
       " 'CPDL NO REPEAT_1/JarvS-MySoulInspired/score.musicxml',\n",
       " 'CPDL NO REPEAT_1/JarmT-GiveMeTheWings/score.musicxml',\n",
       " 'CPDL NO REPEAT_1/I_will_feed_my_flock_Bridge/score.musicxml',\n",
       " 'CPDL NO REPEAT_1/Good_morrow_Zimmermann/score.musicxml',\n",
       " 'CPDL NO REPEAT_1/136._Benedict_Regius_Cantabant_Sancti_canticum_a_8/score.musicxml',\n",
       " 'CPDL NO REPEAT_1/Heraclitus_Stanford/score.musicxml',\n",
       " 'CPDL NO REPEAT_1/England_Hatton/score.musicxml',\n",
       " 'CPDL NO REPEAT_1/If_I_had_but_two_little_wings_Parry/score.musicxml',\n",
       " 'CPDL NO REPEAT_1/Hosanna_to_the_Son_of_David_MacFarren/score.musicxml',\n",
       " 'CPDL NO REPEAT_1/JarmT-NowBeginTheHeavenly-Triumph/score.musicxml',\n",
       " 'CPDL NO REPEAT_1/Jesus_holy_undefiled/score.musicxml',\n",
       " 'CPDL NO REPEAT_1/I_met_her_Hatton/score.musicxml',\n",
       " 'CPDL NO REPEAT_1/Ich_weiss_mir_Lasso/score.musicxml',\n",
       " 'CPDL NO REPEAT_1/Goodnight_Zimmermann/score.musicxml',\n",
       " 'CPDL NO REPEAT_1/HolstInTheBleakMid-Winter/score.musicxml',\n",
       " 'CPDL NO REPEAT_1/Elgar-Love/score.musicxml',\n",
       " 'CPDL NO REPEAT_1/I_am_the_resurrection_Tomkins/score.musicxml',\n",
       " 'CPDL NO REPEAT_1/10_Deus_enim_firmavit/score.musicxml',\n",
       " 'CPDL NO REPEAT_1/India-Circumdederunt_me/score.musicxml',\n",
       " 'CPDL NO REPEAT_1/Gibbons_-_Glorious_and_Powerful_God_%28viols%29/score.musicxml',\n",
       " 'CPDL NO REPEAT_1/Holy_Innocents/score.musicxml',\n",
       " 'CPDL NO REPEAT_1/Ich_glaube_an_einen_einigen_Gott_Schutz/score.musicxml',\n",
       " 'CPDL NO REPEAT_1/Ivo-de-Vento-No-11-11b-Es-het-ein-Schwab-Es-Wolt-nur/score.musicxml',\n",
       " 'CPDL NO REPEAT_1/Es_ist_ein_Schnee_gefallen_Othmayr/score.musicxml',\n",
       " 'CPDL NO REPEAT_1/Ivo-de-Vento-No-18-Vil-ha%C3%9F-und-neid/score.musicxml',\n",
       " 'CPDL NO REPEAT_1/Goodnight_from_the_Rhine_Op.198_no.10_Raff/score.musicxml',\n",
       " 'CPDL NO REPEAT_1/Honour_and_majesty_are_before_him/score.musicxml',\n",
       " 'CPDL NO REPEAT_1/He_humbled_himself_Palestrina/score.musicxml',\n",
       " 'CPDL NO REPEAT_1/El_Rossinyol/score.musicxml',\n",
       " 'CPDL NO REPEAT_1/I_prithee_send_me_back_my_heart_Smart/score.musicxml',\n",
       " 'CPDL NO REPEAT_1/Heiligste_nacht_Haydn_M/score.musicxml',\n",
       " 'CPDL NO REPEAT_1/I_heard_a_voice_from_heaven_Goss/score.musicxml',\n",
       " 'CPDL NO REPEAT_1/Great_and_marvellous_are_Thy_works_Smart/score.musicxml',\n",
       " 'CPDL NO REPEAT_1/I_languish_to_complain_me_Bennet/score.musicxml',\n",
       " 'CPDL NO REPEAT_1/15-osiander--nun_bitten_wir_den_heiligen_geist----0-score/score.musicxml',\n",
       " 'CPDL NO REPEAT_1/FawcJ-BranchOfJessesStem-nokeyb/score.musicxml',\n",
       " 'CPDL NO REPEAT_1/I_am_the_Gate./score.musicxml',\n",
       " 'CPDL NO REPEAT_1/Hetl-and-you/score.musicxml',\n",
       " 'CPDL NO REPEAT_1/If_Ye_Be_Risen_Again_Tye_shortest/score.musicxml',\n",
       " 'CPDL NO REPEAT_1/FawcJ-LoHeComes/score.musicxml',\n",
       " 'CPDL NO REPEAT_1/08-praetorius--nun_bitten_wir_den_heiligen_geist----0-score/score.musicxml',\n",
       " 'CPDL NO REPEAT_1/In_Five_Four/score.musicxml',\n",
       " 'CPDL NO REPEAT_1/If_we_believe_that_Jesus_died_MacFarren/score.musicxml',\n",
       " 'CPDL NO REPEAT_1/JarmT-HeReignsTheLord/score.musicxml',\n",
       " 'CPDL NO REPEAT_1/I_will_not_leave_you_comfortless_Steane/score.musicxml',\n",
       " 'CPDL NO REPEAT_1/Holst_-_Her_eyes_the_glow-worm_lend_thee/score.musicxml',\n",
       " 'CPDL NO REPEAT_1/Good_wishes_Hatton/score.musicxml',\n",
       " 'CPDL NO REPEAT_1/Going_a_maying_Hatton/score.musicxml',\n",
       " 'CPDL NO REPEAT_1/HempCW-JustJudge/score.musicxml',\n",
       " 'CPDL NO REPEAT_1/JarvS-LordHear/score.musicxml',\n",
       " 'CPDL NO REPEAT_1/Jubilate_in_C_Kent/score.musicxml',\n",
       " 'CPDL NO REPEAT_1/How_sweet_is_summer_morning_Smart/score.musicxml',\n",
       " 'CPDL NO REPEAT_1/In_the_departure_of_the_Lord/score.musicxml',\n",
       " 'CPDL NO REPEAT_1/Hear_my_prayer%2C_O_Lord_Mundy/score.musicxml',\n",
       " 'CPDL NO REPEAT_1/In_Sherwood_lived_stout_Robin_Hood_Lloyd/score.musicxml',\n",
       " 'CPDL NO REPEAT_1/Jubilate_in_F_-_S_S_Wesley/score.musicxml',\n",
       " 'CPDL NO REPEAT_1/Glory_Be_To_God_the_Father/score.musicxml',\n",
       " 'CPDL NO REPEAT_1/Hassler_Maien/score.musicxml',\n",
       " 'CPDL NO REPEAT_1/Josq-AveM/score.musicxml',\n",
       " 'CPDL NO REPEAT_1/I_was_Hungry_op_113/score.musicxml',\n",
       " 'CPDL NO REPEAT_1/Graun_Surely_He_Hath_Borne_LOWER/score.musicxml',\n",
       " 'CPDL NO REPEAT_1/India-Angelus_Domini_descendit/score.musicxml',\n",
       " 'CPDL NO REPEAT_1/JarmT-TheLordOfGlory/score.musicxml',\n",
       " 'CPDL NO REPEAT_1/Holst_-_Come_to_me/score.musicxml',\n",
       " 'CPDL NO REPEAT_1/I_love_my_love_Allen/score.musicxml',\n",
       " 'CPDL NO REPEAT_1/Jero-just.mscz/score.musicxml',\n",
       " 'CPDL NO REPEAT_1/JarvS-Christ/score.musicxml',\n",
       " 'CPDL NO REPEAT_1/Home_they_brought_Barnby/score.musicxml',\n",
       " 'CPDL NO REPEAT_1/Evening_song_Hill/score.musicxml',\n",
       " 'CPDL NO REPEAT_1/If_ye_then_be_risen_with_Christ_Foster/score.musicxml',\n",
       " 'CPDL NO REPEAT_1/India-Domine_Deus_vite_meae/score.musicxml',\n",
       " 'CPDL NO REPEAT_1/If_ye_then_be_risen_with_Christ_Naylor/score.musicxml',\n",
       " 'CPDL NO REPEAT_1/Hear_The_Voice_Hopkins/score.musicxml',\n",
       " 'CPDL NO REPEAT_1/Ivo-de-Vento-No-13-Ein-alter-mann-thet-bulen-gahn/score.musicxml',\n",
       " 'CPDL NO REPEAT_1/In_Silence_-_Klimek/score.musicxml',\n",
       " 'CPDL NO REPEAT_1/I_know_whom_I_have_believed_-_MacFarren/score.musicxml',\n",
       " 'CPDL NO REPEAT_1/How_beauteous_are_their_feet_Stanford/score.musicxml',\n",
       " 'CPDL NO REPEAT_1/Hail_to_the_Chief_Leslie/score.musicxml',\n",
       " 'CPDL NO REPEAT_1/God_be_merciful_ssw/score.musicxml',\n",
       " 'CPDL NO REPEAT_1/22-senfl--ich_stund_an_einem_morgen----0-score/score.musicxml',\n",
       " 'CPDL NO REPEAT_1/Jubilate_in_B_flat_Stanford/score.musicxml',\n",
       " 'CPDL NO REPEAT_1/Goodnight_beloved_Pinsuti/score.musicxml',\n",
       " 'CPDL NO REPEAT_1/I_am_the_bread/score.musicxml',\n",
       " 'CPDL NO REPEAT_1/In_the_moonlight_Op.198_no.6_Raff/score.musicxml',\n",
       " 'CPDL NO REPEAT_1/JenkA-NowToTheLord-nokeyb/score.musicxml',\n",
       " 'CPDL NO REPEAT_1/Enter_not_into_judgement_Goss/score.musicxml',\n",
       " 'CPDL NO REPEAT_1/Gone_for_ever_Zimmermann/score.musicxml',\n",
       " 'CPDL NO REPEAT_1/Jesus_Christ_is_the_same/score.musicxml',\n",
       " 'CPDL NO REPEAT_1/Holst_-_Now_is_the_month_of_Maying/score.musicxml',\n",
       " 'CPDL NO REPEAT_1/India-Beati_immaculati_in_via/score.musicxml',\n",
       " 'CPDL NO REPEAT_1/Have_mercy_upon_me_Barnby/score.musicxml',\n",
       " 'CPDL NO REPEAT_1/Evening_Sullivan/score.musicxml']"
      ]
     },
     "execution_count": 43,
     "metadata": {},
     "output_type": "execute_result"
    }
   ],
   "source": [
    "correct_files_with_all_voices_dir1_filter_treble"
   ]
  },
  {
   "cell_type": "markdown",
   "id": "ebcc752b",
   "metadata": {},
   "source": [
    "## Parse directory 2"
   ]
  },
  {
   "cell_type": "code",
   "execution_count": 29,
   "id": "7790e629",
   "metadata": {},
   "outputs": [
    {
     "name": "stdout",
     "output_type": "stream",
     "text": [
      "CPDL NO REPEAT_2/VeniCreatorTallis1567bpr/score.musicxml\n",
      "CPDL NO REPEAT_2/Nh_Schumann_Rotes_R%C3%B6sleint/score.musicxml\n",
      "CPDL NO REPEAT_2/Ws-pero-av2/score.musicxml\n",
      "CPDL NO REPEAT_2/Nh_Eisenhofer_Lebensgenuss/score.musicxml\n",
      "CPDL NO REPEAT_2/Mh-HoeKWir-Kommt_wir_gehn/score.musicxml\n",
      "CPDL NO REPEAT_2/Nh_Abt_%C3%9Cber_den_Sternen_SATB/score.musicxml\n",
      "CPDL NO REPEAT_2/Mh-Wirsind-Wir_sind_nur_Gast/score.musicxml\n",
      "CPDL NO REPEAT_2/Nh_Gregor_Gnade/score.musicxml\n",
      "CPDL NO REPEAT_2/Nh_Vulpius_Nun_komm/score.musicxml\n",
      "CPDL NO REPEAT_2/Nh_Staden_Gelobet/score.musicxml\n",
      "CPDL NO REPEAT_2/Nh_Abt_Verlass_mich_nicht/score.musicxml\n",
      "CPDL NO REPEAT_2/Mh-AchWann-Ach_wann_kommen/score.musicxml\n",
      "CPDL NO REPEAT_2/Nh_Loewe_Im_Fr%C3%BChling/score.musicxml\n",
      "CPDL NO REPEAT_2/Nh_Drese_Seelenbr%C3%A4utigam/score.musicxml\n",
      "CPDL NO REPEAT_2/The_joys_of_Spring_Smart/score.musicxml\n",
      "CPDL NO REPEAT_2/Thiel_Elslein/score.musicxml\n",
      "CPDL NO REPEAT_2/Nh_Fesca_Blessed/score.musicxml\n",
      "CPDL NO REPEAT_2/Nh_Mendelssohn_Op19a%2C5/score.musicxml\n",
      "CPDL NO REPEAT_2/Wilburn-Agnus_Dei/score.musicxml\n",
      "CPDL NO REPEAT_2/Vulpius_Gelobt/score.musicxml\n",
      "CPDL NO REPEAT_2/O_gladsome_light/score.musicxml\n",
      "CPDL NO REPEAT_2/Nh_Reichardt_Fr%C3%BChlingslied/score.musicxml\n",
      "CPDL NO REPEAT_2/Nh_Gl%C3%A4ser_Engel/score.musicxml\n",
      "CPDL NO REPEAT_2/Nh_Weber_Schlummerlied/score.musicxml\n",
      "CPDL NO REPEAT_2/Mh-Rot25-Partitur/score.musicxml\n",
      "CPDL NO REPEAT_2/Ws-han-ch76/score.musicxml\n",
      "CPDL NO REPEAT_2/Mh-HoeEng-Der_Engel_des_Herrn/score.musicxml\n",
      "CPDL NO REPEAT_2/Tor-tie/score.musicxml\n",
      "CPDL NO REPEAT_2/Mh-JesusDir-Jesus_dir_leb_ich/score.musicxml\n",
      "CPDL NO REPEAT_2/Nh_Homilius_Gottes_Lamm/score.musicxml\n",
      "CPDL NO REPEAT_2/Nh_FranckM_Nun_jauchz/score.musicxml\n",
      "CPDL NO REPEAT_2/Vivaldi-Dixit_Dominus-RV_595-1.Dixit_Dominus/score.musicxml\n",
      "CPDL NO REPEAT_2/Tugend_ist_der_beste_Freund_Schutz/score.musicxml\n",
      "CPDL NO REPEAT_2/Nh_Berner_Am_Grabe_SATB/score.musicxml\n",
      "CPDL NO REPEAT_2/Nh_Szadrowsky_Wem_Gott/score.musicxml\n",
      "CPDL NO REPEAT_2/Nh_ErkL_Augustabend/score.musicxml\n",
      "CPDL NO REPEAT_2/Nh_Aiblinger_Nachtigallen/score.musicxml\n",
      "CPDL NO REPEAT_2/Thiel_Sommerlied/score.musicxml\n",
      "CPDL NO REPEAT_2/Nh_Gl%C3%A4ser_Come_let_us/score.musicxml\n",
      "CPDL NO REPEAT_2/Mh-Emmobl-Emmerig_Offertorium/score.musicxml\n",
      "CPDL NO REPEAT_2/Nh_Zingarelli_Christus/score.musicxml\n",
      "CPDL NO REPEAT_2/Nh_Bortniansky_Heilig_SATB/score.musicxml\n",
      "CPDL NO REPEAT_2/Nh_Wilsing_Gl%C3%BCcklich_TTBB/score.musicxml\n",
      "CPDL NO REPEAT_2/The_Free_Software_Song%2C_Tenorlied/score.musicxml\n",
      "CPDL NO REPEAT_2/Nh_Schumann_141_3/score.musicxml\n",
      "CPDL NO REPEAT_2/Ws-per-avem/score.musicxml\n",
      "CPDL NO REPEAT_2/Zelenka-Credidi_ZWV85-1/score.musicxml\n",
      "CPDL NO REPEAT_2/Nh_Grell_Herr_gedenke_unser/score.musicxml\n",
      "CPDL NO REPEAT_2/Mastioletti_-_Terribilis_est_locus/score.musicxml\n",
      "CPDL NO REPEAT_2/Nh_FescaEF_In_die_Ferne/score.musicxml\n",
      "CPDL NO REPEAT_2/Nh_Kloss_Frieden_SATB/score.musicxml\n"
     ]
    }
   ],
   "source": [
    "#Get the same number of files with score directory 1, the name of accompaniment can be different \n",
    "#in different scores. We filter out data using the file \"info.json\"\n",
    "possible_candidates_with_wrong_lyrics_dir2 = []\n",
    "for music_xml_file_path in correct_files_with_all_voices_dir2_filter_treble:\n",
    "    missing_lyrics = False\n",
    "    #music_xml_file_path = music_xml_file['Parsable Files']\n",
    "    score = music21.converter.parse(music_xml_file_path)\n",
    "    all_lyrics = []\n",
    "    #Get if the file has accompaniment, if yes, then fetch the name from json file and remove it from lyrics list\n",
    "    json_path = os.path.join(os.path.dirname(music_xml_file_path), 'info.json')\n",
    "    with open(json_path, \"r\") as json_file:\n",
    "    # Load the JSON data from the file\n",
    "        data = json.load(json_file)\n",
    "    if data['parts'][-1]['type'] == 'accompaniment':\n",
    "        accompaniment_name = data['parts'][-1]['name']    \n",
    "    \n",
    "    for part in score.parts:\n",
    "        if part.partName == accompaniment_name:\n",
    "            continue\n",
    "        \n",
    "        lyrics_for_part = ''\n",
    "        for note in part.recurse().getElementsByClass('Note'):            \n",
    "            if note.lyric:\n",
    "                lyrics_for_part += note.lyric\n",
    "        processed_string = preprocess_string(lyrics_for_part)\n",
    "        all_lyrics.append(str(processed_string))\n",
    "    #print(all_lyrics)\n",
    "    missing_lyrics = [s=='' for s in all_lyrics]\n",
    "    if any(missing_lyrics):            \n",
    "        print(music_xml_file_path)\n",
    "        possible_candidates_with_wrong_lyrics_dir2.append(music_xml_file_path)"
   ]
  },
  {
   "cell_type": "code",
   "execution_count": 31,
   "id": "45f4b6e3",
   "metadata": {},
   "outputs": [
    {
     "data": {
      "text/plain": [
       "51"
      ]
     },
     "execution_count": 31,
     "metadata": {},
     "output_type": "execute_result"
    }
   ],
   "source": [
    "len(possible_candidates_with_wrong_lyrics_dir2)"
   ]
  },
  {
   "cell_type": "code",
   "execution_count": 33,
   "id": "c2f26330",
   "metadata": {},
   "outputs": [],
   "source": [
    "#Remove the identified songs from the final list\n",
    "for item in correct_files_with_all_voices_dir2_filter_treble:\n",
    "    if item in possible_candidates_with_wrong_lyrics_dir2:\n",
    "        correct_files_with_all_voices_dir2_filter_treble.remove(item)"
   ]
  },
  {
   "cell_type": "code",
   "execution_count": 34,
   "id": "9d8a2bc5",
   "metadata": {},
   "outputs": [
    {
     "data": {
      "text/plain": [
       "373"
      ]
     },
     "execution_count": 34,
     "metadata": {},
     "output_type": "execute_result"
    }
   ],
   "source": [
    "len(correct_files_with_all_voices_dir2_filter_treble)"
   ]
  },
  {
   "cell_type": "code",
   "execution_count": 44,
   "id": "89b2a45c",
   "metadata": {},
   "outputs": [
    {
     "name": "stdout",
     "output_type": "stream",
     "text": [
      "All data saved successfully!\n",
      "All data saved successfully!\n"
     ]
    }
   ],
   "source": [
    "# Save the files in csv \n",
    "#Save the filtered data based on lyrics in a csv\n",
    "file_path_CPDL1 = 'correct_file_names_removed_treble_wrong_lyrics_cpdl_repeat1.csv'\n",
    "file_path_CPDL2 = 'correct_file_names_removed_treble__wrong_lyrics_cpdl_repeat2.csv'\n",
    "# Open the file in write mode\n",
    "with open(file_path_CPDL1, 'w', newline='') as file:\n",
    "    writer = csv.writer(file)\n",
    "    writer.writerow(['Parsable Files'])\n",
    "    for file_name in correct_files_with_all_voices_dir1_filter_treble:\n",
    "        writer.writerow([file_name])\n",
    "\n",
    "# Confirm that the list has been saved\n",
    "print(\"All data saved successfully!\")\n",
    "\n",
    "# Open the file in write mode\n",
    "with open(file_path_CPDL2, 'w', newline='') as file:\n",
    "    writer = csv.writer(file)\n",
    "    writer.writerow(['Parsable Files'])\n",
    "    for file_name in correct_files_with_all_voices_dir2_filter_treble:\n",
    "        writer.writerow([file_name])\n",
    "\n",
    "# Confirm that the list has been saved\n",
    "print(\"All data saved successfully!\")\n"
   ]
  },
  {
   "cell_type": "markdown",
   "id": "1ac1eebc",
   "metadata": {},
   "source": [
    "# Results\n",
    "### We obtain a total of 213 files from folder 1 and 373 files for folder 2 i.e. a total of 586 folders from which we chose 20 songs and mark them as accepted based on manually listening to the accepted files. It is to be noted that a large number of files are rejected in the manual listening experiment "
   ]
  },
  {
   "cell_type": "markdown",
   "id": "a580054f",
   "metadata": {},
   "source": [
    "# Future Work\n",
    "\n",
    "We can add more musically informed criteria to filter out more renditions, however, since the data is not very consistent, it is hard to implement the identified criteria. The other musical criteria for consideration includes:\n",
    "\n",
    "(5) Automatically discard all the folders that, corresponding to strophic chorale songs, have no indication of repetition (repetition bars, da capo or da segno). This could be addressed by simple math calculation knowing the pulse, the time signature, the number of measures and the number of stanzas\n",
    "\n",
    "Comments: Its not easy to identify how many parts are meant for Repeat and so on, and how many times the score is to be repeated\n",
    "\n",
    "(6) Automatically discard all the folders that, instead of relating each note with its corresponding syllable of the verse, put the whole verse continuously in just the first note. As a consequence of this, the voice generation consists on the melody sung by a continuous sound “ah” for all the channels. So, it is possible to automatically discard these folders by detecting in one or more than one audio files, this onomatopoeic generation \n",
    "\n",
    "Comments: This criteria has been implemented by using lyrics information. If the lyrics are absent in any of the score parts, we filter out that score. \n",
    "\n",
    "In the analysis of musicxml scores, it was found that the lyrics information is sometimes included in place of TextExpression at the beginning of the score. The lyrics were not tied to notes in that case, or the first note. We tried implementing a way to filter out using the length of TextExpression, assuming that if the lyrics are indeed included as part of it, the length of TextExpression would be more than say a specific threshold (maybe 30), however, many times the TextExpression consists of some details of the score like the composer etc. Hence, a basic thresholding based criteria does not provide sufficient information to filter based on TextExpression. We decided to go for the lyrics approach thereafter.\n",
    " "
   ]
  },
  {
   "cell_type": "code",
   "execution_count": null,
   "id": "217cefe5",
   "metadata": {},
   "outputs": [],
   "source": []
  }
 ],
 "metadata": {
  "kernelspec": {
   "display_name": "Python 3 (ipykernel)",
   "language": "python",
   "name": "python3"
  },
  "language_info": {
   "codemirror_mode": {
    "name": "ipython",
    "version": 3
   },
   "file_extension": ".py",
   "mimetype": "text/x-python",
   "name": "python",
   "nbconvert_exporter": "python",
   "pygments_lexer": "ipython3",
   "version": "3.9.6"
  }
 },
 "nbformat": 4,
 "nbformat_minor": 5
}
