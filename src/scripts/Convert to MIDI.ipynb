{
 "cells": [
  {
   "cell_type": "code",
   "execution_count": 1,
   "id": "799d8e91",
   "metadata": {},
   "outputs": [
    {
     "name": "stderr",
     "output_type": "stream",
     "text": [
      "/Users/jyotinarang/essentia_env/lib/python3.9/site-packages/urllib3/__init__.py:34: NotOpenSSLWarning: urllib3 v2.0 only supports OpenSSL 1.1.1+, currently the 'ssl' module is compiled with 'LibreSSL 2.8.3'. See: https://github.com/urllib3/urllib3/issues/3020\n",
      "  warnings.warn(\n"
     ]
    }
   ],
   "source": [
    "import music21\n",
    "import os\n",
    "import glob\n",
    "import json\n",
    "import csv\n",
    "import pandas as pd"
   ]
  },
  {
   "cell_type": "code",
   "execution_count": 3,
   "id": "e84aef6e",
   "metadata": {},
   "outputs": [],
   "source": [
    "dataset_dir = '../../Dataset/'\n",
    "all_selected_songs = os.listdir(dataset_dir)"
   ]
  },
  {
   "cell_type": "code",
   "execution_count": 4,
   "id": "33b42a01",
   "metadata": {},
   "outputs": [],
   "source": [
    "#Get the XML/musicXML files from the selected set of songs\n",
    "possible_file_type_extensions = ['*.xml', '*.musicxml']\n",
    "total_correct_files = 0\n",
    "correct_file_names = []\n",
    "for score_file in all_selected_songs:\n",
    "    if score_file=='.DS_Store':\n",
    "        continue\n",
    "    base_path = os.path.join(dataset_dir, score_file)\n",
    "    \n",
    "    for file_extension in possible_file_type_extensions:\n",
    "        musicxml_file = sorted(glob.glob(os.path.join(base_path, file_extension)))\n",
    "        if len(musicxml_file)!= 0:\n",
    "            xml_file_path = musicxml_file[0] \n",
    "    try:\n",
    "        score = music21.converter.parse(xml_file_path)\n",
    "        correct_file_names.append(xml_file_path)\n",
    "    except:\n",
    "        pass"
   ]
  },
  {
   "cell_type": "code",
   "execution_count": 5,
   "id": "85d6b571",
   "metadata": {},
   "outputs": [],
   "source": [
    "#Convert the songs to MIDI\n",
    "for score_file in correct_file_names:\n",
    "    score = music21.converter.parse(score_file)\n",
    "    midi_file_path = os.path.join(os.path.dirname(score_file), 'score.midi')\n",
    "    score.write('midi', midi_file_path)"
   ]
  },
  {
   "cell_type": "code",
   "execution_count": null,
   "id": "7e013161",
   "metadata": {},
   "outputs": [],
   "source": []
  }
 ],
 "metadata": {
  "kernelspec": {
   "display_name": "Python 3 (ipykernel)",
   "language": "python",
   "name": "python3"
  },
  "language_info": {
   "codemirror_mode": {
    "name": "ipython",
    "version": 3
   },
   "file_extension": ".py",
   "mimetype": "text/x-python",
   "name": "python",
   "nbconvert_exporter": "python",
   "pygments_lexer": "ipython3",
   "version": "3.9.6"
  }
 },
 "nbformat": 4,
 "nbformat_minor": 5
}
